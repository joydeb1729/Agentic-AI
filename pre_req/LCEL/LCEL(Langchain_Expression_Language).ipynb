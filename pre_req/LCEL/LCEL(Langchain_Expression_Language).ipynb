{
  "cells": [
    {
      "cell_type": "markdown",
      "metadata": {
        "id": "e9BSbrZq-Uqj"
      },
      "source": [
        "## Transitioning from Old class to New Pipe Base Operator\n",
        "\n",
        "## 1. Understanding `Runnables`\n",
        "- `Runnables` are self-contained units of work.\n",
        "- Can be executed in isolation or combined for complex operations.\n",
        "- Provides flexibility in execution (sync, async, parallel).\n",
        "\n",
        "## 2. `RunnableParallel`\n",
        "- Executes tasks concurrently.\n",
        "- Useful for performance enhancement in scenarios where tasks can run independently.\n",
        "- Syntax example:\n",
        "    ```python\n",
        "    from some_module import RunnableParallel\n",
        "    ```\n",
        "\n",
        "## 3. `RunnablePassthrough`\n",
        "- A simple `Runnable` that passes inputs directly to outputs without modification.\n",
        "- Helpful for debugging or chaining in pipelines.\n",
        "- Example use case:\n",
        "    ```python\n",
        "    from some_module import RunnablePassthrough\n",
        "    passthrough = RunnablePassthrough()\n",
        "    result = passthrough.run(input_data)\n",
        "    ```\n",
        "\n",
        "## 4. `RunnableLambda`\n",
        "- Allows quick, inline definitions of small, custom functions.\n",
        "- Example:\n",
        "    ```python\n",
        "    from some_module import RunnableLambda\n",
        "    lambda_op = RunnableLambda(lambda x: x * 2)\n",
        "    result = lambda_op.run(5)  # Output: 10\n",
        "    ```\n",
        "\n",
        "## 5. Assign Functions\n",
        "- Used to assign values or parameters during execution.\n",
        "- Useful in data pipelines to update intermediate values.\n",
        "\n",
        "## 6. Performance Improvement (Inference Speed)\n",
        "- Focus on optimizing the inference speed by leveraging parallel execution.\n",
        "- Use `RunnableParallel` or batching techniques.\n",
        "- Consider optimizing data pipelines by removing unnecessary steps.\n",
        "\n",
        "## 7. Async Invoke\n",
        "- Executes operations asynchronously, improving the overall throughput of the system.\n",
        "- Syntax example:\n",
        "    ```python\n",
        "    async def async_operation():\n",
        "        result = await some_async_function()\n",
        "    ```\n",
        "\n",
        "## 8. Batch Support\n",
        "- Handles multiple inputs at once to improve performance.\n",
        "- Can be combined with `RunnableParallel` for parallel batch execution.\n",
        "\n",
        "## 9. Async Batch Execution\n",
        "- Combines asynchronous execution with batch processing for high-performance tasks.\n",
        "- Reduces overall execution time for larger datasets.\n",
        "\n",
        "## 10. Using `Itemgetter` with `LCEL`\n",
        "- `Itemgetter` is used to extract specific items from collections.\n",
        "- When combined with `LCEL` (LangChain Execution Layer), it can streamline complex operations.\n",
        "\n",
        "## 11. Bind Tools\n",
        "- `Bind` tools help to connect different steps in the pipeline.\n",
        "- Ensures smooth data flow between various `Runnable` components.\n",
        "\n",
        "## 12. Stream Support\n",
        "- Keep your pipelines more responsive by incorporating stream support for data.\n",
        "- This allows continuous data processing and near real-time outputs.\n",
        "  \n"
      ]
    },
    {
      "cell_type": "code",
      "execution_count": 1,
      "metadata": {},
      "outputs": [],
      "source": [
        "import os"
      ]
    },
    {
      "cell_type": "code",
      "execution_count": 2,
      "metadata": {
        "id": "rxKWe5nxCpRj"
      },
      "outputs": [],
      "source": [
        "os.environ[\"GROQ_API_KEY\"] = os.getenv(\"GROQ_API_KEY\")\n",
        "os.environ[\"GOOGLE_API_KEY\"] = os.getenv(\"GOOGLE_API_KEY\")\n",
        "os.environ[\"LANGSMITH_TRACING_V2\"] = os.getenv(\"LANGSMITH_TRACING_V2\", \"true\")\n",
        "os.environ[\"LANGSMITH_ENDPOINT\"] = os.getenv(\"LANGSMITH_ENDPOINT\")\n",
        "os.environ[\"LANGSMITH_API_KEY\"] = os.getenv(\"LANGSMITH_API_KEY\")\n",
        "os.environ[\"LANGSMITH_PROJECT\"] = \"Rag with Conversation\"\n",
        "\n"
      ]
    },
    {
      "cell_type": "code",
      "execution_count": 3,
      "metadata": {
        "id": "-T6Y59BhC_05"
      },
      "outputs": [
        {
          "name": "stderr",
          "output_type": "stream",
          "text": [
            "d:\\codes\\Agentic-AI\\lg_env\\Lib\\site-packages\\tqdm\\auto.py:21: TqdmWarning: IProgress not found. Please update jupyter and ipywidgets. See https://ipywidgets.readthedocs.io/en/stable/user_install.html\n",
            "  from .autonotebook import tqdm as notebook_tqdm\n"
          ]
        }
      ],
      "source": [
        "from langchain_google_genai import GoogleGenerativeAIEmbeddings\n",
        "embeddings = GoogleGenerativeAIEmbeddings(model=\"models/embedding-001\")\n",
        "from langchain_google_genai import ChatGoogleGenerativeAI\n",
        "llm = ChatGoogleGenerativeAI(model=\"gemini-2.0-flash\")"
      ]
    },
    {
      "cell_type": "code",
      "execution_count": 4,
      "metadata": {
        "colab": {
          "base_uri": "https://localhost:8080/",
          "height": 424,
          "referenced_widgets": [
            "f227a0992bde4673af0fb062aa5b35e8",
            "0f82ee1dd69942bb9c3b7768619237ca",
            "6f535b58873248698e94c5bf9cff6a58",
            "3fbcde1c16644a8083f5ad7141d584a9",
            "5b3ea04a18f341cab660bb8750548975",
            "5bbb9df62d394236885e2e2866846581",
            "9ce089032c6b49f9bf40d637c0efef6e",
            "37733f7c7f584057b9cf7faa0b0c3760",
            "c02b648dd77d4ef0af423890c32f2f30",
            "3c0573e4f8744ddea2654f31cc85ff2d",
            "a77916c64d1d46b3afe624ad02ca4137",
            "33b81cf377fb42a585f77e67399e082b",
            "7fd723a318324a79bf33abfe56d3620d",
            "918ef72969bb4815a8876164cc56d1fc",
            "3483fb7f00f04cef9958e370fb9c8a8c",
            "6da2c67cf3bf4814bcd64dfca244776e",
            "24721c2aad2c4fa590e5bb486341402a",
            "e7f09a2c0ff84825867ee6ec25bc10f7",
            "45f9a0c73f004ef69a76e200309570f4",
            "5566c6a8f8ff40818436490b9e07173e",
            "e08b06fb92d8449db0b357558c25d620",
            "628c5f16be4045ca99d9467fa07bd888",
            "29b6b20ce1b847309bc9549f208bfe39",
            "954fe98f3261408aa10491d96f19e272",
            "0927025465b0492d81409fb71018bd60",
            "e14d291267454ec7a181ddf6929c33bb",
            "0b78598e186a4d1980d5196ffd44cde7",
            "876c972040d24ca8a1e04816afa89866",
            "8b537c3657de40999e86bfecafc583f9",
            "9d71e1827f574c9eadc792509f4d17fb",
            "9101047b368a47418b1af2852dca6309",
            "248c31eb970f4f08aaab64374420adb4",
            "7460ad56137c4789bd01ee3770ebb4d4",
            "e14b79c1eb09499f925c5abc87f9e358",
            "07c4f947bfe245f4adb3cf375f089939",
            "d8f943cdce2a4e30a4a47dad04f05d28",
            "a2114d55fda4451d902c0ef1aa12a428",
            "2965df6c49044b35b3ba6d2cdc24d74d",
            "d7c44beb266141d3875b800de14214aa",
            "423c43f9333c464594d744a6c5d8be8a",
            "ec1075c521644d3f953a16cbe1f2e030",
            "2ce57d428da04626be6995389469ab28",
            "48ca0355d5c740f59db88d4332353ee7",
            "19789d9a79fd4742af4e1dafee03c1b1",
            "6076bc5b88e640a39a45107139036090",
            "7b9ed53198aa46fea9f0875fd07999c5",
            "708cf9ffbd7c4dfd9bb35581026f12d9",
            "bdde8937a9a0463388d84a721b95d31f",
            "a28656b202ea4b75a3dc564616d209f8",
            "09caf4b59d1a4b579a9a590b748c53b6",
            "ba06a80754314d20836a87ded5becb99",
            "f88d5e5fb2734091b1916b578cf4a8b9",
            "381aa0cbbe4044999bca9df41dd00664",
            "f9da47d45cbd423e9c74e48e82452b83",
            "074a6471fdbe40ed9acfbe2f5e949c2f",
            "e8d779e8ed5a4d659c74aa586c169c57",
            "ff51e0815d29426d9304a0d781dafb12",
            "72b6c4c385af44e1bba560296276db76",
            "211627521efb4a829aebb5e64cdd2115",
            "2bcfc3e35bd54e0f8eb411e2accaffd4",
            "f71bb3b2677c43bd8b918346db36be48",
            "b5526335d665446daf7e5837c8dea650",
            "2ff329f286054bcaae5fc27cf67ed36f",
            "fe4a5fec3f0f46eda3d9b1b44a20a4e2",
            "b264cfc0a5c24aa193d246fbc3de15e5",
            "110d0c5bef664638b7977f46f0735905",
            "b3651292353c458099e7e96a8a002096",
            "e220c44bbc18421d8d147ca77e6788bd",
            "53cd5af714e6466cacc1dc92d478b775",
            "d3606dc8cdb141ed8fca43bb6ce043c7",
            "cdc13486cd4d4b35afa107c79675a19d",
            "58d206a51602494abfbffab3f862015b",
            "8fc3256efadb4fb3827e8a88e6acb998",
            "2e525eb63279444fb86403a0ea77addb",
            "1a32af7ea56843d982e2d4f794c6dfe8",
            "85e14014592f492782b195a283ba74ad",
            "131c46f2ecf6494b97829e9ba56d49ee",
            "d12085da77d84d0ab0884a36c3b63a8c",
            "972a61bd9c4d499b938c16a982410ca7",
            "cad4498ad3f64a9c93065415c36adb29",
            "4c7a2b0542674b7aaeccce12591528ed",
            "830add38427f45568eb0700b8136a737",
            "8eac6546a3af4e1597184bd879817cf7",
            "b824f2ae1ac04cd78a093d6e196a7f97",
            "cb1c6c4e740b4a91b4a0f12a5adbe9d7",
            "12061393e24442a1ac19f59df7c8ed02",
            "02b9bc0c2f2f4201b6ff2a2412c5e7a7",
            "18009a48070c44c3a428ebfc174efe15",
            "d1ae802dba1149ca9e4def59a72ec3ba",
            "3b252b6cee3c4543bb8919f80eebe288",
            "56efd36f6e5c4ab29702cf374d442039",
            "290d595d8e58474faee18e36c503249f",
            "aecd0585304f43e5aa8086877e41e679",
            "f408d390719b4587bf89a2e6d4245f39",
            "b4444854e39f4b3eb9c20553aa509790",
            "7548118226e74462b1fb7ccf470707dc",
            "fce994a8f0a742a39d7a009cbcd91db7",
            "c666a1a873e74e1f87570d25e5839c3b",
            "fb08084b416f40818b123916cac094de",
            "0201bd357a964ef28e97bf63947147a0",
            "9b326f532e5f46dd8c64a37ca7d23bfa",
            "b95bc3eb580248ec8f31ef90419f9ce1",
            "316acc82952243649ee78e5bf7357811",
            "1cd8d4ce444d4bf185bf1ce8668486dc",
            "487f9f61b45e4365b0ac0dfc7a64eca3",
            "a5b48868639f494fb1dc7a52ad9a2ab5",
            "53e3b30a041d4a31938adb1cf6d55c46",
            "7c8dbffeb2294ad590974f644847a2c3",
            "9c45a4095bc34f15b4415f58edbb17df",
            "49125bd1de2b46899a52c69d54e6ace0",
            "e8e8700a0b45490992fae82f6e04ccf0",
            "ef43923528a84424bde4490feb99cf6e",
            "dd26fb9910ba4bffaa5d4db648e951ef",
            "715c8f7ed318476faf6dd2309530162f",
            "b15aecf8ca824865934329dd8fb6b232",
            "d132cbcf72a346c9974b776cd7d55d47",
            "dc464f3338c2435b84b75db1f8e6e416",
            "1f29ae9f38694368adc61335125598e0",
            "367c6767a186473d83432d8f38aba8cb",
            "c625fadf89a945a098c8cab8c79edaed",
            "00ddbe52e41b48a890d99c146637f9fc"
          ]
        },
        "id": "PP7O_-5CDLs5",
        "outputId": "621a1489-08f7-46bd-b1e0-93901ae9b04c"
      },
      "outputs": [
        {
          "data": {
            "text/plain": [
              "'from langchain_huggingface import HuggingFaceEmbeddings\\nembeddings=HuggingFaceEmbeddings(model_name=\"all-MiniLM-L6-v2\")\\nfrom langchain_groq import ChatGroq\\nimport os\\nllm=ChatGroq(model_name=\"Gemma2-9b-It\")'"
            ]
          },
          "execution_count": 4,
          "metadata": {},
          "output_type": "execute_result"
        }
      ],
      "source": [
        "'''from langchain_huggingface import HuggingFaceEmbeddings\n",
        "embeddings=HuggingFaceEmbeddings(model_name=\"all-MiniLM-L6-v2\")\n",
        "from langchain_groq import ChatGroq\n",
        "import os\n",
        "llm=ChatGroq(model_name=\"Gemma2-9b-It\")'''"
      ]
    },
    {
      "cell_type": "markdown",
      "metadata": {
        "id": "imELHoVZMR53"
      },
      "source": [
        "# this is my simple chain (old chaining concept)"
      ]
    },
    {
      "cell_type": "code",
      "execution_count": 5,
      "metadata": {
        "id": "pZOC6k1_DSpM"
      },
      "outputs": [],
      "source": [
        "template= 'Hi! I am learning {skill}. Can you suggest me top 5 things to learn?\\n'"
      ]
    },
    {
      "cell_type": "code",
      "execution_count": 6,
      "metadata": {
        "id": "l6nUqQ7NDf0h"
      },
      "outputs": [],
      "source": [
        "from langchain import PromptTemplate"
      ]
    },
    {
      "cell_type": "code",
      "execution_count": 7,
      "metadata": {
        "id": "cqgbDPABDhkL"
      },
      "outputs": [],
      "source": [
        "prompt = PromptTemplate(template=template,input_variables=[\"skill\"])"
      ]
    },
    {
      "cell_type": "code",
      "execution_count": 8,
      "metadata": {
        "colab": {
          "base_uri": "https://localhost:8080/"
        },
        "id": "iVMhFTXfDpmz",
        "outputId": "9d269bdd-2fce-4ef4-aea7-83444fd39597"
      },
      "outputs": [
        {
          "name": "stdout",
          "output_type": "stream",
          "text": [
            "input_variables=['skill'] input_types={} partial_variables={} template='Hi! I am learning {skill}. Can you suggest me top 5 things to learn?\\n'\n"
          ]
        }
      ],
      "source": [
        "print(prompt)"
      ]
    },
    {
      "cell_type": "code",
      "execution_count": 9,
      "metadata": {
        "id": "2n2FbzaUDsHx"
      },
      "outputs": [],
      "source": [
        "from langchain import LLMChain"
      ]
    },
    {
      "cell_type": "code",
      "execution_count": 10,
      "metadata": {
        "id": "bgv6v3kRD1wh"
      },
      "outputs": [
        {
          "name": "stderr",
          "output_type": "stream",
          "text": [
            "C:\\Users\\Durjay PC\\AppData\\Local\\Temp\\ipykernel_7180\\1468533329.py:1: LangChainDeprecationWarning: The class `LLMChain` was deprecated in LangChain 0.1.17 and will be removed in 1.0. Use :meth:`~RunnableSequence, e.g., `prompt | llm`` instead.\n",
            "  llm_chain = LLMChain(prompt=prompt,llm=llm)\n"
          ]
        }
      ],
      "source": [
        "llm_chain = LLMChain(prompt=prompt,llm=llm)"
      ]
    },
    {
      "cell_type": "code",
      "execution_count": 11,
      "metadata": {
        "colab": {
          "base_uri": "https://localhost:8080/"
        },
        "id": "y0vv9CH-EAuR",
        "outputId": "e77a91e6-e5aa-4388-b500-754f41c4134d"
      },
      "outputs": [
        {
          "name": "stderr",
          "output_type": "stream",
          "text": [
            "C:\\Users\\Durjay PC\\AppData\\Local\\Temp\\ipykernel_7180\\421977066.py:1: LangChainDeprecationWarning: The method `Chain.run` was deprecated in langchain 0.1.0 and will be removed in 1.0. Use :meth:`~invoke` instead.\n",
            "  print(llm_chain.run('Data Science'))\n"
          ]
        },
        {
          "name": "stdout",
          "output_type": "stream",
          "text": [
            "Okay, great! Data Science is a vast and exciting field. Here are my top 5 things to learn to get a solid foundation and start making progress, focusing on practicality and building a portfolio:\n",
            "\n",
            "**1. Python Programming (with a focus on Data Science Libraries):**\n",
            "\n",
            "*   **Why:** Python is the dominant language in data science due to its versatility, extensive libraries, and large community.\n",
            "*   **What to Learn:**\n",
            "    *   **Fundamentals:** Variables, data types (lists, dictionaries, tuples, sets), control flow (if/else, loops), functions, object-oriented programming (classes, objects).\n",
            "    *   **Key Libraries:**\n",
            "        *   **NumPy:**  For numerical computing, array manipulation, and linear algebra.  Essential for efficient data handling.\n",
            "        *   **Pandas:**  For data manipulation and analysis, using DataFrames.  Crucial for cleaning, transforming, and exploring data.\n",
            "        *   **Matplotlib:** For basic data visualization.  Learn to create plots, charts, and histograms.\n",
            "        *   **Seaborn:** Built on top of Matplotlib, provides a higher-level interface for creating statistically informative and visually appealing plots.\n",
            "        *   **Scikit-learn:** For machine learning algorithms (regression, classification, clustering, dimensionality reduction, model selection).  This is where you'll implement many of the core machine learning techniques.\n",
            "*   **How to Learn:**\n",
            "    *   **Online Courses:**  Codecademy, DataCamp, Coursera, edX, Udacity, freeCodeCamp.org\n",
            "    *   **Books:**  \"Python Crash Course,\" \"Automate the Boring Stuff with Python,\" \"Python Data Science Handbook\" (Jake VanderPlas).\n",
            "    *   **Practice:**  Work through tutorials, solve coding challenges on platforms like HackerRank, LeetCode (for general Python skills), and Kaggle (for data science problems).  The most important thing is to **build projects**.\n",
            "\n",
            "**2. Statistics and Probability:**\n",
            "\n",
            "*   **Why:**  Data science relies heavily on statistical reasoning to understand data, build models, and interpret results.  Without a solid understanding of statistics, you'll be a \"black box\" user of machine learning algorithms.\n",
            "*   **What to Learn:**\n",
            "    *   **Descriptive Statistics:** Mean, median, mode, standard deviation, variance, percentiles.\n",
            "    *   **Probability:** Basic probability rules, conditional probability, Bayes' theorem.\n",
            "    *   **Distributions:** Normal distribution, binomial distribution, Poisson distribution, t-distribution.\n",
            "    *   **Hypothesis Testing:**  Null hypothesis, alternative hypothesis, p-values, t-tests, chi-squared tests.\n",
            "    *   **Confidence Intervals:** Understanding and interpreting confidence intervals.\n",
            "    *   **Regression Analysis (Linear Regression, Multiple Regression):** Understanding the assumptions and limitations of regression models.\n",
            "*   **How to Learn:**\n",
            "    *   **Online Courses:**  Khan Academy (excellent for foundational statistics), Coursera (e.g., \"Statistics with R\" or \"Statistics with Python\"), edX.\n",
            "    *   **Books:** \"OpenIntro Statistics,\" \"Practical Statistics for Data Scientists\" (Peter Bruce, Andrew Bruce, Peter Gedeck).\n",
            "    *   **Practice:**  Apply statistical concepts to real-world datasets using Python.  Calculate summary statistics, perform hypothesis tests, and build regression models.\n",
            "\n",
            "**3. Data Wrangling and Exploration (using Pandas):**\n",
            "\n",
            "*   **Why:**  Real-world data is messy.  You'll spend a significant amount of time cleaning, transforming, and preparing data for analysis and modeling.  Pandas is your primary tool for this.\n",
            "*   **What to Learn:**\n",
            "    *   **Data Loading and Saving:** Reading data from CSV, Excel, JSON, SQL databases, and other formats.\n",
            "    *   **Data Cleaning:** Handling missing values (imputation, deletion), removing duplicates, correcting errors, standardizing data formats.\n",
            "    *   **Data Transformation:** Filtering, sorting, grouping, aggregating, pivoting, merging, joining data.\n",
            "    *   **Data Exploration:** Calculating summary statistics, creating visualizations (histograms, scatter plots, box plots) to identify patterns and anomalies.\n",
            "*   **How to Learn:**\n",
            "    *   **Pandas Documentation:**  The official Pandas documentation is excellent.\n",
            "    *   **Online Courses:** DataCamp, Coursera, Udemy have courses specifically on Pandas.\n",
            "    *   **Practice:**  Download datasets from Kaggle or other sources and practice cleaning and exploring them.  Focus on common data cleaning tasks.\n",
            "\n",
            "**4. Machine Learning Fundamentals (using Scikit-learn):**\n",
            "\n",
            "*   **Why:**  Machine learning is the core of many data science applications.  You need to understand the different types of machine learning algorithms and how to apply them effectively.\n",
            "*   **What to Learn:**\n",
            "    *   **Supervised Learning:**\n",
            "        *   **Regression:** Linear regression, polynomial regression, decision tree regression, random forest regression.\n",
            "        *   **Classification:** Logistic regression, support vector machines (SVM), decision trees, random forests, k-nearest neighbors (KNN).\n",
            "    *   **Unsupervised Learning:**\n",
            "        *   **Clustering:** K-means clustering, hierarchical clustering.\n",
            "        *   **Dimensionality Reduction:** Principal component analysis (PCA).\n",
            "    *   **Model Evaluation:**  Metrics for evaluating regression models (e.g., RMSE, R-squared) and classification models (e.g., accuracy, precision, recall, F1-score, AUC).\n",
            "    *   **Model Selection and Hyperparameter Tuning:** Cross-validation, grid search, random search.\n",
            "    *   **Bias-Variance Tradeoff:** Understanding the relationship between model complexity and generalization performance.\n",
            "*   **How to Learn:**\n",
            "    *   **Scikit-learn Documentation:**  The Scikit-learn documentation is comprehensive and includes many examples.\n",
            "    *   **Online Courses:**  Coursera (e.g., \"Machine Learning\" by Andrew Ng), Udacity, edX, DataCamp.\n",
            "    *   **Books:** \"Hands-On Machine Learning with Scikit-Learn, Keras & TensorFlow\" (Aurélien Géron), \"Python Machine Learning\" (Sebastian Raschka).\n",
            "    *   **Practice:**  Work through machine learning tutorials and build your own models on real-world datasets.  Focus on understanding the strengths and weaknesses of different algorithms and how to evaluate their performance.\n",
            "\n",
            "**5. Data Visualization:**\n",
            "\n",
            "*   **Why:**  Data visualization is crucial for exploring data, communicating insights, and telling stories with data.  Effective visualizations can reveal patterns and trends that are not apparent from raw data.\n",
            "*   **What to Learn:**\n",
            "    *   **Basic Chart Types:** Histograms, scatter plots, bar charts, line charts, box plots, pie charts.\n",
            "    *   **Advanced Chart Types:** Heatmaps, treemaps, network graphs, geographic maps.\n",
            "    *   **Visualization Principles:**  Choosing the right chart type for the data, using color effectively, avoiding misleading visualizations, creating clear and informative labels and titles.\n",
            "    *   **Visualization Tools:**\n",
            "        *   **Matplotlib:**  Provides a wide range of plotting options.\n",
            "        *   **Seaborn:**  Built on top of Matplotlib, provides a higher-level interface for creating statistically informative and visually appealing plots.\n",
            "        *   **Plotly:** Creates interactive visualizations.\n",
            "        *   **Tableau or Power BI (optional):**  For creating dashboards and interactive reports (more business-focused).\n",
            "*   **How to Learn:**\n",
            "    *   **Online Courses:**  DataCamp, Coursera, Udemy have courses on data visualization with Python.\n",
            "    *   **Books:** \"Storytelling with Data\" (Cole Nussbaumer Knaflic), \"The Visual Display of Quantitative Information\" (Edward Tufte).\n",
            "    *   **Practice:**  Experiment with different chart types and visualization techniques on real-world datasets.  Pay attention to how different visualizations can reveal different patterns and insights.  Replicate visualizations you find online.\n",
            "\n",
            "**Important Considerations:**\n",
            "\n",
            "*   **Projects are Key:**  Don't just passively learn.  Build projects to solidify your understanding and create a portfolio to showcase your skills.  Start with simple projects and gradually increase the complexity.  Kaggle is a great resource for finding datasets and project ideas.\n",
            "*   **Start Small and Iterate:**  Don't try to learn everything at once.  Focus on mastering the fundamentals first, and then gradually expand your knowledge.\n",
            "*   **Stay Up-to-Date:**  The field of data science is constantly evolving.  Keep up with the latest trends and technologies by reading blogs, attending conferences, and participating in online communities.\n",
            "*   **Focus on Understanding the \"Why\":**  Don't just memorize code or formulas.  Try to understand the underlying concepts and principles.  This will help you to apply your knowledge to new problems and situations.\n",
            "*   **Don't Be Afraid to Ask for Help:**  The data science community is very supportive.  Don't be afraid to ask questions on forums like Stack Overflow or Reddit.\n",
            "\n",
            "**Example Project Ideas (to integrate these skills):**\n",
            "\n",
            "*   **Titanic Survival Prediction:** A classic beginner project using Pandas for data cleaning, Scikit-learn for classification (e.g., logistic regression, random forest), and Matplotlib/Seaborn for visualization.\n",
            "*   **House Price Prediction:** Another common project using Pandas for data cleaning, Scikit-learn for regression (e.g., linear regression, random forest), and Matplotlib/Seaborn for visualization.\n",
            "*   **Customer Segmentation:** Use clustering algorithms (e.g., K-means) to segment customers based on their purchasing behavior.\n",
            "*   **Sentiment Analysis:** Analyze text data (e.g., tweets, product reviews) to determine the sentiment (positive, negative, neutral).\n",
            "\n",
            "Good luck with your data science journey! Let me know if you have any more questions.\n"
          ]
        }
      ],
      "source": [
        "print(llm_chain.run('Data Science'))"
      ]
    },
    {
      "cell_type": "code",
      "execution_count": 12,
      "metadata": {
        "colab": {
          "base_uri": "https://localhost:8080/"
        },
        "id": "QSlUMR_BELrZ",
        "outputId": "a5e201d1-f434-4193-a7ee-db7caed30369"
      },
      "outputs": [
        {
          "name": "stdout",
          "output_type": "stream",
          "text": [
            "Okay, great! Data Science is a vast and exciting field. Focusing on these 5 areas will give you a solid foundation and make you a competitive candidate:\n",
            "\n",
            "**Top 5 Things to Learn for Data Science:**\n",
            "\n",
            "1.  **Programming (Python or R):**\n",
            "    *   **Why:** This is the bedrock of data science. You'll use it for data manipulation, analysis, visualization, and model building.\n",
            "    *   **Focus on:**\n",
            "        *   **Python:**\n",
            "            *   **Fundamental Syntax:** Variables, data types, control flow (loops, conditionals), functions.\n",
            "            *   **Key Libraries:**\n",
            "                *   **NumPy:**  Numerical computing, arrays, linear algebra.\n",
            "                *   **Pandas:** Data manipulation, data frames, data cleaning.\n",
            "                *   **Scikit-learn:** Machine learning algorithms (regression, classification, clustering), model evaluation.\n",
            "                *   **Matplotlib & Seaborn:** Data visualization.\n",
            "            *   **R:**\n",
            "                *   **Fundamental Syntax:** Variables, data types, control flow (loops, conditionals), functions.\n",
            "                *   **Key Libraries:**\n",
            "                    *   **dplyr:** Data manipulation and wrangling.\n",
            "                    *   **tidyr:** Data cleaning and reshaping.\n",
            "                    *   **ggplot2:** Advanced and customizable data visualization.\n",
            "                    *   **caret:** Machine learning model training and evaluation.\n",
            "\n",
            "    *   **Recommendation:** Start with Python, as it's more versatile and widely used in industry.  R is excellent for statistical analysis and visualization, so consider learning it later.\n",
            "\n",
            "2.  **Statistics and Probability:**\n",
            "    *   **Why:**  Data science is all about drawing meaningful insights from data.  Understanding statistics and probability is crucial for interpreting results, building valid models, and avoiding common pitfalls.\n",
            "    *   **Focus on:**\n",
            "        *   **Descriptive Statistics:** Mean, median, mode, standard deviation, variance, percentiles.\n",
            "        *   **Probability Distributions:** Normal, binomial, Poisson, exponential.\n",
            "        *   **Hypothesis Testing:**  t-tests, chi-squared tests, ANOVA.  Understanding p-values and statistical significance.\n",
            "        *   **Confidence Intervals:** Estimating population parameters from sample data.\n",
            "        *   **Regression Analysis:** Linear regression, multiple regression.\n",
            "        *   **Bayesian Statistics (Optional but increasingly important):** Bayes' theorem, prior and posterior probabilities.\n",
            "    *   **Resources:**  Online courses (Coursera, edX, Khan Academy), textbooks (e.g., \"OpenIntro Statistics\").\n",
            "\n",
            "3.  **Data Wrangling/Cleaning:**\n",
            "    *   **Why:** Real-world data is messy!  You'll spend a significant portion of your time cleaning, transforming, and preparing data for analysis.\n",
            "    *   **Focus on:**\n",
            "        *   **Handling Missing Values:** Imputation techniques (mean, median, mode, regression-based), deletion.\n",
            "        *   **Data Transformation:** Scaling, normalization, encoding categorical variables.\n",
            "        *   **Data Cleaning:** Removing duplicates, correcting inconsistencies, handling outliers.\n",
            "        *   **Data Integration:** Combining data from multiple sources.\n",
            "    *   **Tools:**  Pandas (Python), dplyr/tidyr (R) are essential.\n",
            "    *   **Practice:**  Work on real-world datasets (e.g., from Kaggle) to gain experience.\n",
            "\n",
            "4.  **Machine Learning:**\n",
            "    *   **Why:** Machine learning algorithms are used to build predictive models and uncover patterns in data.\n",
            "    *   **Focus on:**\n",
            "        *   **Supervised Learning:**\n",
            "            *   **Regression:** Linear regression, polynomial regression, support vector regression, decision tree regression, random forest regression.\n",
            "            *   **Classification:** Logistic regression, k-nearest neighbors (KNN), support vector machines (SVM), decision trees, random forests, Naive Bayes.\n",
            "        *   **Unsupervised Learning:**\n",
            "            *   **Clustering:** K-means clustering, hierarchical clustering, DBSCAN.\n",
            "            *   **Dimensionality Reduction:** Principal component analysis (PCA).\n",
            "        *   **Model Evaluation:**  Metrics for regression (RMSE, MAE, R-squared), metrics for classification (accuracy, precision, recall, F1-score, ROC AUC).  Cross-validation.\n",
            "        *   **Model Selection and Tuning:**  Hyperparameter optimization (grid search, random search).\n",
            "    *   **Libraries:** Scikit-learn (Python), caret (R).\n",
            "    *   **Resources:**  Andrew Ng's Machine Learning course on Coursera is a great starting point.\n",
            "\n",
            "5.  **Data Visualization:**\n",
            "    *   **Why:**  Visualizations are essential for exploring data, communicating insights, and presenting results effectively.\n",
            "    *   **Focus on:**\n",
            "        *   **Common Chart Types:**  Scatter plots, line plots, bar charts, histograms, box plots, heatmaps.\n",
            "        *   **Principles of Effective Visualization:**  Choosing the right chart type for the data, using color effectively, avoiding misleading visualizations.\n",
            "        *   **Storytelling with Data:**  Creating visualizations that tell a clear and compelling story.\n",
            "    *   **Libraries:** Matplotlib, Seaborn (Python), ggplot2 (R).\n",
            "    *   **Tools:** Tableau and Power BI are also great tools to learn for data visualization.\n",
            "\n",
            "**Important Considerations:**\n",
            "\n",
            "*   **Practice, Practice, Practice:** The best way to learn data science is by doing.  Work on projects, participate in Kaggle competitions, and build a portfolio.\n",
            "*   **Stay Updated:**  Data science is a rapidly evolving field.  Keep up with the latest trends and technologies by reading blogs, attending conferences, and following experts on social media.\n",
            "*   **Domain Knowledge:**  While the above are core skills, remember that applying data science effectively requires understanding the specific domain you're working in (e.g., healthcare, finance, marketing).  Try to focus your learning on a domain that interests you.\n",
            "*   **Databases and SQL:**  Understanding how to retrieve and manipulate data from databases is extremely valuable.  Learn SQL (Structured Query Language) to query and manage data.\n",
            "*   **Big Data Technologies (Optional, but increasingly important):**  If you plan to work with very large datasets, you may need to learn technologies like Hadoop, Spark, and cloud computing platforms (AWS, Azure, GCP).\n",
            "\n",
            "**A Suggested Learning Path:**\n",
            "\n",
            "1.  **Python Fundamentals:** Learn the basics of Python syntax, data structures, and control flow.\n",
            "2.  **NumPy and Pandas:** Master data manipulation and analysis using NumPy and Pandas.\n",
            "3.  **Statistics and Probability:**  Build a solid understanding of statistical concepts.\n",
            "4.  **Data Visualization:**  Learn to create compelling visualizations using Matplotlib and Seaborn.\n",
            "5.  **Machine Learning:**  Start with supervised learning algorithms (regression and classification) and then explore unsupervised learning.\n",
            "6.  **SQL:** Learn to query data from databases.\n",
            "7.  **Data Wrangling/Cleaning:**  Practice cleaning and preparing real-world datasets.\n",
            "8.  **Projects:** Work on projects to apply your skills and build a portfolio.\n",
            "\n",
            "Good luck with your data science journey!  It's a challenging but rewarding field.\n"
          ]
        }
      ],
      "source": [
        "print(llm_chain.run({'skill':'Data Science'}))"
      ]
    },
    {
      "cell_type": "markdown",
      "metadata": {
        "id": "Sw-ow6nHNIZQ"
      },
      "source": [
        "# this is a implementation  using LCEL"
      ]
    },
    {
      "cell_type": "code",
      "execution_count": 13,
      "metadata": {
        "colab": {
          "base_uri": "https://localhost:8080/"
        },
        "id": "BkHP_36eEXNp",
        "outputId": "989af42e-3465-4ea3-bf53-3a792bdd8557"
      },
      "outputs": [
        {
          "data": {
            "text/plain": [
              "ChatGoogleGenerativeAI(model='models/gemini-2.0-flash', google_api_key=SecretStr('**********'), client=<google.ai.generativelanguage_v1beta.services.generative_service.client.GenerativeServiceClient object at 0x000001BD4EAD7C50>, default_metadata=())"
            ]
          },
          "execution_count": 13,
          "metadata": {},
          "output_type": "execute_result"
        }
      ],
      "source": [
        "llm"
      ]
    },
    {
      "cell_type": "code",
      "execution_count": 14,
      "metadata": {
        "colab": {
          "base_uri": "https://localhost:8080/"
        },
        "id": "J-SyysJqMd5T",
        "outputId": "a7c01f22-7c96-491d-ee4f-43cbfb7c312f"
      },
      "outputs": [
        {
          "data": {
            "text/plain": [
              "PromptTemplate(input_variables=['skill'], input_types={}, partial_variables={}, template='Hi! I am learning {skill}. Can you suggest me top 5 things to learn?\\n')"
            ]
          },
          "execution_count": 14,
          "metadata": {},
          "output_type": "execute_result"
        }
      ],
      "source": [
        "prompt"
      ]
    },
    {
      "cell_type": "code",
      "execution_count": 15,
      "metadata": {
        "id": "0x3jF1zHMgrT"
      },
      "outputs": [],
      "source": [
        "chain = prompt | llm"
      ]
    },
    {
      "cell_type": "code",
      "execution_count": 16,
      "metadata": {
        "colab": {
          "base_uri": "https://localhost:8080/"
        },
        "id": "HlWhjIxJMlMz",
        "outputId": "718b5767-42b4-45a1-d663-de5d1ec77080"
      },
      "outputs": [
        {
          "name": "stdout",
          "output_type": "stream",
          "text": [
            "content=\"Okay, that's great! Big Data is a huge and exciting field. Here are my top 5 things to learn, focusing on getting you a solid foundation and practical skills:\\n\\n**1.  Fundamentals of Distributed Computing and Data Processing:**\\n\\n*   **Why it's important:** This is the bedrock of Big Data. You need to understand how data is processed and stored across multiple machines.\\n*   **What to learn:**\\n    *   **Distributed Systems Concepts:** Understand concepts like fault tolerance, data consistency, scalability, and parallel processing.  Learn about the CAP theorem.\\n    *   **MapReduce:**  Even though newer frameworks are popular, understand the MapReduce paradigm. It's a foundational concept for parallel data processing.  Know how it works, its limitations, and its advantages.\\n    *   **Distributed File Systems (HDFS):** Learn how data is stored and accessed in a distributed environment.  Understand concepts like data replication, data locality, and namenodes/datanodes.\\n*   **Tools/Technologies:**  While not necessarily *using* MapReduce directly, understanding Hadoop's HDFS is crucial.  Consider reading about Apache Hadoop even if you plan to use other tools primarily.\\n\\n**2.  SQL and NoSQL Databases:**\\n\\n*   **Why it's important:** Big Data often involves a mix of structured and unstructured data. You need to know how to work with both.\\n*   **What to learn:**\\n    *   **SQL:**  Master SQL.  Understand relational database concepts, joins, aggregations, window functions, and optimization techniques.  Be proficient in writing efficient SQL queries.\\n    *   **NoSQL Databases:**  Explore different types of NoSQL databases and their use cases.  Understand the CAP theorem and how it relates to NoSQL database choices.  Focus on one or two types initially.\\n        *   **Key-Value Stores:** (e.g., Redis, Memcached) - Good for caching and simple data storage.\\n        *   **Document Databases:** (e.g., MongoDB, Couchbase) - Good for flexible schemas and semi-structured data.\\n        *   **Column-Family Stores:** (e.g., Apache Cassandra, HBase) - Good for high write throughput and large datasets.\\n        *   **Graph Databases:** (e.g., Neo4j) - Good for relationships and network analysis.\\n*   **Tools/Technologies:**\\n    *   **SQL:**  MySQL, PostgreSQL, SQL Server, Oracle (choose one or two to focus on)\\n    *   **NoSQL:** MongoDB, Cassandra, Redis (choose one or two to start with based on your interests)\\n\\n**3.  Data Processing Frameworks (Spark or Flink):**\\n\\n*   **Why it's important:** These frameworks provide powerful and efficient ways to process large datasets in parallel.\\n*   **What to learn:**\\n    *   **Spark:**  Learn the Spark architecture, Spark Core, Spark SQL (for working with structured data), Spark Streaming (for real-time data processing), and Spark MLlib (for machine learning). Understand RDDs, DataFrames, and Datasets.  Focus on writing efficient Spark jobs.\\n    *   **Flink:**  Learn the Flink architecture, its dataflow programming model, and its support for batch and stream processing.  Understand how Flink handles state management and fault tolerance.\\n*   **Tools/Technologies:**\\n    *   **Apache Spark:**  The industry standard for large-scale data processing.\\n    *   **Apache Flink:**  A powerful alternative to Spark, particularly strong for stream processing.\\n\\n**4.  Cloud Computing (AWS, Azure, or GCP):**\\n\\n*   **Why it's important:** Most Big Data infrastructure is now deployed in the cloud.  Cloud platforms offer scalable and cost-effective solutions for storing, processing, and analyzing data.\\n*   **What to learn:**\\n    *   **Core Cloud Concepts:** Understand IaaS, PaaS, and SaaS.  Learn about virtual machines, storage services, networking, and security.\\n    *   **Big Data Services:**  Explore the cloud-specific Big Data services offered by your chosen provider.\\n        *   **AWS:** EMR (Elastic MapReduce), S3, Redshift, Kinesis, Glue, Athena\\n        *   **Azure:** HDInsight, Azure Data Lake Storage, Azure Synapse Analytics, Azure Stream Analytics, Azure Data Factory\\n        *   **GCP:** Dataproc, Google Cloud Storage, BigQuery, Dataflow, Dataprep\\n*   **Tools/Technologies:**\\n    *   **AWS, Azure, or GCP:** Choose one and focus on its Big Data services.  AWS is currently the most widely used.\\n\\n**5.  Data Visualization and Reporting:**\\n\\n*   **Why it's important:**  You need to be able to communicate your findings effectively to stakeholders.\\n*   **What to learn:**\\n    *   **Data Visualization Principles:**  Learn how to create clear, concise, and informative visualizations.  Understand different chart types and when to use them.\\n    *   **Dashboarding:**  Learn how to create interactive dashboards that allow users to explore data and gain insights.\\n*   **Tools/Technologies:**\\n    *   **Tableau:**  A popular and powerful data visualization tool.\\n    *   **Power BI:**  Microsoft's data visualization tool, tightly integrated with the Microsoft ecosystem.\\n    *   **Looker:**  A data visualization and business intelligence platform (now part of Google Cloud).\\n    *   **Python Libraries (Matplotlib, Seaborn, Plotly):**  Useful for creating custom visualizations within Python scripts.\\n\\n**Important Considerations and Tips:**\\n\\n*   **Start with a Project:**  The best way to learn is by doing.  Find a real-world dataset that interests you and try to build a simple Big Data pipeline.  This will help you solidify your understanding of the concepts and tools.\\n*   **Focus on One Thing at a Time:**  Big Data is a vast field. Don't try to learn everything at once.  Pick one area to focus on and master it before moving on to the next.\\n*   **Stay Up-to-Date:**  The Big Data landscape is constantly evolving.  Keep up with the latest trends and technologies by reading blogs, attending conferences, and participating in online communities.\\n*   **Programming Languages:**  While not a *separate* item, you'll need strong programming skills.  **Python** is the most popular language for Big Data, followed by Java and Scala (especially in the Spark/Flink ecosystem). Choose one and become proficient.\\n*   **Data Ingestion and ETL:** (Extract, Transform, Load) - Learn how to get data *into* your Big Data system.  Tools like Apache Kafka, Apache NiFi, and cloud-specific ETL services are important.\\n*   **Machine Learning:**  While not essential to *start*, consider learning basic machine learning concepts and how to apply them to Big Data using Spark MLlib or other ML frameworks.\\n\\n**Example Learning Path:**\\n\\n1.  **SQL Fundamentals:** Learn basic SQL syntax, queries, and joins.\\n2.  **Python Fundamentals:** Learn the basics of Python programming.\\n3.  **Hadoop/HDFS Concepts:** Understand the fundamentals of distributed file systems and MapReduce.\\n4.  **Spark Basics:** Learn the Spark architecture, RDDs, and DataFrames.\\n5.  **Cloud Basics:** Understand core cloud concepts and services.\\n6.  **Data Visualization:** Learn the basics of Tableau or Power BI.\\n\\nGood luck with your Big Data journey! Let me know if you have any other questions.\" additional_kwargs={} response_metadata={'prompt_feedback': {'block_reason': 0, 'safety_ratings': []}, 'finish_reason': 'STOP', 'safety_ratings': []} id='run--b00edd2c-1123-4159-bc9f-b2e8da471de9-0' usage_metadata={'input_tokens': 20, 'output_tokens': 1628, 'total_tokens': 1648, 'input_token_details': {'cache_read': 0}}\n"
          ]
        }
      ],
      "source": [
        "print(chain.invoke({'skill':'Big Data'}))"
      ]
    },
    {
      "cell_type": "code",
      "execution_count": 17,
      "metadata": {
        "id": "D1g1TnedM08c"
      },
      "outputs": [],
      "source": [
        "from langchain_core.output_parsers import StrOutputParser"
      ]
    },
    {
      "cell_type": "code",
      "execution_count": 18,
      "metadata": {
        "id": "7hLevRtnM4v1"
      },
      "outputs": [],
      "source": [
        "parser = StrOutputParser()"
      ]
    },
    {
      "cell_type": "code",
      "execution_count": 19,
      "metadata": {
        "id": "Y8m8mq1wM7wj"
      },
      "outputs": [],
      "source": [
        "chain = prompt | llm | parser"
      ]
    },
    {
      "cell_type": "code",
      "execution_count": 20,
      "metadata": {
        "colab": {
          "base_uri": "https://localhost:8080/"
        },
        "id": "rQ4mSKFgM_rM",
        "outputId": "d1e81fcf-175e-4efc-d103-718a5a74401c"
      },
      "outputs": [
        {
          "name": "stdout",
          "output_type": "stream",
          "text": [
            "Okay, great! Machine Learning is a fascinating and rapidly evolving field. Here are my top 5 suggestions for things to learn, focusing on a solid foundation and practical application:\n",
            "\n",
            "1.  **Python Programming Fundamentals:**\n",
            "\n",
            "    *   **Why:** Python is the dominant language in ML.  You'll use it for everything from data manipulation to model building and deployment.\n",
            "    *   **Key Concepts:**\n",
            "        *   **Data Structures:** Lists, dictionaries, tuples, sets.  Understanding how to use these effectively is crucial for handling data.\n",
            "        *   **Control Flow:** `if/else` statements, `for` and `while` loops.  Essential for logic and automation.\n",
            "        *   **Functions:** Defining and using functions for code reusability and organization.\n",
            "        *   **Object-Oriented Programming (OOP) Basics:**  Classes and objects, inheritance (a basic understanding is helpful, you don't need to be an OOP expert right away).\n",
            "        *   **File I/O:** Reading and writing data to files (e.g., CSV, text files).\n",
            "        *   **Libraries:**  Learn how to import and use external libraries (like NumPy and Pandas, which are covered below).\n",
            "    *   **Resources:**\n",
            "        *   **Codecademy:** Offers interactive Python courses.\n",
            "        *   **Coursera/edX:**  Search for introductory Python courses.\n",
            "        *   **\"Python Crash Course\" by Eric Matthes:**  A popular and highly-rated book.\n",
            "        *   **Practice:** The most important thing is to write code!  Start with small projects and gradually increase complexity.\n",
            "\n",
            "2.  **NumPy for Numerical Computing:**\n",
            "\n",
            "    *   **Why:** NumPy provides powerful tools for working with arrays (matrices) and performing mathematical operations efficiently.  It's the foundation for almost all ML libraries in Python.\n",
            "    *   **Key Concepts:**\n",
            "        *   **NumPy Arrays:** Creating, indexing, slicing, and manipulating arrays.\n",
            "        *   **Array Operations:**  Arithmetic operations, broadcasting (performing operations on arrays of different shapes), linear algebra operations (matrix multiplication, transpose, etc.).\n",
            "        *   **Mathematical Functions:**  Trigonometric functions, exponential functions, statistical functions.\n",
            "        *   **Random Number Generation:**  Generating random numbers for simulations and model initialization.\n",
            "    *   **Resources:**\n",
            "        *   **NumPy Documentation:** The official documentation is excellent and comprehensive.\n",
            "        *   **SciPy Lectures:**  A good resource that covers NumPy and other scientific computing tools.\n",
            "        *   **Online Tutorials:**  Search for \"NumPy tutorial\" on YouTube or Google.\n",
            "\n",
            "3.  **Pandas for Data Analysis:**\n",
            "\n",
            "    *   **Why:** Pandas provides data structures (like DataFrames) and tools for data cleaning, transformation, and analysis.  It's essential for preparing data for ML models.\n",
            "    *   **Key Concepts:**\n",
            "        *   **DataFrames:** Creating, reading, and writing DataFrames from various file formats (CSV, Excel, etc.).\n",
            "        *   **Data Cleaning:** Handling missing values (NaNs), removing duplicates, correcting errors.\n",
            "        *   **Data Transformation:** Filtering, sorting, grouping, aggregating, and merging data.\n",
            "        *   **Data Exploration:**  Calculating summary statistics, visualizing data with histograms, scatter plots, etc. (often used in conjunction with Matplotlib/Seaborn).\n",
            "    *   **Resources:**\n",
            "        *   **Pandas Documentation:** Another excellent resource from the official developers.\n",
            "        *   **\"Python for Data Analysis\" by Wes McKinney:**  Written by the creator of Pandas.\n",
            "        *   **Kaggle Tutorials:** Kaggle often has tutorials on using Pandas for data analysis.\n",
            "\n",
            "4.  **Fundamental Machine Learning Algorithms:**\n",
            "\n",
            "    *   **Why:** Understanding the core algorithms will give you a solid foundation for more advanced techniques.  Focus on the *concepts* behind the algorithms, not just the code.\n",
            "    *   **Key Algorithms:**\n",
            "        *   **Linear Regression:** For predicting continuous values.\n",
            "        *   **Logistic Regression:** For classification (predicting categories).\n",
            "        *   **Decision Trees:**  For both regression and classification, easy to visualize and interpret.\n",
            "        *   **K-Nearest Neighbors (KNN):** A simple but effective classification algorithm.\n",
            "        *   **K-Means Clustering:**  For unsupervised learning (grouping data points).\n",
            "    *   **Key Concepts to Understand for Each Algorithm:**\n",
            "        *   **How it works:** The underlying mathematical principles.\n",
            "        *   **Assumptions:** What assumptions does the algorithm make about the data?\n",
            "        *   **Strengths and Weaknesses:**  When is it appropriate to use this algorithm?\n",
            "        *   **Hyperparameters:**  What are the important parameters that control the algorithm's behavior?\n",
            "    *   **Libraries:**  Use scikit-learn (`sklearn`) in Python to implement these algorithms.  It provides a consistent and easy-to-use API.\n",
            "    *   **Resources:**\n",
            "        *   **Scikit-learn Documentation:**  Excellent documentation with examples for each algorithm.\n",
            "        *   **\"Hands-On Machine Learning with Scikit-Learn, Keras & TensorFlow\" by Aurélien Géron:** A very popular and practical book.\n",
            "        *   **Coursera/edX:** Search for Machine Learning courses (Andrew Ng's course on Coursera is a classic).\n",
            "        *   **StatQuest on YouTube:**  Josh Starmer's StatQuest channel provides clear and concise explanations of ML concepts.\n",
            "\n",
            "5.  **Model Evaluation and Validation:**\n",
            "\n",
            "    *   **Why:**  It's not enough to just build a model; you need to know how well it performs and how to improve it.  This is crucial for building reliable and accurate models.\n",
            "    *   **Key Concepts:**\n",
            "        *   **Training and Testing Sets:**  Splitting your data into separate sets for training and evaluating the model.\n",
            "        *   **Cross-Validation:**  A more robust technique for evaluating model performance (e.g., k-fold cross-validation).\n",
            "        *   **Evaluation Metrics:**\n",
            "            *   **Regression:** Mean Squared Error (MSE), Root Mean Squared Error (RMSE), R-squared.\n",
            "            *   **Classification:** Accuracy, Precision, Recall, F1-score, AUC-ROC.\n",
            "        *   **Bias-Variance Tradeoff:**  Understanding the tradeoff between underfitting (high bias) and overfitting (high variance).\n",
            "        *   **Regularization:** Techniques to prevent overfitting (e.g., L1 and L2 regularization).\n",
            "        *   **Hyperparameter Tuning:**  Finding the best values for the hyperparameters of your model (e.g., using Grid Search or Random Search).\n",
            "    *   **Resources:**\n",
            "        *   **Scikit-learn Documentation:**  Look for sections on model evaluation and validation.\n",
            "        *   **\"Hands-On Machine Learning with Scikit-Learn, Keras & TensorFlow\" by Aurélien Géron:** Covers these topics in detail.\n",
            "        *   **Kaggle:**  Participate in Kaggle competitions to practice model evaluation and improvement.\n",
            "\n",
            "**Important Considerations:**\n",
            "\n",
            "*   **Practical Experience:**  The best way to learn is by doing.  Work on small projects, participate in Kaggle competitions, or build your own ML applications.\n",
            "*   **Math Fundamentals:**  While you don't need to be a math genius, a basic understanding of linear algebra, calculus, and statistics is helpful.  You can learn these concepts as you go.\n",
            "*   **Don't Get Overwhelmed:**  Machine Learning is a vast field.  Start with the basics and gradually explore more advanced topics as you progress.\n",
            "*   **Stay Up-to-Date:**  The field is constantly evolving, so keep learning and exploring new techniques. Read research papers, follow blogs, and attend conferences.\n",
            "\n",
            "Good luck with your Machine Learning journey!  Let me know if you have any more questions.\n"
          ]
        }
      ],
      "source": [
        "print(chain.invoke({'skill':'Machine Learning'}))"
      ]
    },
    {
      "cell_type": "markdown",
      "metadata": {
        "id": "99PwfyAjNNpv"
      },
      "source": [
        "# lets discuss about the runnables"
      ]
    },
    {
      "cell_type": "code",
      "execution_count": 21,
      "metadata": {
        "id": "6o2eHdFXNDhT"
      },
      "outputs": [],
      "source": [
        "from langchain_core.runnables import RunnableParallel, RunnablePassthrough , RunnableLambda"
      ]
    },
    {
      "cell_type": "code",
      "execution_count": 22,
      "metadata": {
        "id": "thIShr5mNhm_"
      },
      "outputs": [],
      "source": [
        "chain = RunnablePassthrough()"
      ]
    },
    {
      "cell_type": "code",
      "execution_count": 23,
      "metadata": {
        "colab": {
          "base_uri": "https://localhost:8080/",
          "height": 35
        },
        "id": "AQRkFFeMNmLb",
        "outputId": "8999112b-e24b-4d5a-b053-4229ec0f5ee0"
      },
      "outputs": [
        {
          "data": {
            "text/plain": [
              "'Welcome to the notebook!'"
            ]
          },
          "execution_count": 23,
          "metadata": {},
          "output_type": "execute_result"
        }
      ],
      "source": [
        "chain.invoke('Welcome to the notebook!')"
      ]
    },
    {
      "cell_type": "code",
      "execution_count": 24,
      "metadata": {
        "id": "uZ_-Vw1RNzls"
      },
      "outputs": [],
      "source": [
        "chain = RunnablePassthrough() | RunnablePassthrough() | RunnablePassthrough()"
      ]
    },
    {
      "cell_type": "code",
      "execution_count": 25,
      "metadata": {
        "colab": {
          "base_uri": "https://localhost:8080/",
          "height": 35
        },
        "id": "G1TYVRLYN83A",
        "outputId": "9784600c-fa77-4ff5-9745-3b762d6178ff"
      },
      "outputs": [
        {
          "data": {
            "text/plain": [
              "'Welcome to my notebook!'"
            ]
          },
          "execution_count": 25,
          "metadata": {},
          "output_type": "execute_result"
        }
      ],
      "source": [
        "chain.invoke('Welcome to my notebook!')"
      ]
    },
    {
      "cell_type": "code",
      "execution_count": 26,
      "metadata": {
        "id": "fPpAEYVJORUf"
      },
      "outputs": [],
      "source": [
        "def string_upper(input):\n",
        "  return input.upper()"
      ]
    },
    {
      "cell_type": "code",
      "execution_count": 27,
      "metadata": {
        "id": "RkrgncYDN-ej"
      },
      "outputs": [],
      "source": [
        "chain = RunnablePassthrough() | RunnableLambda(string_upper)"
      ]
    },
    {
      "cell_type": "code",
      "execution_count": 28,
      "metadata": {
        "colab": {
          "base_uri": "https://localhost:8080/",
          "height": 35
        },
        "id": "TfkJXhuKOYGj",
        "outputId": "59974653-d974-4513-b418-837231482548"
      },
      "outputs": [
        {
          "data": {
            "text/plain": [
              "'WELCOME TO MY NOTEBOOK!'"
            ]
          },
          "execution_count": 28,
          "metadata": {},
          "output_type": "execute_result"
        }
      ],
      "source": [
        "chain.invoke('Welcome to my notebook!')"
      ]
    },
    {
      "cell_type": "code",
      "execution_count": 29,
      "metadata": {
        "colab": {
          "base_uri": "https://localhost:8080/",
          "height": 141
        },
        "id": "hbipHFRNOm3A",
        "outputId": "f4655d86-4682-416e-cf2f-5e078e298f62"
      },
      "outputs": [
        {
          "ename": "AttributeError",
          "evalue": "'function' object has no attribute 'invoke'",
          "output_type": "error",
          "traceback": [
            "\u001b[31m---------------------------------------------------------------------------\u001b[39m",
            "\u001b[31mAttributeError\u001b[39m                            Traceback (most recent call last)",
            "\u001b[36mCell\u001b[39m\u001b[36m \u001b[39m\u001b[32mIn[29]\u001b[39m\u001b[32m, line 1\u001b[39m\n\u001b[32m----> \u001b[39m\u001b[32m1\u001b[39m \u001b[43mstring_upper\u001b[49m\u001b[43m.\u001b[49m\u001b[43minvoke\u001b[49m(\u001b[33m'\u001b[39m\u001b[33mWelcome to my notebook!\u001b[39m\u001b[33m'\u001b[39m)\n",
            "\u001b[31mAttributeError\u001b[39m: 'function' object has no attribute 'invoke'"
          ]
        }
      ],
      "source": [
        "\n",
        "string_upper.invoke('Welcome to my notebook!')"
      ]
    },
    {
      "cell_type": "markdown",
      "metadata": {},
      "source": [
        "- Because string_upper has no invoke method"
      ]
    },
    {
      "cell_type": "code",
      "execution_count": 49,
      "metadata": {
        "id": "dytKiiXVOm5O"
      },
      "outputs": [],
      "source": [
        "chain = RunnableLambda(string_upper)"
      ]
    },
    {
      "cell_type": "code",
      "execution_count": 50,
      "metadata": {
        "colab": {
          "base_uri": "https://localhost:8080/",
          "height": 35
        },
        "id": "d9LJwI12PAi1",
        "outputId": "263e35f7-4ab8-489f-8dfe-8183cdea32f3"
      },
      "outputs": [
        {
          "data": {
            "text/plain": [
              "'WELCOME TO MY NOTEBOOK!'"
            ]
          },
          "execution_count": 50,
          "metadata": {},
          "output_type": "execute_result"
        }
      ],
      "source": [
        "chain.invoke('Welcome to my notebook!')"
      ]
    },
    {
      "cell_type": "code",
      "execution_count": 51,
      "metadata": {
        "id": "3ZGkNnXjPEWU"
      },
      "outputs": [],
      "source": [
        "chain = RunnableParallel({'x':RunnablePassthrough(),'y':RunnablePassthrough()})"
      ]
    },
    {
      "cell_type": "code",
      "execution_count": 52,
      "metadata": {
        "colab": {
          "base_uri": "https://localhost:8080/"
        },
        "id": "9aBTG_OsPPA8",
        "outputId": "b1ea167d-e1b9-4c25-fe31-0858854cf4bc"
      },
      "outputs": [
        {
          "data": {
            "text/plain": [
              "{'x': 'Joydeb', 'y': 'Joydeb'}"
            ]
          },
          "execution_count": 52,
          "metadata": {},
          "output_type": "execute_result"
        }
      ],
      "source": [
        "chain.invoke(\"Joydeb\")"
      ]
    },
    {
      "cell_type": "code",
      "execution_count": 53,
      "metadata": {
        "colab": {
          "base_uri": "https://localhost:8080/"
        },
        "id": "FSP5r-qxPSjU",
        "outputId": "3f3431bb-1255-42e0-fb48-64c0079666eb"
      },
      "outputs": [
        {
          "data": {
            "text/plain": [
              "{'x': {'name': 'Joydeb', 'notebook': \"Joydeb's notebook\"},\n",
              " 'y': {'name': 'Joydeb', 'notebook': \"Joydeb's notebook\"}}"
            ]
          },
          "execution_count": 53,
          "metadata": {},
          "output_type": "execute_result"
        }
      ],
      "source": [
        "chain.invoke({'name': 'Joydeb','notebook': \"Joydeb's notebook\"})"
      ]
    },
    {
      "cell_type": "code",
      "execution_count": 54,
      "metadata": {
        "id": "wmX6hCbPTJrI"
      },
      "outputs": [
        {
          "data": {
            "text/plain": [
              "<function __main__.<lambda>(x)>"
            ]
          },
          "execution_count": 54,
          "metadata": {},
          "output_type": "execute_result"
        }
      ],
      "source": [
        "lambda x: x['notebook']"
      ]
    },
    {
      "cell_type": "code",
      "execution_count": 55,
      "metadata": {
        "id": "xD3lHrcIQazJ"
      },
      "outputs": [],
      "source": [
        "chain = RunnableParallel({'x':RunnablePassthrough(),'notebook':lambda x: x['notebook']})"
      ]
    },
    {
      "cell_type": "code",
      "execution_count": 57,
      "metadata": {
        "colab": {
          "base_uri": "https://localhost:8080/"
        },
        "id": "3hM3gBqtQcCa",
        "outputId": "665da4fd-07b5-4d97-d70d-1d630b4df5f9"
      },
      "outputs": [
        {
          "data": {
            "text/plain": [
              "{'x': {'name': 'Joydeb', 'notebook': \"Joydeb's notebook\"},\n",
              " 'notebook': \"Joydeb's notebook\"}"
            ]
          },
          "execution_count": 57,
          "metadata": {},
          "output_type": "execute_result"
        }
      ],
      "source": [
        "chain.invoke({'name': 'Joydeb','notebook': \"Joydeb's notebook\"})"
      ]
    },
    {
      "cell_type": "code",
      "execution_count": 58,
      "metadata": {
        "id": "U4SUTxQ0QdUW"
      },
      "outputs": [],
      "source": [
        "def fetch_website(input: dict):\n",
        "    output = input.get('Website','Not found')\n",
        "    return output"
      ]
    },
    {
      "cell_type": "code",
      "execution_count": 59,
      "metadata": {
        "id": "15vR9qJzTs5M"
      },
      "outputs": [],
      "source": [
        "mydict={'name': 'Joydeb','notebook': \"Joydeb's notebook\"}"
      ]
    },
    {
      "cell_type": "code",
      "execution_count": 60,
      "metadata": {
        "colab": {
          "base_uri": "https://localhost:8080/",
          "height": 35
        },
        "id": "DChnkIoFTwpn",
        "outputId": "554609b8-8c43-4dcd-b11d-4508af64d145"
      },
      "outputs": [
        {
          "data": {
            "text/plain": [
              "'Not found'"
            ]
          },
          "execution_count": 60,
          "metadata": {},
          "output_type": "execute_result"
        }
      ],
      "source": [
        "mydict.get(\"website\",\"Not found\")"
      ]
    },
    {
      "cell_type": "code",
      "execution_count": 61,
      "metadata": {
        "id": "r4ApiixHQe0n"
      },
      "outputs": [],
      "source": [
        "chain = RunnableParallel({'Website':RunnablePassthrough() | RunnableLambda(fetch_website),\n",
        "                          'notebook':lambda z: z['notebook']})"
      ]
    },
    {
      "cell_type": "code",
      "execution_count": 62,
      "metadata": {
        "colab": {
          "base_uri": "https://localhost:8080/"
        },
        "id": "7tSnqZ9-QgCI",
        "outputId": "172f2641-4016-4191-bcc2-a0ee696700fd"
      },
      "outputs": [
        {
          "data": {
            "text/plain": [
              "{'Website': 'Not found', 'notebook': \"Joydeb's notebook\"}"
            ]
          },
          "execution_count": 62,
          "metadata": {},
          "output_type": "execute_result"
        }
      ],
      "source": [
        "chain.invoke({'name': 'Joydeb','notebook': \"Joydeb's notebook\"})"
      ]
    },
    {
      "cell_type": "code",
      "execution_count": 63,
      "metadata": {
        "colab": {
          "base_uri": "https://localhost:8080/"
        },
        "id": "P9UWY3o2QhcI",
        "outputId": "6536bcbc-28c3-4802-a672-264f50b3e13f"
      },
      "outputs": [
        {
          "data": {
            "text/plain": [
              "{'Website': 'Not found', 'notebook': \"Joydeb's notebook\"}"
            ]
          },
          "execution_count": 63,
          "metadata": {},
          "output_type": "execute_result"
        }
      ],
      "source": [
        "chain.invoke({'name': 'Joydeb','notebook': \"Joydeb's notebook\", \"website\": \"joydebai.com\"})"
      ]
    },
    {
      "cell_type": "code",
      "execution_count": 64,
      "metadata": {
        "id": "4xKCFIioQi8Y"
      },
      "outputs": [],
      "source": [
        "def extra_func(input):\n",
        "    return 'Happy Learning'"
      ]
    },
    {
      "cell_type": "code",
      "execution_count": 65,
      "metadata": {
        "id": "ymBvP7r9QkTv"
      },
      "outputs": [],
      "source": [
        "chain = RunnableParallel({'x' : RunnablePassthrough()}).assign(extra=RunnableLambda(extra_func))"
      ]
    },
    {
      "cell_type": "code",
      "execution_count": 66,
      "metadata": {
        "id": "W6ZoETBaUf4f"
      },
      "outputs": [],
      "source": [
        "chain = RunnableParallel({'x' : RunnablePassthrough()}).assign(y=RunnableLambda(extra_func))"
      ]
    },
    {
      "cell_type": "code",
      "execution_count": 67,
      "metadata": {
        "colab": {
          "base_uri": "https://localhost:8080/"
        },
        "id": "cIYfRydBQliP",
        "outputId": "1fa3bb6c-c429-4a48-e353-9674a2ab7c9d"
      },
      "outputs": [
        {
          "data": {
            "text/plain": [
              "{'x': 'Hello', 'y': 'Happy Learning'}"
            ]
          },
          "execution_count": 67,
          "metadata": {},
          "output_type": "execute_result"
        }
      ],
      "source": [
        "chain.invoke('Hello')"
      ]
    },
    {
      "cell_type": "code",
      "execution_count": 69,
      "metadata": {
        "id": "oxWNmfPJUrZs"
      },
      "outputs": [],
      "source": [
        "from langchain_community.document_loaders import TextLoader, DirectoryLoader\n",
        "from langchain.text_splitter import RecursiveCharacterTextSplitter\n",
        "from langchain_community.vectorstores import Chroma\n",
        "\n",
        "### Reading the txt files from doc directory\n",
        "\n",
        "loader = DirectoryLoader('./doc', glob=\"./*.txt\", loader_cls=TextLoader)\n",
        "docs = loader.load()\n",
        "\n",
        "### Creating Chunks using RecursiveCharacterTextSplitter\n",
        "\n",
        "text_splitter = RecursiveCharacterTextSplitter(\n",
        "    chunk_size=50,\n",
        "    chunk_overlap=10,\n",
        "    length_function=len\n",
        ")\n",
        "new_docs = text_splitter.split_documents(documents=docs)\n",
        "doc_strings = [doc.page_content for doc in new_docs]\n",
        "\n",
        "###  BGE Embddings\n",
        "\n",
        "'''from langchain.embeddings import HuggingFaceBgeEmbeddings\n",
        "\n",
        "model_name = \"BAAI/bge-base-en-v1.5\"\n",
        "model_kwargs = {'device': 'cpu'}\n",
        "encode_kwargs = {'normalize_embeddings': True} # set True to compute cosine similarity\n",
        "embeddings = HuggingFaceBgeEmbeddings(\n",
        "    model_name=model_name,\n",
        "    model_kwargs=model_kwargs,\n",
        "    encode_kwargs=encode_kwargs,\n",
        ")\n",
        "'''\n",
        "\n",
        "### Creating Retriever using Vector DB\n",
        "\n",
        "db = Chroma.from_documents(new_docs, embeddings)\n",
        "retriever = db.as_retriever(search_kwargs={\"k\": 4})"
      ]
    },
    {
      "cell_type": "code",
      "execution_count": 70,
      "metadata": {
        "id": "mRV0rT9bVRqo"
      },
      "outputs": [],
      "source": [
        "template = \"\"\"Answer the question based only on the following context:\n",
        "{context}\n",
        "\n",
        "Question: {question}\n",
        "\"\"\"\n",
        "prompt = PromptTemplate.from_template(template)\n"
      ]
    },
    {
      "cell_type": "code",
      "execution_count": 71,
      "metadata": {
        "id": "gRn_Zn3fUusE"
      },
      "outputs": [],
      "source": [
        "retrieval_chain = (\n",
        "    RunnableParallel({\"context\": retriever, \"question\": RunnablePassthrough()})\n",
        "    | prompt\n",
        "    | llm\n",
        "    | StrOutputParser()\n",
        "    )"
      ]
    },
    {
      "cell_type": "code",
      "execution_count": 72,
      "metadata": {
        "id": "xH0TxuFLU06x"
      },
      "outputs": [],
      "source": [
        "question =\"what is llama3? can you highlight 3 important points?\""
      ]
    },
    {
      "cell_type": "code",
      "execution_count": 73,
      "metadata": {
        "colab": {
          "base_uri": "https://localhost:8080/",
          "height": 53
        },
        "id": "lQbsuB43Vc-L",
        "outputId": "0a35d312-2949-4368-856c-d89d4e729da3"
      },
      "outputs": [
        {
          "data": {
            "text/plain": [
              "'Based on the provided documents:\\n\\nLLaMA 3 (Large Language Model Meta AI 3) is:\\n\\n*   Widely used for research and development.\\n*   Designed to be competitive.\\n*   Released in 2024.'"
            ]
          },
          "execution_count": 73,
          "metadata": {},
          "output_type": "execute_result"
        }
      ],
      "source": [
        "retrieval_chain.invoke(question)"
      ]
    },
    {
      "cell_type": "markdown",
      "metadata": {},
      "source": [
        "### Synchronus vs Asynchronus"
      ]
    },
    {
      "cell_type": "code",
      "execution_count": 79,
      "metadata": {
        "colab": {
          "base_uri": "https://localhost:8080/"
        },
        "id": "kHqEw55uVgVd",
        "outputId": "37a7e6e7-2c1d-40f0-a352-59b14c01095b"
      },
      "outputs": [
        {
          "name": "stdout",
          "output_type": "stream",
          "text": [
            "Time taken: 1.5644686222076416\n"
          ]
        },
        {
          "name": "stderr",
          "output_type": "stream",
          "text": [
            "C:\\Users\\Durjay PC\\AppData\\Local\\Temp\\ipykernel_7180\\1339747352.py:5: RuntimeWarning: coroutine 'RunnableSequence.ainvoke' was never awaited\n",
            "  result = retrieval_chain.invoke(question)\n",
            "RuntimeWarning: Enable tracemalloc to get the object allocation traceback\n"
          ]
        }
      ],
      "source": [
        "import time\n",
        "\n",
        "start_time = time.time()\n",
        "\n",
        "result = retrieval_chain.invoke(question)\n",
        "\n",
        "print('Time taken:',time.time() - start_time)"
      ]
    },
    {
      "cell_type": "code",
      "execution_count": 80,
      "metadata": {
        "colab": {
          "base_uri": "https://localhost:8080/"
        },
        "id": "Tk71kT4ZVnrT",
        "outputId": "6d2de3fd-57b3-4a66-9057-5be9fbabc25d"
      },
      "outputs": [
        {
          "name": "stdout",
          "output_type": "stream",
          "text": [
            "Time taken: 0.0\n"
          ]
        }
      ],
      "source": [
        "start_time = time.time()\n",
        "\n",
        "result = retrieval_chain.ainvoke(question)\n",
        "\n",
        "print('Time taken:',time.time() - start_time)"
      ]
    },
    {
      "cell_type": "code",
      "execution_count": 81,
      "metadata": {
        "colab": {
          "base_uri": "https://localhost:8080/"
        },
        "id": "2bjWjZHKV4WS",
        "outputId": "b92165ae-7cd2-4b15-eb39-8fc2d325a30f"
      },
      "outputs": [
        {
          "name": "stdout",
          "output_type": "stream",
          "text": [
            "Time taken: 3.4914324283599854\n"
          ]
        }
      ],
      "source": [
        "start_time = time.time()\n",
        "\n",
        "batch_output = retrieval_chain.batch([\n",
        "                        \"what is llama3?\",\n",
        "                        \"can you highlight 3 main properties?\"\n",
        "                       ])\n",
        "\n",
        "print('Time taken:',time.time() - start_time)"
      ]
    },
    {
      "cell_type": "code",
      "execution_count": 82,
      "metadata": {
        "colab": {
          "base_uri": "https://localhost:8080/"
        },
        "id": "YlEAL3OPV55X",
        "outputId": "5144a8bc-0a40-484d-d17b-a301c3d1bc0b"
      },
      "outputs": [
        {
          "data": {
            "text/plain": [
              "['LLaMA 3 (Large Language Model Meta AI 3) is the.',\n",
              " 'Based on the provided context, here are three main properties of LLaMA 3:\\n\\n1.  It is widely used for research and development.\\n2.  LLaMA 3 models are designed to be competitive.\\n3.  It has 8B and 70B parameters.']"
            ]
          },
          "execution_count": 82,
          "metadata": {},
          "output_type": "execute_result"
        }
      ],
      "source": [
        "batch_output"
      ]
    },
    {
      "cell_type": "code",
      "execution_count": 83,
      "metadata": {
        "colab": {
          "base_uri": "https://localhost:8080/"
        },
        "id": "A0Odh6PiV7i4",
        "outputId": "0d03839c-6f1c-4938-9936-5b0c99ebed2f"
      },
      "outputs": [
        {
          "name": "stdout",
          "output_type": "stream",
          "text": [
            "Time taken: 3.8755598068237305\n"
          ]
        }
      ],
      "source": [
        "start_time = time.time()\n",
        "\n",
        "batch_output = await retrieval_chain.abatch([\n",
        "                        \"what is llama3?\",\n",
        "                        \"can you highlight 3 main properties?\"\n",
        "                       ])\n",
        "\n",
        "print('Time taken:',time.time() - start_time)"
      ]
    },
    {
      "cell_type": "code",
      "execution_count": 84,
      "metadata": {
        "id": "uye5uA4SV83i"
      },
      "outputs": [
        {
          "data": {
            "text/plain": [
              "['LLaMA 3 (Large Language Model Meta AI 3) is the.',\n",
              " 'Based on the provided context, 3 main properties are:\\n\\n1.  8B and 70B parameters.\\n2.  Widely used for research, development.\\n3.  Designed to be competitive.']"
            ]
          },
          "execution_count": 84,
          "metadata": {},
          "output_type": "execute_result"
        }
      ],
      "source": [
        "batch_output"
      ]
    },
    {
      "cell_type": "code",
      "execution_count": 85,
      "metadata": {
        "colab": {
          "base_uri": "https://localhost:8080/"
        },
        "id": "im5Guk7eWDwl",
        "outputId": "86fb4bcc-e6cd-493f-dbdf-a0bcc10a449c"
      },
      "outputs": [
        {
          "data": {
            "text/plain": [
              "{'name': 'Joydeb', 'notebook': \"Joydeb's notebook\", 'website': 'joydebai.com'}"
            ]
          },
          "execution_count": 85,
          "metadata": {},
          "output_type": "execute_result"
        }
      ],
      "source": [
        "my_dict = {'name': 'Joydeb','notebook': \"Joydeb's notebook\", \"website\": \"joydebai.com\"}\n",
        "my_dict"
      ]
    },
    {
      "cell_type": "code",
      "execution_count": 88,
      "metadata": {
        "id": "tZ4vG0XaWFbB"
      },
      "outputs": [],
      "source": [
        "from operator import itemgetter\n",
        "\n",
        "website = itemgetter('website')"
      ]
    },
    {
      "cell_type": "code",
      "execution_count": 89,
      "metadata": {
        "colab": {
          "base_uri": "https://localhost:8080/",
          "height": 35
        },
        "id": "zEPPAK3yWGiw",
        "outputId": "a3cabbb1-66d0-4b0e-b919-9a1006a6c434"
      },
      "outputs": [
        {
          "data": {
            "text/plain": [
              "'joydebai.com'"
            ]
          },
          "execution_count": 89,
          "metadata": {},
          "output_type": "execute_result"
        }
      ],
      "source": [
        "website(my_dict)"
      ]
    },
    {
      "cell_type": "code",
      "execution_count": 90,
      "metadata": {
        "id": "gvKpRIcHYQeh"
      },
      "outputs": [],
      "source": [
        "template = \"\"\"Answer the question based only on the following context:\n",
        "{context}\n",
        "\n",
        "Question: {question}\n",
        "\n",
        "Answer in the following language: {language}\n",
        "\"\"\"\n",
        "prompt = PromptTemplate.from_template(template)\n"
      ]
    },
    {
      "cell_type": "code",
      "execution_count": 91,
      "metadata": {
        "id": "lhl9vll7WIEY"
      },
      "outputs": [],
      "source": [
        "retrieval_chain = (\n",
        "    RunnableParallel({\"context\": itemgetter('question') | retriever,\n",
        "                       \"question\": itemgetter('question'),\n",
        "                       \"language\": itemgetter('language')\n",
        "                       })\n",
        "    | prompt\n",
        "    | llm\n",
        "    | StrOutputParser()\n",
        "    )"
      ]
    },
    {
      "cell_type": "code",
      "execution_count": 92,
      "metadata": {
        "colab": {
          "base_uri": "https://localhost:8080/"
        },
        "id": "73Rl5KYZWJCh",
        "outputId": "596b6ccf-bf12-45f4-c6a6-c628c87a5710"
      },
      "outputs": [
        {
          "name": "stdout",
          "output_type": "stream",
          "text": [
            "LLaMA 3 (Large Language Model Meta AI 3) es un modelo de lenguaje grande.\n"
          ]
        }
      ],
      "source": [
        "### itemgetter only works with dictionaries , input has to be a dict\n",
        "\n",
        "response = retrieval_chain.invoke({'question': \"what is llama3?\",\n",
        "                        'language': \"Spnish\"})\n",
        "\n",
        "print(response)"
      ]
    },
    {
      "cell_type": "code",
      "execution_count": 93,
      "metadata": {
        "id": "EDevsLI3WL8w"
      },
      "outputs": [],
      "source": [
        "template = 'Hi! I am learning {skill}. Can you suggest me top 5 things to learn?\\n'\n",
        "\n",
        "prompt = PromptTemplate.from_template(template=template)\n",
        "\n",
        "chain = prompt | llm"
      ]
    },
    {
      "cell_type": "code",
      "execution_count": 95,
      "metadata": {
        "colab": {
          "base_uri": "https://localhost:8080/"
        },
        "id": "pJv0bVtUWNCG",
        "outputId": "c2679e08-6dcc-43af-e29a-898a93c0cd4e"
      },
      "outputs": [
        {
          "name": "stdout",
          "output_type": "stream",
          "text": [
            "Okay, great! Big Data is a vast and exciting field. Here are my top 5 suggestions for things to learn, focusing on practicality and building a solid foundation:\n",
            "\n",
            "1.  **Core Concepts & Hadoop Ecosystem:**\n",
            "\n",
            "    *   **Why:**  Understanding the *why* behind Big Data is crucial.  Learn about the problems it solves: Volume, Velocity, Variety, Veracity, and Value (the 5 V's). You need to understand the challenges of processing massive datasets and the distributed computing paradigm.\n",
            "    *   **What to Learn:**\n",
            "        *   **Distributed Computing Principles:** Master-Slave architecture, MapReduce paradigm, fault tolerance, data locality.\n",
            "        *   **Hadoop Distributed File System (HDFS):**  Learn how data is stored and accessed in a distributed manner.  Understand blocks, replication, and NameNode/DataNode architecture.\n",
            "        *   **MapReduce:**  Learn the fundamental programming model for processing data in parallel.  Understand the Map, Shuffle, and Reduce phases. Even if you don't write MapReduce jobs directly, understanding the concept is key.\n",
            "        *   **YARN (Yet Another Resource Negotiator):**  Learn how YARN manages resources (CPU, memory) across the cluster and allows different processing engines to run on Hadoop.\n",
            "    *   **Why this is important:** This is the foundation upon which everything else is built.  Even if you move to more modern technologies, understanding these core principles will make you a much more effective Big Data engineer.\n",
            "\n",
            "2.  **SQL & Data Warehousing Concepts:**\n",
            "\n",
            "    *   **Why:**  SQL is the lingua franca of data.  Even in the Big Data world, you'll need to query, transform, and analyze data using SQL or SQL-like languages. Understanding data warehousing principles helps you organize and structure data for analysis.\n",
            "    *   **What to Learn:**\n",
            "        *   **SQL Fundamentals:**  SELECT, INSERT, UPDATE, DELETE, JOINs (inner, outer, left, right), WHERE clause, GROUP BY, HAVING, aggregate functions (COUNT, SUM, AVG, MAX, MIN).\n",
            "        *   **Window Functions:**  LAG, LEAD, RANK, ROW_NUMBER (very useful for analytical queries).\n",
            "        *   **Data Warehousing Concepts:**  Schemas (star, snowflake), ETL (Extract, Transform, Load), dimensional modeling, fact tables, dimension tables.\n",
            "        *   **SQL-on-Hadoop Technologies (choose one or two):**\n",
            "            *   **Apache Hive:**  Provides a SQL-like interface for querying data stored in HDFS.  Good for batch processing and data warehousing tasks.\n",
            "            *   **Apache Impala:**  A massively parallel processing (MPP) SQL query engine optimized for low-latency queries on data stored in HDFS and other storage formats.\n",
            "            *   **Presto/Trino:** A distributed SQL query engine designed to query data sources of all sizes.\n",
            "    *   **Why this is important:**  You'll use SQL constantly for data analysis, reporting, and building data pipelines.  Understanding data warehousing principles will help you design efficient data models for your Big Data applications.\n",
            "\n",
            "3.  **Spark (and/or Flink):**\n",
            "\n",
            "    *   **Why:**  Spark is the dominant Big Data processing engine. It's fast, versatile, and has a rich ecosystem of libraries for data processing, machine learning, graph processing, and streaming. Flink is also a strong contender, especially for streaming applications.\n",
            "    *   **What to Learn:**\n",
            "        *   **Spark Core:** RDDs (Resilient Distributed Datasets), transformations (map, filter, reduceByKey, etc.), actions (collect, count, saveAsTextFile, etc.), lazy evaluation, partitioning.\n",
            "        *   **Spark SQL:**  DataFrames, Datasets, Spark SQL queries, working with different data formats (Parquet, Avro, JSON, CSV).\n",
            "        *   **Spark Streaming (or Flink):**  Processing real-time data streams.  Learn about windowing, state management, and fault tolerance in streaming applications.        *   **PySpark (if you prefer Python):**  The Python API for Spark.  Very popular for data science and machine learning.\n",
            "        *   **Flink (if you are very interested in streaming):** Flink is a streaming-first engine, which means that it handles both batch and stream processing as a special case of streaming.\n",
            "    *   **Why this is important:** Spark is a workhorse for Big Data processing.  You'll use it for ETL, data analysis, machine learning, and building real-time applications.\n",
            "\n",
            "4.  **NoSQL Databases:**\n",
            "\n",
            "    *   **Why:**  Relational databases (SQL) are not always the best choice for storing and retrieving Big Data. NoSQL databases offer different data models (key-value, document, column-family, graph) that are better suited for certain use cases.\n",
            "    *   **What to Learn:**\n",
            "        *   **Key-Value Stores (e.g., Redis, Memcached):**  Simple and fast for caching and session management.\n",
            "        *   **Document Databases (e.g., MongoDB):**  Store data as JSON-like documents.  Good for flexible schemas and semi-structured data.\n",
            "        *   **Column-Family Databases (e.g., Apache Cassandra, Apache HBase):**  Designed for high write throughput and scalability.  Good for time-series data and event logging.\n",
            "        *   **Graph Databases (e.g., Neo4j):**  Store data as nodes and relationships.  Good for social networks, recommendation systems, and knowledge graphs.\n",
            "        *   **Choose one or two NoSQL databases to focus on.**  Consider the use cases you're most interested in.\n",
            "    *   **Why this is important:**  You'll need to choose the right database for the job.  Understanding the strengths and weaknesses of different NoSQL databases will help you design scalable and performant data storage solutions.\n",
            "\n",
            "5.  **Cloud Computing (AWS, Azure, or GCP):**\n",
            "\n",
            "    *   **Why:**  Most Big Data infrastructure is now deployed in the cloud.  Learning about cloud services will allow you to build and manage Big Data pipelines more efficiently and cost-effectively.\n",
            "    *   **What to Learn:**\n",
            "        *   **Cloud Storage (e.g., AWS S3, Azure Blob Storage, Google Cloud Storage):**  Storing large datasets in the cloud.\n",
            "        *   **Cloud Compute (e.g., AWS EC2, Azure Virtual Machines, Google Compute Engine):**  Running Big Data processing engines (Spark, Flink) in the cloud.\n",
            "        *   **Managed Big Data Services (e.g., AWS EMR, Azure HDInsight, Google Cloud Dataproc):**  Simplified deployment and management of Hadoop and Spark clusters.\n",
            "        *   **Data Warehousing Services (e.g., AWS Redshift, Azure Synapse Analytics, Google BigQuery):** Cloud-based data warehouses for analytical workloads.\n",
            "        *   **Data Lake Services (e.g., AWS Lake Formation, Azure Data Lake Storage, Google Cloud Storage):** Data lakes offer storage for structured and unstructured data.\n",
            "        *   **Choose one cloud provider to focus on initially.** AWS is currently the most popular, but Azure and GCP are rapidly gaining traction.\n",
            "    *   **Why this is important:**  You'll need to be able to deploy and manage Big Data infrastructure in the cloud.  Cloud providers offer a wide range of services that can simplify Big Data development and operations.\n",
            "\n",
            "**Bonus:**\n",
            "\n",
            "*   **Data Visualization:** Learn tools like Tableau, Power BI, or open-source options like Matplotlib and Seaborn (Python) to effectively communicate insights from your data.\n",
            "*   **ETL Tools:**  Consider learning tools like Apache NiFi or Apache Airflow for building and managing data pipelines.\n",
            "\n",
            "**How to Learn:**\n",
            "\n",
            "*   **Online Courses:**  Coursera, Udemy, edX, DataCamp, and Udacity offer excellent Big Data courses.\n",
            "*   **Books:**  \"Hadoop: The Definitive Guide\" by Tom White, \"Spark: The Definitive Guide\" by Matei Zaharia and Bill Chambers, and \"Designing Data-Intensive Applications\" by Martin Kleppmann are highly recommended.\n",
            "*   **Projects:**  The best way to learn is by doing.  Work on personal projects or contribute to open-source projects.  Try to build a simple Big Data pipeline that ingests data, processes it, and stores it in a database.\n",
            "*   **Documentation:**  Read the official documentation for the technologies you're learning.\n",
            "*   **Community:**  Join online communities (Stack Overflow, Reddit) and attend meetups and conferences.\n",
            "\n",
            "**Important Considerations:**\n",
            "\n",
            "*   **Focus on the fundamentals:** Don't try to learn everything at once.  Start with the core concepts and gradually expand your knowledge.\n",
            "*   **Choose a specialization:**  Big Data is a broad field.  Consider specializing in a particular area, such as data engineering, data science, or data analytics.\n",
            "*   **Stay up-to-date:**  The Big Data landscape is constantly evolving.  Keep learning and experimenting with new technologies.\n",
            "\n",
            "Good luck with your Big Data journey! Let me know if you have more questions."
          ]
        }
      ],
      "source": [
        "for s in chain.stream({'skill':'Big Data'}):\n",
        "    print(s.content,end='')"
      ]
    },
    {
      "cell_type": "code",
      "execution_count": 96,
      "metadata": {
        "id": "bpmGR1mbWPdp"
      },
      "outputs": [],
      "source": [
        "import json\n",
        "from langchain_core.messages import ToolMessage\n",
        "from langchain_core.tools import tool\n",
        "from langchain_core.utils.function_calling import convert_to_openai_tool\n",
        "\n",
        "@tool\n",
        "def multiply(first_number: int, second_number: int):\n",
        "    \"\"\"Multiplies two numbers together.\"\"\"\n",
        "    return first_number * second_number\n",
        "\n",
        "model_with_tools = llm.bind(tools=[convert_to_openai_tool(multiply)])"
      ]
    },
    {
      "cell_type": "code",
      "execution_count": 97,
      "metadata": {
        "id": "mMG5ND6rWRDr"
      },
      "outputs": [],
      "source": [
        "response = model_with_tools.invoke('What is 35 * 46?')"
      ]
    },
    {
      "cell_type": "code",
      "execution_count": 98,
      "metadata": {
        "id": "PijeN4AUWSFN"
      },
      "outputs": [
        {
          "data": {
            "text/plain": [
              "AIMessage(content='', additional_kwargs={'function_call': {'name': 'multiply', 'arguments': '{\"second_number\": 46.0, \"first_number\": 35.0}'}}, response_metadata={'prompt_feedback': {'block_reason': 0, 'safety_ratings': []}, 'finish_reason': 'STOP', 'safety_ratings': []}, id='run--41ffe1d8-12ab-496e-9d59-2900f4235a0b-0', tool_calls=[{'name': 'multiply', 'args': {'second_number': 46.0, 'first_number': 35.0}, 'id': '22fac5a8-b82c-42f5-8272-ac986100adf9', 'type': 'tool_call'}], usage_metadata={'input_tokens': 32, 'output_tokens': 9, 'total_tokens': 41, 'input_token_details': {'cache_read': 0}})"
            ]
          },
          "execution_count": 98,
          "metadata": {},
          "output_type": "execute_result"
        }
      ],
      "source": [
        "response"
      ]
    }
  ],
  "metadata": {
    "colab": {
      "authorship_tag": "ABX9TyNeJZ3T3sy685liBqGIgoGw",
      "include_colab_link": true,
      "provenance": []
    },
    "kernelspec": {
      "display_name": "Python 3",
      "name": "python3"
    },
    "language_info": {
      "codemirror_mode": {
        "name": "ipython",
        "version": 3
      },
      "file_extension": ".py",
      "mimetype": "text/x-python",
      "name": "python",
      "nbconvert_exporter": "python",
      "pygments_lexer": "ipython3",
      "version": "3.12.11"
    },
    "widgets": {
      "application/vnd.jupyter.widget-state+json": {
        "00ddbe52e41b48a890d99c146637f9fc": {
          "model_module": "@jupyter-widgets/controls",
          "model_module_version": "1.5.0",
          "model_name": "DescriptionStyleModel",
          "state": {
            "_model_module": "@jupyter-widgets/controls",
            "_model_module_version": "1.5.0",
            "_model_name": "DescriptionStyleModel",
            "_view_count": null,
            "_view_module": "@jupyter-widgets/base",
            "_view_module_version": "1.2.0",
            "_view_name": "StyleView",
            "description_width": ""
          }
        },
        "0201bd357a964ef28e97bf63947147a0": {
          "model_module": "@jupyter-widgets/controls",
          "model_module_version": "1.5.0",
          "model_name": "HBoxModel",
          "state": {
            "_dom_classes": [],
            "_model_module": "@jupyter-widgets/controls",
            "_model_module_version": "1.5.0",
            "_model_name": "HBoxModel",
            "_view_count": null,
            "_view_module": "@jupyter-widgets/controls",
            "_view_module_version": "1.5.0",
            "_view_name": "HBoxView",
            "box_style": "",
            "children": [
              "IPY_MODEL_9b326f532e5f46dd8c64a37ca7d23bfa",
              "IPY_MODEL_b95bc3eb580248ec8f31ef90419f9ce1",
              "IPY_MODEL_316acc82952243649ee78e5bf7357811"
            ],
            "layout": "IPY_MODEL_1cd8d4ce444d4bf185bf1ce8668486dc"
          }
        },
        "02b9bc0c2f2f4201b6ff2a2412c5e7a7": {
          "model_module": "@jupyter-widgets/base",
          "model_module_version": "1.2.0",
          "model_name": "LayoutModel",
          "state": {
            "_model_module": "@jupyter-widgets/base",
            "_model_module_version": "1.2.0",
            "_model_name": "LayoutModel",
            "_view_count": null,
            "_view_module": "@jupyter-widgets/base",
            "_view_module_version": "1.2.0",
            "_view_name": "LayoutView",
            "align_content": null,
            "align_items": null,
            "align_self": null,
            "border": null,
            "bottom": null,
            "display": null,
            "flex": null,
            "flex_flow": null,
            "grid_area": null,
            "grid_auto_columns": null,
            "grid_auto_flow": null,
            "grid_auto_rows": null,
            "grid_column": null,
            "grid_gap": null,
            "grid_row": null,
            "grid_template_areas": null,
            "grid_template_columns": null,
            "grid_template_rows": null,
            "height": null,
            "justify_content": null,
            "justify_items": null,
            "left": null,
            "margin": null,
            "max_height": null,
            "max_width": null,
            "min_height": null,
            "min_width": null,
            "object_fit": null,
            "object_position": null,
            "order": null,
            "overflow": null,
            "overflow_x": null,
            "overflow_y": null,
            "padding": null,
            "right": null,
            "top": null,
            "visibility": null,
            "width": null
          }
        },
        "074a6471fdbe40ed9acfbe2f5e949c2f": {
          "model_module": "@jupyter-widgets/controls",
          "model_module_version": "1.5.0",
          "model_name": "DescriptionStyleModel",
          "state": {
            "_model_module": "@jupyter-widgets/controls",
            "_model_module_version": "1.5.0",
            "_model_name": "DescriptionStyleModel",
            "_view_count": null,
            "_view_module": "@jupyter-widgets/base",
            "_view_module_version": "1.2.0",
            "_view_name": "StyleView",
            "description_width": ""
          }
        },
        "07c4f947bfe245f4adb3cf375f089939": {
          "model_module": "@jupyter-widgets/controls",
          "model_module_version": "1.5.0",
          "model_name": "HTMLModel",
          "state": {
            "_dom_classes": [],
            "_model_module": "@jupyter-widgets/controls",
            "_model_module_version": "1.5.0",
            "_model_name": "HTMLModel",
            "_view_count": null,
            "_view_module": "@jupyter-widgets/controls",
            "_view_module_version": "1.5.0",
            "_view_name": "HTMLView",
            "description": "",
            "description_tooltip": null,
            "layout": "IPY_MODEL_d7c44beb266141d3875b800de14214aa",
            "placeholder": "​",
            "style": "IPY_MODEL_423c43f9333c464594d744a6c5d8be8a",
            "value": "sentence_bert_config.json: 100%"
          }
        },
        "0927025465b0492d81409fb71018bd60": {
          "model_module": "@jupyter-widgets/controls",
          "model_module_version": "1.5.0",
          "model_name": "FloatProgressModel",
          "state": {
            "_dom_classes": [],
            "_model_module": "@jupyter-widgets/controls",
            "_model_module_version": "1.5.0",
            "_model_name": "FloatProgressModel",
            "_view_count": null,
            "_view_module": "@jupyter-widgets/controls",
            "_view_module_version": "1.5.0",
            "_view_name": "ProgressView",
            "bar_style": "success",
            "description": "",
            "description_tooltip": null,
            "layout": "IPY_MODEL_9d71e1827f574c9eadc792509f4d17fb",
            "max": 10659,
            "min": 0,
            "orientation": "horizontal",
            "style": "IPY_MODEL_9101047b368a47418b1af2852dca6309",
            "value": 10659
          }
        },
        "09caf4b59d1a4b579a9a590b748c53b6": {
          "model_module": "@jupyter-widgets/base",
          "model_module_version": "1.2.0",
          "model_name": "LayoutModel",
          "state": {
            "_model_module": "@jupyter-widgets/base",
            "_model_module_version": "1.2.0",
            "_model_name": "LayoutModel",
            "_view_count": null,
            "_view_module": "@jupyter-widgets/base",
            "_view_module_version": "1.2.0",
            "_view_name": "LayoutView",
            "align_content": null,
            "align_items": null,
            "align_self": null,
            "border": null,
            "bottom": null,
            "display": null,
            "flex": null,
            "flex_flow": null,
            "grid_area": null,
            "grid_auto_columns": null,
            "grid_auto_flow": null,
            "grid_auto_rows": null,
            "grid_column": null,
            "grid_gap": null,
            "grid_row": null,
            "grid_template_areas": null,
            "grid_template_columns": null,
            "grid_template_rows": null,
            "height": null,
            "justify_content": null,
            "justify_items": null,
            "left": null,
            "margin": null,
            "max_height": null,
            "max_width": null,
            "min_height": null,
            "min_width": null,
            "object_fit": null,
            "object_position": null,
            "order": null,
            "overflow": null,
            "overflow_x": null,
            "overflow_y": null,
            "padding": null,
            "right": null,
            "top": null,
            "visibility": null,
            "width": null
          }
        },
        "0b78598e186a4d1980d5196ffd44cde7": {
          "model_module": "@jupyter-widgets/base",
          "model_module_version": "1.2.0",
          "model_name": "LayoutModel",
          "state": {
            "_model_module": "@jupyter-widgets/base",
            "_model_module_version": "1.2.0",
            "_model_name": "LayoutModel",
            "_view_count": null,
            "_view_module": "@jupyter-widgets/base",
            "_view_module_version": "1.2.0",
            "_view_name": "LayoutView",
            "align_content": null,
            "align_items": null,
            "align_self": null,
            "border": null,
            "bottom": null,
            "display": null,
            "flex": null,
            "flex_flow": null,
            "grid_area": null,
            "grid_auto_columns": null,
            "grid_auto_flow": null,
            "grid_auto_rows": null,
            "grid_column": null,
            "grid_gap": null,
            "grid_row": null,
            "grid_template_areas": null,
            "grid_template_columns": null,
            "grid_template_rows": null,
            "height": null,
            "justify_content": null,
            "justify_items": null,
            "left": null,
            "margin": null,
            "max_height": null,
            "max_width": null,
            "min_height": null,
            "min_width": null,
            "object_fit": null,
            "object_position": null,
            "order": null,
            "overflow": null,
            "overflow_x": null,
            "overflow_y": null,
            "padding": null,
            "right": null,
            "top": null,
            "visibility": null,
            "width": null
          }
        },
        "0f82ee1dd69942bb9c3b7768619237ca": {
          "model_module": "@jupyter-widgets/controls",
          "model_module_version": "1.5.0",
          "model_name": "HTMLModel",
          "state": {
            "_dom_classes": [],
            "_model_module": "@jupyter-widgets/controls",
            "_model_module_version": "1.5.0",
            "_model_name": "HTMLModel",
            "_view_count": null,
            "_view_module": "@jupyter-widgets/controls",
            "_view_module_version": "1.5.0",
            "_view_name": "HTMLView",
            "description": "",
            "description_tooltip": null,
            "layout": "IPY_MODEL_5bbb9df62d394236885e2e2866846581",
            "placeholder": "​",
            "style": "IPY_MODEL_9ce089032c6b49f9bf40d637c0efef6e",
            "value": "modules.json: 100%"
          }
        },
        "110d0c5bef664638b7977f46f0735905": {
          "model_module": "@jupyter-widgets/controls",
          "model_module_version": "1.5.0",
          "model_name": "DescriptionStyleModel",
          "state": {
            "_model_module": "@jupyter-widgets/controls",
            "_model_module_version": "1.5.0",
            "_model_name": "DescriptionStyleModel",
            "_view_count": null,
            "_view_module": "@jupyter-widgets/base",
            "_view_module_version": "1.2.0",
            "_view_name": "StyleView",
            "description_width": ""
          }
        },
        "12061393e24442a1ac19f59df7c8ed02": {
          "model_module": "@jupyter-widgets/controls",
          "model_module_version": "1.5.0",
          "model_name": "ProgressStyleModel",
          "state": {
            "_model_module": "@jupyter-widgets/controls",
            "_model_module_version": "1.5.0",
            "_model_name": "ProgressStyleModel",
            "_view_count": null,
            "_view_module": "@jupyter-widgets/base",
            "_view_module_version": "1.2.0",
            "_view_name": "StyleView",
            "bar_color": null,
            "description_width": ""
          }
        },
        "131c46f2ecf6494b97829e9ba56d49ee": {
          "model_module": "@jupyter-widgets/controls",
          "model_module_version": "1.5.0",
          "model_name": "DescriptionStyleModel",
          "state": {
            "_model_module": "@jupyter-widgets/controls",
            "_model_module_version": "1.5.0",
            "_model_name": "DescriptionStyleModel",
            "_view_count": null,
            "_view_module": "@jupyter-widgets/base",
            "_view_module_version": "1.2.0",
            "_view_name": "StyleView",
            "description_width": ""
          }
        },
        "18009a48070c44c3a428ebfc174efe15": {
          "model_module": "@jupyter-widgets/controls",
          "model_module_version": "1.5.0",
          "model_name": "DescriptionStyleModel",
          "state": {
            "_model_module": "@jupyter-widgets/controls",
            "_model_module_version": "1.5.0",
            "_model_name": "DescriptionStyleModel",
            "_view_count": null,
            "_view_module": "@jupyter-widgets/base",
            "_view_module_version": "1.2.0",
            "_view_name": "StyleView",
            "description_width": ""
          }
        },
        "19789d9a79fd4742af4e1dafee03c1b1": {
          "model_module": "@jupyter-widgets/controls",
          "model_module_version": "1.5.0",
          "model_name": "DescriptionStyleModel",
          "state": {
            "_model_module": "@jupyter-widgets/controls",
            "_model_module_version": "1.5.0",
            "_model_name": "DescriptionStyleModel",
            "_view_count": null,
            "_view_module": "@jupyter-widgets/base",
            "_view_module_version": "1.2.0",
            "_view_name": "StyleView",
            "description_width": ""
          }
        },
        "1a32af7ea56843d982e2d4f794c6dfe8": {
          "model_module": "@jupyter-widgets/controls",
          "model_module_version": "1.5.0",
          "model_name": "ProgressStyleModel",
          "state": {
            "_model_module": "@jupyter-widgets/controls",
            "_model_module_version": "1.5.0",
            "_model_name": "ProgressStyleModel",
            "_view_count": null,
            "_view_module": "@jupyter-widgets/base",
            "_view_module_version": "1.2.0",
            "_view_name": "StyleView",
            "bar_color": null,
            "description_width": ""
          }
        },
        "1cd8d4ce444d4bf185bf1ce8668486dc": {
          "model_module": "@jupyter-widgets/base",
          "model_module_version": "1.2.0",
          "model_name": "LayoutModel",
          "state": {
            "_model_module": "@jupyter-widgets/base",
            "_model_module_version": "1.2.0",
            "_model_name": "LayoutModel",
            "_view_count": null,
            "_view_module": "@jupyter-widgets/base",
            "_view_module_version": "1.2.0",
            "_view_name": "LayoutView",
            "align_content": null,
            "align_items": null,
            "align_self": null,
            "border": null,
            "bottom": null,
            "display": null,
            "flex": null,
            "flex_flow": null,
            "grid_area": null,
            "grid_auto_columns": null,
            "grid_auto_flow": null,
            "grid_auto_rows": null,
            "grid_column": null,
            "grid_gap": null,
            "grid_row": null,
            "grid_template_areas": null,
            "grid_template_columns": null,
            "grid_template_rows": null,
            "height": null,
            "justify_content": null,
            "justify_items": null,
            "left": null,
            "margin": null,
            "max_height": null,
            "max_width": null,
            "min_height": null,
            "min_width": null,
            "object_fit": null,
            "object_position": null,
            "order": null,
            "overflow": null,
            "overflow_x": null,
            "overflow_y": null,
            "padding": null,
            "right": null,
            "top": null,
            "visibility": null,
            "width": null
          }
        },
        "1f29ae9f38694368adc61335125598e0": {
          "model_module": "@jupyter-widgets/base",
          "model_module_version": "1.2.0",
          "model_name": "LayoutModel",
          "state": {
            "_model_module": "@jupyter-widgets/base",
            "_model_module_version": "1.2.0",
            "_model_name": "LayoutModel",
            "_view_count": null,
            "_view_module": "@jupyter-widgets/base",
            "_view_module_version": "1.2.0",
            "_view_name": "LayoutView",
            "align_content": null,
            "align_items": null,
            "align_self": null,
            "border": null,
            "bottom": null,
            "display": null,
            "flex": null,
            "flex_flow": null,
            "grid_area": null,
            "grid_auto_columns": null,
            "grid_auto_flow": null,
            "grid_auto_rows": null,
            "grid_column": null,
            "grid_gap": null,
            "grid_row": null,
            "grid_template_areas": null,
            "grid_template_columns": null,
            "grid_template_rows": null,
            "height": null,
            "justify_content": null,
            "justify_items": null,
            "left": null,
            "margin": null,
            "max_height": null,
            "max_width": null,
            "min_height": null,
            "min_width": null,
            "object_fit": null,
            "object_position": null,
            "order": null,
            "overflow": null,
            "overflow_x": null,
            "overflow_y": null,
            "padding": null,
            "right": null,
            "top": null,
            "visibility": null,
            "width": null
          }
        },
        "211627521efb4a829aebb5e64cdd2115": {
          "model_module": "@jupyter-widgets/controls",
          "model_module_version": "1.5.0",
          "model_name": "HTMLModel",
          "state": {
            "_dom_classes": [],
            "_model_module": "@jupyter-widgets/controls",
            "_model_module_version": "1.5.0",
            "_model_name": "HTMLModel",
            "_view_count": null,
            "_view_module": "@jupyter-widgets/controls",
            "_view_module_version": "1.5.0",
            "_view_name": "HTMLView",
            "description": "",
            "description_tooltip": null,
            "layout": "IPY_MODEL_b264cfc0a5c24aa193d246fbc3de15e5",
            "placeholder": "​",
            "style": "IPY_MODEL_110d0c5bef664638b7977f46f0735905",
            "value": " 90.9M/90.9M [00:00&lt;00:00, 125MB/s]"
          }
        },
        "24721c2aad2c4fa590e5bb486341402a": {
          "model_module": "@jupyter-widgets/base",
          "model_module_version": "1.2.0",
          "model_name": "LayoutModel",
          "state": {
            "_model_module": "@jupyter-widgets/base",
            "_model_module_version": "1.2.0",
            "_model_name": "LayoutModel",
            "_view_count": null,
            "_view_module": "@jupyter-widgets/base",
            "_view_module_version": "1.2.0",
            "_view_name": "LayoutView",
            "align_content": null,
            "align_items": null,
            "align_self": null,
            "border": null,
            "bottom": null,
            "display": null,
            "flex": null,
            "flex_flow": null,
            "grid_area": null,
            "grid_auto_columns": null,
            "grid_auto_flow": null,
            "grid_auto_rows": null,
            "grid_column": null,
            "grid_gap": null,
            "grid_row": null,
            "grid_template_areas": null,
            "grid_template_columns": null,
            "grid_template_rows": null,
            "height": null,
            "justify_content": null,
            "justify_items": null,
            "left": null,
            "margin": null,
            "max_height": null,
            "max_width": null,
            "min_height": null,
            "min_width": null,
            "object_fit": null,
            "object_position": null,
            "order": null,
            "overflow": null,
            "overflow_x": null,
            "overflow_y": null,
            "padding": null,
            "right": null,
            "top": null,
            "visibility": null,
            "width": null
          }
        },
        "248c31eb970f4f08aaab64374420adb4": {
          "model_module": "@jupyter-widgets/base",
          "model_module_version": "1.2.0",
          "model_name": "LayoutModel",
          "state": {
            "_model_module": "@jupyter-widgets/base",
            "_model_module_version": "1.2.0",
            "_model_name": "LayoutModel",
            "_view_count": null,
            "_view_module": "@jupyter-widgets/base",
            "_view_module_version": "1.2.0",
            "_view_name": "LayoutView",
            "align_content": null,
            "align_items": null,
            "align_self": null,
            "border": null,
            "bottom": null,
            "display": null,
            "flex": null,
            "flex_flow": null,
            "grid_area": null,
            "grid_auto_columns": null,
            "grid_auto_flow": null,
            "grid_auto_rows": null,
            "grid_column": null,
            "grid_gap": null,
            "grid_row": null,
            "grid_template_areas": null,
            "grid_template_columns": null,
            "grid_template_rows": null,
            "height": null,
            "justify_content": null,
            "justify_items": null,
            "left": null,
            "margin": null,
            "max_height": null,
            "max_width": null,
            "min_height": null,
            "min_width": null,
            "object_fit": null,
            "object_position": null,
            "order": null,
            "overflow": null,
            "overflow_x": null,
            "overflow_y": null,
            "padding": null,
            "right": null,
            "top": null,
            "visibility": null,
            "width": null
          }
        },
        "290d595d8e58474faee18e36c503249f": {
          "model_module": "@jupyter-widgets/controls",
          "model_module_version": "1.5.0",
          "model_name": "HTMLModel",
          "state": {
            "_dom_classes": [],
            "_model_module": "@jupyter-widgets/controls",
            "_model_module_version": "1.5.0",
            "_model_name": "HTMLModel",
            "_view_count": null,
            "_view_module": "@jupyter-widgets/controls",
            "_view_module_version": "1.5.0",
            "_view_name": "HTMLView",
            "description": "",
            "description_tooltip": null,
            "layout": "IPY_MODEL_c666a1a873e74e1f87570d25e5839c3b",
            "placeholder": "​",
            "style": "IPY_MODEL_fb08084b416f40818b123916cac094de",
            "value": " 466k/466k [00:00&lt;00:00, 5.41MB/s]"
          }
        },
        "2965df6c49044b35b3ba6d2cdc24d74d": {
          "model_module": "@jupyter-widgets/base",
          "model_module_version": "1.2.0",
          "model_name": "LayoutModel",
          "state": {
            "_model_module": "@jupyter-widgets/base",
            "_model_module_version": "1.2.0",
            "_model_name": "LayoutModel",
            "_view_count": null,
            "_view_module": "@jupyter-widgets/base",
            "_view_module_version": "1.2.0",
            "_view_name": "LayoutView",
            "align_content": null,
            "align_items": null,
            "align_self": null,
            "border": null,
            "bottom": null,
            "display": null,
            "flex": null,
            "flex_flow": null,
            "grid_area": null,
            "grid_auto_columns": null,
            "grid_auto_flow": null,
            "grid_auto_rows": null,
            "grid_column": null,
            "grid_gap": null,
            "grid_row": null,
            "grid_template_areas": null,
            "grid_template_columns": null,
            "grid_template_rows": null,
            "height": null,
            "justify_content": null,
            "justify_items": null,
            "left": null,
            "margin": null,
            "max_height": null,
            "max_width": null,
            "min_height": null,
            "min_width": null,
            "object_fit": null,
            "object_position": null,
            "order": null,
            "overflow": null,
            "overflow_x": null,
            "overflow_y": null,
            "padding": null,
            "right": null,
            "top": null,
            "visibility": null,
            "width": null
          }
        },
        "29b6b20ce1b847309bc9549f208bfe39": {
          "model_module": "@jupyter-widgets/controls",
          "model_module_version": "1.5.0",
          "model_name": "HBoxModel",
          "state": {
            "_dom_classes": [],
            "_model_module": "@jupyter-widgets/controls",
            "_model_module_version": "1.5.0",
            "_model_name": "HBoxModel",
            "_view_count": null,
            "_view_module": "@jupyter-widgets/controls",
            "_view_module_version": "1.5.0",
            "_view_name": "HBoxView",
            "box_style": "",
            "children": [
              "IPY_MODEL_954fe98f3261408aa10491d96f19e272",
              "IPY_MODEL_0927025465b0492d81409fb71018bd60",
              "IPY_MODEL_e14d291267454ec7a181ddf6929c33bb"
            ],
            "layout": "IPY_MODEL_0b78598e186a4d1980d5196ffd44cde7"
          }
        },
        "2bcfc3e35bd54e0f8eb411e2accaffd4": {
          "model_module": "@jupyter-widgets/base",
          "model_module_version": "1.2.0",
          "model_name": "LayoutModel",
          "state": {
            "_model_module": "@jupyter-widgets/base",
            "_model_module_version": "1.2.0",
            "_model_name": "LayoutModel",
            "_view_count": null,
            "_view_module": "@jupyter-widgets/base",
            "_view_module_version": "1.2.0",
            "_view_name": "LayoutView",
            "align_content": null,
            "align_items": null,
            "align_self": null,
            "border": null,
            "bottom": null,
            "display": null,
            "flex": null,
            "flex_flow": null,
            "grid_area": null,
            "grid_auto_columns": null,
            "grid_auto_flow": null,
            "grid_auto_rows": null,
            "grid_column": null,
            "grid_gap": null,
            "grid_row": null,
            "grid_template_areas": null,
            "grid_template_columns": null,
            "grid_template_rows": null,
            "height": null,
            "justify_content": null,
            "justify_items": null,
            "left": null,
            "margin": null,
            "max_height": null,
            "max_width": null,
            "min_height": null,
            "min_width": null,
            "object_fit": null,
            "object_position": null,
            "order": null,
            "overflow": null,
            "overflow_x": null,
            "overflow_y": null,
            "padding": null,
            "right": null,
            "top": null,
            "visibility": null,
            "width": null
          }
        },
        "2ce57d428da04626be6995389469ab28": {
          "model_module": "@jupyter-widgets/controls",
          "model_module_version": "1.5.0",
          "model_name": "ProgressStyleModel",
          "state": {
            "_model_module": "@jupyter-widgets/controls",
            "_model_module_version": "1.5.0",
            "_model_name": "ProgressStyleModel",
            "_view_count": null,
            "_view_module": "@jupyter-widgets/base",
            "_view_module_version": "1.2.0",
            "_view_name": "StyleView",
            "bar_color": null,
            "description_width": ""
          }
        },
        "2e525eb63279444fb86403a0ea77addb": {
          "model_module": "@jupyter-widgets/base",
          "model_module_version": "1.2.0",
          "model_name": "LayoutModel",
          "state": {
            "_model_module": "@jupyter-widgets/base",
            "_model_module_version": "1.2.0",
            "_model_name": "LayoutModel",
            "_view_count": null,
            "_view_module": "@jupyter-widgets/base",
            "_view_module_version": "1.2.0",
            "_view_name": "LayoutView",
            "align_content": null,
            "align_items": null,
            "align_self": null,
            "border": null,
            "bottom": null,
            "display": null,
            "flex": null,
            "flex_flow": null,
            "grid_area": null,
            "grid_auto_columns": null,
            "grid_auto_flow": null,
            "grid_auto_rows": null,
            "grid_column": null,
            "grid_gap": null,
            "grid_row": null,
            "grid_template_areas": null,
            "grid_template_columns": null,
            "grid_template_rows": null,
            "height": null,
            "justify_content": null,
            "justify_items": null,
            "left": null,
            "margin": null,
            "max_height": null,
            "max_width": null,
            "min_height": null,
            "min_width": null,
            "object_fit": null,
            "object_position": null,
            "order": null,
            "overflow": null,
            "overflow_x": null,
            "overflow_y": null,
            "padding": null,
            "right": null,
            "top": null,
            "visibility": null,
            "width": null
          }
        },
        "2ff329f286054bcaae5fc27cf67ed36f": {
          "model_module": "@jupyter-widgets/base",
          "model_module_version": "1.2.0",
          "model_name": "LayoutModel",
          "state": {
            "_model_module": "@jupyter-widgets/base",
            "_model_module_version": "1.2.0",
            "_model_name": "LayoutModel",
            "_view_count": null,
            "_view_module": "@jupyter-widgets/base",
            "_view_module_version": "1.2.0",
            "_view_name": "LayoutView",
            "align_content": null,
            "align_items": null,
            "align_self": null,
            "border": null,
            "bottom": null,
            "display": null,
            "flex": null,
            "flex_flow": null,
            "grid_area": null,
            "grid_auto_columns": null,
            "grid_auto_flow": null,
            "grid_auto_rows": null,
            "grid_column": null,
            "grid_gap": null,
            "grid_row": null,
            "grid_template_areas": null,
            "grid_template_columns": null,
            "grid_template_rows": null,
            "height": null,
            "justify_content": null,
            "justify_items": null,
            "left": null,
            "margin": null,
            "max_height": null,
            "max_width": null,
            "min_height": null,
            "min_width": null,
            "object_fit": null,
            "object_position": null,
            "order": null,
            "overflow": null,
            "overflow_x": null,
            "overflow_y": null,
            "padding": null,
            "right": null,
            "top": null,
            "visibility": null,
            "width": null
          }
        },
        "316acc82952243649ee78e5bf7357811": {
          "model_module": "@jupyter-widgets/controls",
          "model_module_version": "1.5.0",
          "model_name": "HTMLModel",
          "state": {
            "_dom_classes": [],
            "_model_module": "@jupyter-widgets/controls",
            "_model_module_version": "1.5.0",
            "_model_name": "HTMLModel",
            "_view_count": null,
            "_view_module": "@jupyter-widgets/controls",
            "_view_module_version": "1.5.0",
            "_view_name": "HTMLView",
            "description": "",
            "description_tooltip": null,
            "layout": "IPY_MODEL_9c45a4095bc34f15b4415f58edbb17df",
            "placeholder": "​",
            "style": "IPY_MODEL_49125bd1de2b46899a52c69d54e6ace0",
            "value": " 112/112 [00:00&lt;00:00, 4.68kB/s]"
          }
        },
        "33b81cf377fb42a585f77e67399e082b": {
          "model_module": "@jupyter-widgets/controls",
          "model_module_version": "1.5.0",
          "model_name": "HBoxModel",
          "state": {
            "_dom_classes": [],
            "_model_module": "@jupyter-widgets/controls",
            "_model_module_version": "1.5.0",
            "_model_name": "HBoxModel",
            "_view_count": null,
            "_view_module": "@jupyter-widgets/controls",
            "_view_module_version": "1.5.0",
            "_view_name": "HBoxView",
            "box_style": "",
            "children": [
              "IPY_MODEL_7fd723a318324a79bf33abfe56d3620d",
              "IPY_MODEL_918ef72969bb4815a8876164cc56d1fc",
              "IPY_MODEL_3483fb7f00f04cef9958e370fb9c8a8c"
            ],
            "layout": "IPY_MODEL_6da2c67cf3bf4814bcd64dfca244776e"
          }
        },
        "3483fb7f00f04cef9958e370fb9c8a8c": {
          "model_module": "@jupyter-widgets/controls",
          "model_module_version": "1.5.0",
          "model_name": "HTMLModel",
          "state": {
            "_dom_classes": [],
            "_model_module": "@jupyter-widgets/controls",
            "_model_module_version": "1.5.0",
            "_model_name": "HTMLModel",
            "_view_count": null,
            "_view_module": "@jupyter-widgets/controls",
            "_view_module_version": "1.5.0",
            "_view_name": "HTMLView",
            "description": "",
            "description_tooltip": null,
            "layout": "IPY_MODEL_e08b06fb92d8449db0b357558c25d620",
            "placeholder": "​",
            "style": "IPY_MODEL_628c5f16be4045ca99d9467fa07bd888",
            "value": " 116/116 [00:00&lt;00:00, 5.75kB/s]"
          }
        },
        "367c6767a186473d83432d8f38aba8cb": {
          "model_module": "@jupyter-widgets/controls",
          "model_module_version": "1.5.0",
          "model_name": "ProgressStyleModel",
          "state": {
            "_model_module": "@jupyter-widgets/controls",
            "_model_module_version": "1.5.0",
            "_model_name": "ProgressStyleModel",
            "_view_count": null,
            "_view_module": "@jupyter-widgets/base",
            "_view_module_version": "1.2.0",
            "_view_name": "StyleView",
            "bar_color": null,
            "description_width": ""
          }
        },
        "37733f7c7f584057b9cf7faa0b0c3760": {
          "model_module": "@jupyter-widgets/base",
          "model_module_version": "1.2.0",
          "model_name": "LayoutModel",
          "state": {
            "_model_module": "@jupyter-widgets/base",
            "_model_module_version": "1.2.0",
            "_model_name": "LayoutModel",
            "_view_count": null,
            "_view_module": "@jupyter-widgets/base",
            "_view_module_version": "1.2.0",
            "_view_name": "LayoutView",
            "align_content": null,
            "align_items": null,
            "align_self": null,
            "border": null,
            "bottom": null,
            "display": null,
            "flex": null,
            "flex_flow": null,
            "grid_area": null,
            "grid_auto_columns": null,
            "grid_auto_flow": null,
            "grid_auto_rows": null,
            "grid_column": null,
            "grid_gap": null,
            "grid_row": null,
            "grid_template_areas": null,
            "grid_template_columns": null,
            "grid_template_rows": null,
            "height": null,
            "justify_content": null,
            "justify_items": null,
            "left": null,
            "margin": null,
            "max_height": null,
            "max_width": null,
            "min_height": null,
            "min_width": null,
            "object_fit": null,
            "object_position": null,
            "order": null,
            "overflow": null,
            "overflow_x": null,
            "overflow_y": null,
            "padding": null,
            "right": null,
            "top": null,
            "visibility": null,
            "width": null
          }
        },
        "381aa0cbbe4044999bca9df41dd00664": {
          "model_module": "@jupyter-widgets/controls",
          "model_module_version": "1.5.0",
          "model_name": "ProgressStyleModel",
          "state": {
            "_model_module": "@jupyter-widgets/controls",
            "_model_module_version": "1.5.0",
            "_model_name": "ProgressStyleModel",
            "_view_count": null,
            "_view_module": "@jupyter-widgets/base",
            "_view_module_version": "1.2.0",
            "_view_name": "StyleView",
            "bar_color": null,
            "description_width": ""
          }
        },
        "3b252b6cee3c4543bb8919f80eebe288": {
          "model_module": "@jupyter-widgets/controls",
          "model_module_version": "1.5.0",
          "model_name": "HTMLModel",
          "state": {
            "_dom_classes": [],
            "_model_module": "@jupyter-widgets/controls",
            "_model_module_version": "1.5.0",
            "_model_name": "HTMLModel",
            "_view_count": null,
            "_view_module": "@jupyter-widgets/controls",
            "_view_module_version": "1.5.0",
            "_view_name": "HTMLView",
            "description": "",
            "description_tooltip": null,
            "layout": "IPY_MODEL_f408d390719b4587bf89a2e6d4245f39",
            "placeholder": "​",
            "style": "IPY_MODEL_b4444854e39f4b3eb9c20553aa509790",
            "value": "tokenizer.json: 100%"
          }
        },
        "3c0573e4f8744ddea2654f31cc85ff2d": {
          "model_module": "@jupyter-widgets/base",
          "model_module_version": "1.2.0",
          "model_name": "LayoutModel",
          "state": {
            "_model_module": "@jupyter-widgets/base",
            "_model_module_version": "1.2.0",
            "_model_name": "LayoutModel",
            "_view_count": null,
            "_view_module": "@jupyter-widgets/base",
            "_view_module_version": "1.2.0",
            "_view_name": "LayoutView",
            "align_content": null,
            "align_items": null,
            "align_self": null,
            "border": null,
            "bottom": null,
            "display": null,
            "flex": null,
            "flex_flow": null,
            "grid_area": null,
            "grid_auto_columns": null,
            "grid_auto_flow": null,
            "grid_auto_rows": null,
            "grid_column": null,
            "grid_gap": null,
            "grid_row": null,
            "grid_template_areas": null,
            "grid_template_columns": null,
            "grid_template_rows": null,
            "height": null,
            "justify_content": null,
            "justify_items": null,
            "left": null,
            "margin": null,
            "max_height": null,
            "max_width": null,
            "min_height": null,
            "min_width": null,
            "object_fit": null,
            "object_position": null,
            "order": null,
            "overflow": null,
            "overflow_x": null,
            "overflow_y": null,
            "padding": null,
            "right": null,
            "top": null,
            "visibility": null,
            "width": null
          }
        },
        "3fbcde1c16644a8083f5ad7141d584a9": {
          "model_module": "@jupyter-widgets/controls",
          "model_module_version": "1.5.0",
          "model_name": "HTMLModel",
          "state": {
            "_dom_classes": [],
            "_model_module": "@jupyter-widgets/controls",
            "_model_module_version": "1.5.0",
            "_model_name": "HTMLModel",
            "_view_count": null,
            "_view_module": "@jupyter-widgets/controls",
            "_view_module_version": "1.5.0",
            "_view_name": "HTMLView",
            "description": "",
            "description_tooltip": null,
            "layout": "IPY_MODEL_3c0573e4f8744ddea2654f31cc85ff2d",
            "placeholder": "​",
            "style": "IPY_MODEL_a77916c64d1d46b3afe624ad02ca4137",
            "value": " 349/349 [00:00&lt;00:00, 15.5kB/s]"
          }
        },
        "423c43f9333c464594d744a6c5d8be8a": {
          "model_module": "@jupyter-widgets/controls",
          "model_module_version": "1.5.0",
          "model_name": "DescriptionStyleModel",
          "state": {
            "_model_module": "@jupyter-widgets/controls",
            "_model_module_version": "1.5.0",
            "_model_name": "DescriptionStyleModel",
            "_view_count": null,
            "_view_module": "@jupyter-widgets/base",
            "_view_module_version": "1.2.0",
            "_view_name": "StyleView",
            "description_width": ""
          }
        },
        "45f9a0c73f004ef69a76e200309570f4": {
          "model_module": "@jupyter-widgets/base",
          "model_module_version": "1.2.0",
          "model_name": "LayoutModel",
          "state": {
            "_model_module": "@jupyter-widgets/base",
            "_model_module_version": "1.2.0",
            "_model_name": "LayoutModel",
            "_view_count": null,
            "_view_module": "@jupyter-widgets/base",
            "_view_module_version": "1.2.0",
            "_view_name": "LayoutView",
            "align_content": null,
            "align_items": null,
            "align_self": null,
            "border": null,
            "bottom": null,
            "display": null,
            "flex": null,
            "flex_flow": null,
            "grid_area": null,
            "grid_auto_columns": null,
            "grid_auto_flow": null,
            "grid_auto_rows": null,
            "grid_column": null,
            "grid_gap": null,
            "grid_row": null,
            "grid_template_areas": null,
            "grid_template_columns": null,
            "grid_template_rows": null,
            "height": null,
            "justify_content": null,
            "justify_items": null,
            "left": null,
            "margin": null,
            "max_height": null,
            "max_width": null,
            "min_height": null,
            "min_width": null,
            "object_fit": null,
            "object_position": null,
            "order": null,
            "overflow": null,
            "overflow_x": null,
            "overflow_y": null,
            "padding": null,
            "right": null,
            "top": null,
            "visibility": null,
            "width": null
          }
        },
        "487f9f61b45e4365b0ac0dfc7a64eca3": {
          "model_module": "@jupyter-widgets/base",
          "model_module_version": "1.2.0",
          "model_name": "LayoutModel",
          "state": {
            "_model_module": "@jupyter-widgets/base",
            "_model_module_version": "1.2.0",
            "_model_name": "LayoutModel",
            "_view_count": null,
            "_view_module": "@jupyter-widgets/base",
            "_view_module_version": "1.2.0",
            "_view_name": "LayoutView",
            "align_content": null,
            "align_items": null,
            "align_self": null,
            "border": null,
            "bottom": null,
            "display": null,
            "flex": null,
            "flex_flow": null,
            "grid_area": null,
            "grid_auto_columns": null,
            "grid_auto_flow": null,
            "grid_auto_rows": null,
            "grid_column": null,
            "grid_gap": null,
            "grid_row": null,
            "grid_template_areas": null,
            "grid_template_columns": null,
            "grid_template_rows": null,
            "height": null,
            "justify_content": null,
            "justify_items": null,
            "left": null,
            "margin": null,
            "max_height": null,
            "max_width": null,
            "min_height": null,
            "min_width": null,
            "object_fit": null,
            "object_position": null,
            "order": null,
            "overflow": null,
            "overflow_x": null,
            "overflow_y": null,
            "padding": null,
            "right": null,
            "top": null,
            "visibility": null,
            "width": null
          }
        },
        "48ca0355d5c740f59db88d4332353ee7": {
          "model_module": "@jupyter-widgets/base",
          "model_module_version": "1.2.0",
          "model_name": "LayoutModel",
          "state": {
            "_model_module": "@jupyter-widgets/base",
            "_model_module_version": "1.2.0",
            "_model_name": "LayoutModel",
            "_view_count": null,
            "_view_module": "@jupyter-widgets/base",
            "_view_module_version": "1.2.0",
            "_view_name": "LayoutView",
            "align_content": null,
            "align_items": null,
            "align_self": null,
            "border": null,
            "bottom": null,
            "display": null,
            "flex": null,
            "flex_flow": null,
            "grid_area": null,
            "grid_auto_columns": null,
            "grid_auto_flow": null,
            "grid_auto_rows": null,
            "grid_column": null,
            "grid_gap": null,
            "grid_row": null,
            "grid_template_areas": null,
            "grid_template_columns": null,
            "grid_template_rows": null,
            "height": null,
            "justify_content": null,
            "justify_items": null,
            "left": null,
            "margin": null,
            "max_height": null,
            "max_width": null,
            "min_height": null,
            "min_width": null,
            "object_fit": null,
            "object_position": null,
            "order": null,
            "overflow": null,
            "overflow_x": null,
            "overflow_y": null,
            "padding": null,
            "right": null,
            "top": null,
            "visibility": null,
            "width": null
          }
        },
        "49125bd1de2b46899a52c69d54e6ace0": {
          "model_module": "@jupyter-widgets/controls",
          "model_module_version": "1.5.0",
          "model_name": "DescriptionStyleModel",
          "state": {
            "_model_module": "@jupyter-widgets/controls",
            "_model_module_version": "1.5.0",
            "_model_name": "DescriptionStyleModel",
            "_view_count": null,
            "_view_module": "@jupyter-widgets/base",
            "_view_module_version": "1.2.0",
            "_view_name": "StyleView",
            "description_width": ""
          }
        },
        "4c7a2b0542674b7aaeccce12591528ed": {
          "model_module": "@jupyter-widgets/controls",
          "model_module_version": "1.5.0",
          "model_name": "HTMLModel",
          "state": {
            "_dom_classes": [],
            "_model_module": "@jupyter-widgets/controls",
            "_model_module_version": "1.5.0",
            "_model_name": "HTMLModel",
            "_view_count": null,
            "_view_module": "@jupyter-widgets/controls",
            "_view_module_version": "1.5.0",
            "_view_name": "HTMLView",
            "description": "",
            "description_tooltip": null,
            "layout": "IPY_MODEL_02b9bc0c2f2f4201b6ff2a2412c5e7a7",
            "placeholder": "​",
            "style": "IPY_MODEL_18009a48070c44c3a428ebfc174efe15",
            "value": " 232k/232k [00:00&lt;00:00, 4.39MB/s]"
          }
        },
        "53cd5af714e6466cacc1dc92d478b775": {
          "model_module": "@jupyter-widgets/controls",
          "model_module_version": "1.5.0",
          "model_name": "FloatProgressModel",
          "state": {
            "_dom_classes": [],
            "_model_module": "@jupyter-widgets/controls",
            "_model_module_version": "1.5.0",
            "_model_name": "FloatProgressModel",
            "_view_count": null,
            "_view_module": "@jupyter-widgets/controls",
            "_view_module_version": "1.5.0",
            "_view_name": "ProgressView",
            "bar_style": "success",
            "description": "",
            "description_tooltip": null,
            "layout": "IPY_MODEL_2e525eb63279444fb86403a0ea77addb",
            "max": 350,
            "min": 0,
            "orientation": "horizontal",
            "style": "IPY_MODEL_1a32af7ea56843d982e2d4f794c6dfe8",
            "value": 350
          }
        },
        "53e3b30a041d4a31938adb1cf6d55c46": {
          "model_module": "@jupyter-widgets/base",
          "model_module_version": "1.2.0",
          "model_name": "LayoutModel",
          "state": {
            "_model_module": "@jupyter-widgets/base",
            "_model_module_version": "1.2.0",
            "_model_name": "LayoutModel",
            "_view_count": null,
            "_view_module": "@jupyter-widgets/base",
            "_view_module_version": "1.2.0",
            "_view_name": "LayoutView",
            "align_content": null,
            "align_items": null,
            "align_self": null,
            "border": null,
            "bottom": null,
            "display": null,
            "flex": null,
            "flex_flow": null,
            "grid_area": null,
            "grid_auto_columns": null,
            "grid_auto_flow": null,
            "grid_auto_rows": null,
            "grid_column": null,
            "grid_gap": null,
            "grid_row": null,
            "grid_template_areas": null,
            "grid_template_columns": null,
            "grid_template_rows": null,
            "height": null,
            "justify_content": null,
            "justify_items": null,
            "left": null,
            "margin": null,
            "max_height": null,
            "max_width": null,
            "min_height": null,
            "min_width": null,
            "object_fit": null,
            "object_position": null,
            "order": null,
            "overflow": null,
            "overflow_x": null,
            "overflow_y": null,
            "padding": null,
            "right": null,
            "top": null,
            "visibility": null,
            "width": null
          }
        },
        "5566c6a8f8ff40818436490b9e07173e": {
          "model_module": "@jupyter-widgets/controls",
          "model_module_version": "1.5.0",
          "model_name": "ProgressStyleModel",
          "state": {
            "_model_module": "@jupyter-widgets/controls",
            "_model_module_version": "1.5.0",
            "_model_name": "ProgressStyleModel",
            "_view_count": null,
            "_view_module": "@jupyter-widgets/base",
            "_view_module_version": "1.2.0",
            "_view_name": "StyleView",
            "bar_color": null,
            "description_width": ""
          }
        },
        "56efd36f6e5c4ab29702cf374d442039": {
          "model_module": "@jupyter-widgets/controls",
          "model_module_version": "1.5.0",
          "model_name": "FloatProgressModel",
          "state": {
            "_dom_classes": [],
            "_model_module": "@jupyter-widgets/controls",
            "_model_module_version": "1.5.0",
            "_model_name": "FloatProgressModel",
            "_view_count": null,
            "_view_module": "@jupyter-widgets/controls",
            "_view_module_version": "1.5.0",
            "_view_name": "ProgressView",
            "bar_style": "success",
            "description": "",
            "description_tooltip": null,
            "layout": "IPY_MODEL_7548118226e74462b1fb7ccf470707dc",
            "max": 466247,
            "min": 0,
            "orientation": "horizontal",
            "style": "IPY_MODEL_fce994a8f0a742a39d7a009cbcd91db7",
            "value": 466247
          }
        },
        "58d206a51602494abfbffab3f862015b": {
          "model_module": "@jupyter-widgets/base",
          "model_module_version": "1.2.0",
          "model_name": "LayoutModel",
          "state": {
            "_model_module": "@jupyter-widgets/base",
            "_model_module_version": "1.2.0",
            "_model_name": "LayoutModel",
            "_view_count": null,
            "_view_module": "@jupyter-widgets/base",
            "_view_module_version": "1.2.0",
            "_view_name": "LayoutView",
            "align_content": null,
            "align_items": null,
            "align_self": null,
            "border": null,
            "bottom": null,
            "display": null,
            "flex": null,
            "flex_flow": null,
            "grid_area": null,
            "grid_auto_columns": null,
            "grid_auto_flow": null,
            "grid_auto_rows": null,
            "grid_column": null,
            "grid_gap": null,
            "grid_row": null,
            "grid_template_areas": null,
            "grid_template_columns": null,
            "grid_template_rows": null,
            "height": null,
            "justify_content": null,
            "justify_items": null,
            "left": null,
            "margin": null,
            "max_height": null,
            "max_width": null,
            "min_height": null,
            "min_width": null,
            "object_fit": null,
            "object_position": null,
            "order": null,
            "overflow": null,
            "overflow_x": null,
            "overflow_y": null,
            "padding": null,
            "right": null,
            "top": null,
            "visibility": null,
            "width": null
          }
        },
        "5b3ea04a18f341cab660bb8750548975": {
          "model_module": "@jupyter-widgets/base",
          "model_module_version": "1.2.0",
          "model_name": "LayoutModel",
          "state": {
            "_model_module": "@jupyter-widgets/base",
            "_model_module_version": "1.2.0",
            "_model_name": "LayoutModel",
            "_view_count": null,
            "_view_module": "@jupyter-widgets/base",
            "_view_module_version": "1.2.0",
            "_view_name": "LayoutView",
            "align_content": null,
            "align_items": null,
            "align_self": null,
            "border": null,
            "bottom": null,
            "display": null,
            "flex": null,
            "flex_flow": null,
            "grid_area": null,
            "grid_auto_columns": null,
            "grid_auto_flow": null,
            "grid_auto_rows": null,
            "grid_column": null,
            "grid_gap": null,
            "grid_row": null,
            "grid_template_areas": null,
            "grid_template_columns": null,
            "grid_template_rows": null,
            "height": null,
            "justify_content": null,
            "justify_items": null,
            "left": null,
            "margin": null,
            "max_height": null,
            "max_width": null,
            "min_height": null,
            "min_width": null,
            "object_fit": null,
            "object_position": null,
            "order": null,
            "overflow": null,
            "overflow_x": null,
            "overflow_y": null,
            "padding": null,
            "right": null,
            "top": null,
            "visibility": null,
            "width": null
          }
        },
        "5bbb9df62d394236885e2e2866846581": {
          "model_module": "@jupyter-widgets/base",
          "model_module_version": "1.2.0",
          "model_name": "LayoutModel",
          "state": {
            "_model_module": "@jupyter-widgets/base",
            "_model_module_version": "1.2.0",
            "_model_name": "LayoutModel",
            "_view_count": null,
            "_view_module": "@jupyter-widgets/base",
            "_view_module_version": "1.2.0",
            "_view_name": "LayoutView",
            "align_content": null,
            "align_items": null,
            "align_self": null,
            "border": null,
            "bottom": null,
            "display": null,
            "flex": null,
            "flex_flow": null,
            "grid_area": null,
            "grid_auto_columns": null,
            "grid_auto_flow": null,
            "grid_auto_rows": null,
            "grid_column": null,
            "grid_gap": null,
            "grid_row": null,
            "grid_template_areas": null,
            "grid_template_columns": null,
            "grid_template_rows": null,
            "height": null,
            "justify_content": null,
            "justify_items": null,
            "left": null,
            "margin": null,
            "max_height": null,
            "max_width": null,
            "min_height": null,
            "min_width": null,
            "object_fit": null,
            "object_position": null,
            "order": null,
            "overflow": null,
            "overflow_x": null,
            "overflow_y": null,
            "padding": null,
            "right": null,
            "top": null,
            "visibility": null,
            "width": null
          }
        },
        "6076bc5b88e640a39a45107139036090": {
          "model_module": "@jupyter-widgets/controls",
          "model_module_version": "1.5.0",
          "model_name": "HBoxModel",
          "state": {
            "_dom_classes": [],
            "_model_module": "@jupyter-widgets/controls",
            "_model_module_version": "1.5.0",
            "_model_name": "HBoxModel",
            "_view_count": null,
            "_view_module": "@jupyter-widgets/controls",
            "_view_module_version": "1.5.0",
            "_view_name": "HBoxView",
            "box_style": "",
            "children": [
              "IPY_MODEL_7b9ed53198aa46fea9f0875fd07999c5",
              "IPY_MODEL_708cf9ffbd7c4dfd9bb35581026f12d9",
              "IPY_MODEL_bdde8937a9a0463388d84a721b95d31f"
            ],
            "layout": "IPY_MODEL_a28656b202ea4b75a3dc564616d209f8"
          }
        },
        "628c5f16be4045ca99d9467fa07bd888": {
          "model_module": "@jupyter-widgets/controls",
          "model_module_version": "1.5.0",
          "model_name": "DescriptionStyleModel",
          "state": {
            "_model_module": "@jupyter-widgets/controls",
            "_model_module_version": "1.5.0",
            "_model_name": "DescriptionStyleModel",
            "_view_count": null,
            "_view_module": "@jupyter-widgets/base",
            "_view_module_version": "1.2.0",
            "_view_name": "StyleView",
            "description_width": ""
          }
        },
        "6da2c67cf3bf4814bcd64dfca244776e": {
          "model_module": "@jupyter-widgets/base",
          "model_module_version": "1.2.0",
          "model_name": "LayoutModel",
          "state": {
            "_model_module": "@jupyter-widgets/base",
            "_model_module_version": "1.2.0",
            "_model_name": "LayoutModel",
            "_view_count": null,
            "_view_module": "@jupyter-widgets/base",
            "_view_module_version": "1.2.0",
            "_view_name": "LayoutView",
            "align_content": null,
            "align_items": null,
            "align_self": null,
            "border": null,
            "bottom": null,
            "display": null,
            "flex": null,
            "flex_flow": null,
            "grid_area": null,
            "grid_auto_columns": null,
            "grid_auto_flow": null,
            "grid_auto_rows": null,
            "grid_column": null,
            "grid_gap": null,
            "grid_row": null,
            "grid_template_areas": null,
            "grid_template_columns": null,
            "grid_template_rows": null,
            "height": null,
            "justify_content": null,
            "justify_items": null,
            "left": null,
            "margin": null,
            "max_height": null,
            "max_width": null,
            "min_height": null,
            "min_width": null,
            "object_fit": null,
            "object_position": null,
            "order": null,
            "overflow": null,
            "overflow_x": null,
            "overflow_y": null,
            "padding": null,
            "right": null,
            "top": null,
            "visibility": null,
            "width": null
          }
        },
        "6f535b58873248698e94c5bf9cff6a58": {
          "model_module": "@jupyter-widgets/controls",
          "model_module_version": "1.5.0",
          "model_name": "FloatProgressModel",
          "state": {
            "_dom_classes": [],
            "_model_module": "@jupyter-widgets/controls",
            "_model_module_version": "1.5.0",
            "_model_name": "FloatProgressModel",
            "_view_count": null,
            "_view_module": "@jupyter-widgets/controls",
            "_view_module_version": "1.5.0",
            "_view_name": "ProgressView",
            "bar_style": "success",
            "description": "",
            "description_tooltip": null,
            "layout": "IPY_MODEL_37733f7c7f584057b9cf7faa0b0c3760",
            "max": 349,
            "min": 0,
            "orientation": "horizontal",
            "style": "IPY_MODEL_c02b648dd77d4ef0af423890c32f2f30",
            "value": 349
          }
        },
        "708cf9ffbd7c4dfd9bb35581026f12d9": {
          "model_module": "@jupyter-widgets/controls",
          "model_module_version": "1.5.0",
          "model_name": "FloatProgressModel",
          "state": {
            "_dom_classes": [],
            "_model_module": "@jupyter-widgets/controls",
            "_model_module_version": "1.5.0",
            "_model_name": "FloatProgressModel",
            "_view_count": null,
            "_view_module": "@jupyter-widgets/controls",
            "_view_module_version": "1.5.0",
            "_view_name": "ProgressView",
            "bar_style": "success",
            "description": "",
            "description_tooltip": null,
            "layout": "IPY_MODEL_f88d5e5fb2734091b1916b578cf4a8b9",
            "max": 612,
            "min": 0,
            "orientation": "horizontal",
            "style": "IPY_MODEL_381aa0cbbe4044999bca9df41dd00664",
            "value": 612
          }
        },
        "715c8f7ed318476faf6dd2309530162f": {
          "model_module": "@jupyter-widgets/controls",
          "model_module_version": "1.5.0",
          "model_name": "HTMLModel",
          "state": {
            "_dom_classes": [],
            "_model_module": "@jupyter-widgets/controls",
            "_model_module_version": "1.5.0",
            "_model_name": "HTMLModel",
            "_view_count": null,
            "_view_module": "@jupyter-widgets/controls",
            "_view_module_version": "1.5.0",
            "_view_name": "HTMLView",
            "description": "",
            "description_tooltip": null,
            "layout": "IPY_MODEL_c625fadf89a945a098c8cab8c79edaed",
            "placeholder": "​",
            "style": "IPY_MODEL_00ddbe52e41b48a890d99c146637f9fc",
            "value": " 190/190 [00:00&lt;00:00, 9.92kB/s]"
          }
        },
        "72b6c4c385af44e1bba560296276db76": {
          "model_module": "@jupyter-widgets/controls",
          "model_module_version": "1.5.0",
          "model_name": "FloatProgressModel",
          "state": {
            "_dom_classes": [],
            "_model_module": "@jupyter-widgets/controls",
            "_model_module_version": "1.5.0",
            "_model_name": "FloatProgressModel",
            "_view_count": null,
            "_view_module": "@jupyter-widgets/controls",
            "_view_module_version": "1.5.0",
            "_view_name": "ProgressView",
            "bar_style": "success",
            "description": "",
            "description_tooltip": null,
            "layout": "IPY_MODEL_2ff329f286054bcaae5fc27cf67ed36f",
            "max": 90868376,
            "min": 0,
            "orientation": "horizontal",
            "style": "IPY_MODEL_fe4a5fec3f0f46eda3d9b1b44a20a4e2",
            "value": 90868376
          }
        },
        "7460ad56137c4789bd01ee3770ebb4d4": {
          "model_module": "@jupyter-widgets/controls",
          "model_module_version": "1.5.0",
          "model_name": "DescriptionStyleModel",
          "state": {
            "_model_module": "@jupyter-widgets/controls",
            "_model_module_version": "1.5.0",
            "_model_name": "DescriptionStyleModel",
            "_view_count": null,
            "_view_module": "@jupyter-widgets/base",
            "_view_module_version": "1.2.0",
            "_view_name": "StyleView",
            "description_width": ""
          }
        },
        "7548118226e74462b1fb7ccf470707dc": {
          "model_module": "@jupyter-widgets/base",
          "model_module_version": "1.2.0",
          "model_name": "LayoutModel",
          "state": {
            "_model_module": "@jupyter-widgets/base",
            "_model_module_version": "1.2.0",
            "_model_name": "LayoutModel",
            "_view_count": null,
            "_view_module": "@jupyter-widgets/base",
            "_view_module_version": "1.2.0",
            "_view_name": "LayoutView",
            "align_content": null,
            "align_items": null,
            "align_self": null,
            "border": null,
            "bottom": null,
            "display": null,
            "flex": null,
            "flex_flow": null,
            "grid_area": null,
            "grid_auto_columns": null,
            "grid_auto_flow": null,
            "grid_auto_rows": null,
            "grid_column": null,
            "grid_gap": null,
            "grid_row": null,
            "grid_template_areas": null,
            "grid_template_columns": null,
            "grid_template_rows": null,
            "height": null,
            "justify_content": null,
            "justify_items": null,
            "left": null,
            "margin": null,
            "max_height": null,
            "max_width": null,
            "min_height": null,
            "min_width": null,
            "object_fit": null,
            "object_position": null,
            "order": null,
            "overflow": null,
            "overflow_x": null,
            "overflow_y": null,
            "padding": null,
            "right": null,
            "top": null,
            "visibility": null,
            "width": null
          }
        },
        "7b9ed53198aa46fea9f0875fd07999c5": {
          "model_module": "@jupyter-widgets/controls",
          "model_module_version": "1.5.0",
          "model_name": "HTMLModel",
          "state": {
            "_dom_classes": [],
            "_model_module": "@jupyter-widgets/controls",
            "_model_module_version": "1.5.0",
            "_model_name": "HTMLModel",
            "_view_count": null,
            "_view_module": "@jupyter-widgets/controls",
            "_view_module_version": "1.5.0",
            "_view_name": "HTMLView",
            "description": "",
            "description_tooltip": null,
            "layout": "IPY_MODEL_09caf4b59d1a4b579a9a590b748c53b6",
            "placeholder": "​",
            "style": "IPY_MODEL_ba06a80754314d20836a87ded5becb99",
            "value": "config.json: 100%"
          }
        },
        "7c8dbffeb2294ad590974f644847a2c3": {
          "model_module": "@jupyter-widgets/controls",
          "model_module_version": "1.5.0",
          "model_name": "ProgressStyleModel",
          "state": {
            "_model_module": "@jupyter-widgets/controls",
            "_model_module_version": "1.5.0",
            "_model_name": "ProgressStyleModel",
            "_view_count": null,
            "_view_module": "@jupyter-widgets/base",
            "_view_module_version": "1.2.0",
            "_view_name": "StyleView",
            "bar_color": null,
            "description_width": ""
          }
        },
        "7fd723a318324a79bf33abfe56d3620d": {
          "model_module": "@jupyter-widgets/controls",
          "model_module_version": "1.5.0",
          "model_name": "HTMLModel",
          "state": {
            "_dom_classes": [],
            "_model_module": "@jupyter-widgets/controls",
            "_model_module_version": "1.5.0",
            "_model_name": "HTMLModel",
            "_view_count": null,
            "_view_module": "@jupyter-widgets/controls",
            "_view_module_version": "1.5.0",
            "_view_name": "HTMLView",
            "description": "",
            "description_tooltip": null,
            "layout": "IPY_MODEL_24721c2aad2c4fa590e5bb486341402a",
            "placeholder": "​",
            "style": "IPY_MODEL_e7f09a2c0ff84825867ee6ec25bc10f7",
            "value": "config_sentence_transformers.json: 100%"
          }
        },
        "830add38427f45568eb0700b8136a737": {
          "model_module": "@jupyter-widgets/base",
          "model_module_version": "1.2.0",
          "model_name": "LayoutModel",
          "state": {
            "_model_module": "@jupyter-widgets/base",
            "_model_module_version": "1.2.0",
            "_model_name": "LayoutModel",
            "_view_count": null,
            "_view_module": "@jupyter-widgets/base",
            "_view_module_version": "1.2.0",
            "_view_name": "LayoutView",
            "align_content": null,
            "align_items": null,
            "align_self": null,
            "border": null,
            "bottom": null,
            "display": null,
            "flex": null,
            "flex_flow": null,
            "grid_area": null,
            "grid_auto_columns": null,
            "grid_auto_flow": null,
            "grid_auto_rows": null,
            "grid_column": null,
            "grid_gap": null,
            "grid_row": null,
            "grid_template_areas": null,
            "grid_template_columns": null,
            "grid_template_rows": null,
            "height": null,
            "justify_content": null,
            "justify_items": null,
            "left": null,
            "margin": null,
            "max_height": null,
            "max_width": null,
            "min_height": null,
            "min_width": null,
            "object_fit": null,
            "object_position": null,
            "order": null,
            "overflow": null,
            "overflow_x": null,
            "overflow_y": null,
            "padding": null,
            "right": null,
            "top": null,
            "visibility": null,
            "width": null
          }
        },
        "85e14014592f492782b195a283ba74ad": {
          "model_module": "@jupyter-widgets/base",
          "model_module_version": "1.2.0",
          "model_name": "LayoutModel",
          "state": {
            "_model_module": "@jupyter-widgets/base",
            "_model_module_version": "1.2.0",
            "_model_name": "LayoutModel",
            "_view_count": null,
            "_view_module": "@jupyter-widgets/base",
            "_view_module_version": "1.2.0",
            "_view_name": "LayoutView",
            "align_content": null,
            "align_items": null,
            "align_self": null,
            "border": null,
            "bottom": null,
            "display": null,
            "flex": null,
            "flex_flow": null,
            "grid_area": null,
            "grid_auto_columns": null,
            "grid_auto_flow": null,
            "grid_auto_rows": null,
            "grid_column": null,
            "grid_gap": null,
            "grid_row": null,
            "grid_template_areas": null,
            "grid_template_columns": null,
            "grid_template_rows": null,
            "height": null,
            "justify_content": null,
            "justify_items": null,
            "left": null,
            "margin": null,
            "max_height": null,
            "max_width": null,
            "min_height": null,
            "min_width": null,
            "object_fit": null,
            "object_position": null,
            "order": null,
            "overflow": null,
            "overflow_x": null,
            "overflow_y": null,
            "padding": null,
            "right": null,
            "top": null,
            "visibility": null,
            "width": null
          }
        },
        "876c972040d24ca8a1e04816afa89866": {
          "model_module": "@jupyter-widgets/base",
          "model_module_version": "1.2.0",
          "model_name": "LayoutModel",
          "state": {
            "_model_module": "@jupyter-widgets/base",
            "_model_module_version": "1.2.0",
            "_model_name": "LayoutModel",
            "_view_count": null,
            "_view_module": "@jupyter-widgets/base",
            "_view_module_version": "1.2.0",
            "_view_name": "LayoutView",
            "align_content": null,
            "align_items": null,
            "align_self": null,
            "border": null,
            "bottom": null,
            "display": null,
            "flex": null,
            "flex_flow": null,
            "grid_area": null,
            "grid_auto_columns": null,
            "grid_auto_flow": null,
            "grid_auto_rows": null,
            "grid_column": null,
            "grid_gap": null,
            "grid_row": null,
            "grid_template_areas": null,
            "grid_template_columns": null,
            "grid_template_rows": null,
            "height": null,
            "justify_content": null,
            "justify_items": null,
            "left": null,
            "margin": null,
            "max_height": null,
            "max_width": null,
            "min_height": null,
            "min_width": null,
            "object_fit": null,
            "object_position": null,
            "order": null,
            "overflow": null,
            "overflow_x": null,
            "overflow_y": null,
            "padding": null,
            "right": null,
            "top": null,
            "visibility": null,
            "width": null
          }
        },
        "8b537c3657de40999e86bfecafc583f9": {
          "model_module": "@jupyter-widgets/controls",
          "model_module_version": "1.5.0",
          "model_name": "DescriptionStyleModel",
          "state": {
            "_model_module": "@jupyter-widgets/controls",
            "_model_module_version": "1.5.0",
            "_model_name": "DescriptionStyleModel",
            "_view_count": null,
            "_view_module": "@jupyter-widgets/base",
            "_view_module_version": "1.2.0",
            "_view_name": "StyleView",
            "description_width": ""
          }
        },
        "8eac6546a3af4e1597184bd879817cf7": {
          "model_module": "@jupyter-widgets/base",
          "model_module_version": "1.2.0",
          "model_name": "LayoutModel",
          "state": {
            "_model_module": "@jupyter-widgets/base",
            "_model_module_version": "1.2.0",
            "_model_name": "LayoutModel",
            "_view_count": null,
            "_view_module": "@jupyter-widgets/base",
            "_view_module_version": "1.2.0",
            "_view_name": "LayoutView",
            "align_content": null,
            "align_items": null,
            "align_self": null,
            "border": null,
            "bottom": null,
            "display": null,
            "flex": null,
            "flex_flow": null,
            "grid_area": null,
            "grid_auto_columns": null,
            "grid_auto_flow": null,
            "grid_auto_rows": null,
            "grid_column": null,
            "grid_gap": null,
            "grid_row": null,
            "grid_template_areas": null,
            "grid_template_columns": null,
            "grid_template_rows": null,
            "height": null,
            "justify_content": null,
            "justify_items": null,
            "left": null,
            "margin": null,
            "max_height": null,
            "max_width": null,
            "min_height": null,
            "min_width": null,
            "object_fit": null,
            "object_position": null,
            "order": null,
            "overflow": null,
            "overflow_x": null,
            "overflow_y": null,
            "padding": null,
            "right": null,
            "top": null,
            "visibility": null,
            "width": null
          }
        },
        "8fc3256efadb4fb3827e8a88e6acb998": {
          "model_module": "@jupyter-widgets/controls",
          "model_module_version": "1.5.0",
          "model_name": "DescriptionStyleModel",
          "state": {
            "_model_module": "@jupyter-widgets/controls",
            "_model_module_version": "1.5.0",
            "_model_name": "DescriptionStyleModel",
            "_view_count": null,
            "_view_module": "@jupyter-widgets/base",
            "_view_module_version": "1.2.0",
            "_view_name": "StyleView",
            "description_width": ""
          }
        },
        "9101047b368a47418b1af2852dca6309": {
          "model_module": "@jupyter-widgets/controls",
          "model_module_version": "1.5.0",
          "model_name": "ProgressStyleModel",
          "state": {
            "_model_module": "@jupyter-widgets/controls",
            "_model_module_version": "1.5.0",
            "_model_name": "ProgressStyleModel",
            "_view_count": null,
            "_view_module": "@jupyter-widgets/base",
            "_view_module_version": "1.2.0",
            "_view_name": "StyleView",
            "bar_color": null,
            "description_width": ""
          }
        },
        "918ef72969bb4815a8876164cc56d1fc": {
          "model_module": "@jupyter-widgets/controls",
          "model_module_version": "1.5.0",
          "model_name": "FloatProgressModel",
          "state": {
            "_dom_classes": [],
            "_model_module": "@jupyter-widgets/controls",
            "_model_module_version": "1.5.0",
            "_model_name": "FloatProgressModel",
            "_view_count": null,
            "_view_module": "@jupyter-widgets/controls",
            "_view_module_version": "1.5.0",
            "_view_name": "ProgressView",
            "bar_style": "success",
            "description": "",
            "description_tooltip": null,
            "layout": "IPY_MODEL_45f9a0c73f004ef69a76e200309570f4",
            "max": 116,
            "min": 0,
            "orientation": "horizontal",
            "style": "IPY_MODEL_5566c6a8f8ff40818436490b9e07173e",
            "value": 116
          }
        },
        "954fe98f3261408aa10491d96f19e272": {
          "model_module": "@jupyter-widgets/controls",
          "model_module_version": "1.5.0",
          "model_name": "HTMLModel",
          "state": {
            "_dom_classes": [],
            "_model_module": "@jupyter-widgets/controls",
            "_model_module_version": "1.5.0",
            "_model_name": "HTMLModel",
            "_view_count": null,
            "_view_module": "@jupyter-widgets/controls",
            "_view_module_version": "1.5.0",
            "_view_name": "HTMLView",
            "description": "",
            "description_tooltip": null,
            "layout": "IPY_MODEL_876c972040d24ca8a1e04816afa89866",
            "placeholder": "​",
            "style": "IPY_MODEL_8b537c3657de40999e86bfecafc583f9",
            "value": "README.md: 100%"
          }
        },
        "972a61bd9c4d499b938c16a982410ca7": {
          "model_module": "@jupyter-widgets/controls",
          "model_module_version": "1.5.0",
          "model_name": "HTMLModel",
          "state": {
            "_dom_classes": [],
            "_model_module": "@jupyter-widgets/controls",
            "_model_module_version": "1.5.0",
            "_model_name": "HTMLModel",
            "_view_count": null,
            "_view_module": "@jupyter-widgets/controls",
            "_view_module_version": "1.5.0",
            "_view_name": "HTMLView",
            "description": "",
            "description_tooltip": null,
            "layout": "IPY_MODEL_8eac6546a3af4e1597184bd879817cf7",
            "placeholder": "​",
            "style": "IPY_MODEL_b824f2ae1ac04cd78a093d6e196a7f97",
            "value": "vocab.txt: 100%"
          }
        },
        "9b326f532e5f46dd8c64a37ca7d23bfa": {
          "model_module": "@jupyter-widgets/controls",
          "model_module_version": "1.5.0",
          "model_name": "HTMLModel",
          "state": {
            "_dom_classes": [],
            "_model_module": "@jupyter-widgets/controls",
            "_model_module_version": "1.5.0",
            "_model_name": "HTMLModel",
            "_view_count": null,
            "_view_module": "@jupyter-widgets/controls",
            "_view_module_version": "1.5.0",
            "_view_name": "HTMLView",
            "description": "",
            "description_tooltip": null,
            "layout": "IPY_MODEL_487f9f61b45e4365b0ac0dfc7a64eca3",
            "placeholder": "​",
            "style": "IPY_MODEL_a5b48868639f494fb1dc7a52ad9a2ab5",
            "value": "special_tokens_map.json: 100%"
          }
        },
        "9c45a4095bc34f15b4415f58edbb17df": {
          "model_module": "@jupyter-widgets/base",
          "model_module_version": "1.2.0",
          "model_name": "LayoutModel",
          "state": {
            "_model_module": "@jupyter-widgets/base",
            "_model_module_version": "1.2.0",
            "_model_name": "LayoutModel",
            "_view_count": null,
            "_view_module": "@jupyter-widgets/base",
            "_view_module_version": "1.2.0",
            "_view_name": "LayoutView",
            "align_content": null,
            "align_items": null,
            "align_self": null,
            "border": null,
            "bottom": null,
            "display": null,
            "flex": null,
            "flex_flow": null,
            "grid_area": null,
            "grid_auto_columns": null,
            "grid_auto_flow": null,
            "grid_auto_rows": null,
            "grid_column": null,
            "grid_gap": null,
            "grid_row": null,
            "grid_template_areas": null,
            "grid_template_columns": null,
            "grid_template_rows": null,
            "height": null,
            "justify_content": null,
            "justify_items": null,
            "left": null,
            "margin": null,
            "max_height": null,
            "max_width": null,
            "min_height": null,
            "min_width": null,
            "object_fit": null,
            "object_position": null,
            "order": null,
            "overflow": null,
            "overflow_x": null,
            "overflow_y": null,
            "padding": null,
            "right": null,
            "top": null,
            "visibility": null,
            "width": null
          }
        },
        "9ce089032c6b49f9bf40d637c0efef6e": {
          "model_module": "@jupyter-widgets/controls",
          "model_module_version": "1.5.0",
          "model_name": "DescriptionStyleModel",
          "state": {
            "_model_module": "@jupyter-widgets/controls",
            "_model_module_version": "1.5.0",
            "_model_name": "DescriptionStyleModel",
            "_view_count": null,
            "_view_module": "@jupyter-widgets/base",
            "_view_module_version": "1.2.0",
            "_view_name": "StyleView",
            "description_width": ""
          }
        },
        "9d71e1827f574c9eadc792509f4d17fb": {
          "model_module": "@jupyter-widgets/base",
          "model_module_version": "1.2.0",
          "model_name": "LayoutModel",
          "state": {
            "_model_module": "@jupyter-widgets/base",
            "_model_module_version": "1.2.0",
            "_model_name": "LayoutModel",
            "_view_count": null,
            "_view_module": "@jupyter-widgets/base",
            "_view_module_version": "1.2.0",
            "_view_name": "LayoutView",
            "align_content": null,
            "align_items": null,
            "align_self": null,
            "border": null,
            "bottom": null,
            "display": null,
            "flex": null,
            "flex_flow": null,
            "grid_area": null,
            "grid_auto_columns": null,
            "grid_auto_flow": null,
            "grid_auto_rows": null,
            "grid_column": null,
            "grid_gap": null,
            "grid_row": null,
            "grid_template_areas": null,
            "grid_template_columns": null,
            "grid_template_rows": null,
            "height": null,
            "justify_content": null,
            "justify_items": null,
            "left": null,
            "margin": null,
            "max_height": null,
            "max_width": null,
            "min_height": null,
            "min_width": null,
            "object_fit": null,
            "object_position": null,
            "order": null,
            "overflow": null,
            "overflow_x": null,
            "overflow_y": null,
            "padding": null,
            "right": null,
            "top": null,
            "visibility": null,
            "width": null
          }
        },
        "a2114d55fda4451d902c0ef1aa12a428": {
          "model_module": "@jupyter-widgets/controls",
          "model_module_version": "1.5.0",
          "model_name": "HTMLModel",
          "state": {
            "_dom_classes": [],
            "_model_module": "@jupyter-widgets/controls",
            "_model_module_version": "1.5.0",
            "_model_name": "HTMLModel",
            "_view_count": null,
            "_view_module": "@jupyter-widgets/controls",
            "_view_module_version": "1.5.0",
            "_view_name": "HTMLView",
            "description": "",
            "description_tooltip": null,
            "layout": "IPY_MODEL_48ca0355d5c740f59db88d4332353ee7",
            "placeholder": "​",
            "style": "IPY_MODEL_19789d9a79fd4742af4e1dafee03c1b1",
            "value": " 53.0/53.0 [00:00&lt;00:00, 3.15kB/s]"
          }
        },
        "a28656b202ea4b75a3dc564616d209f8": {
          "model_module": "@jupyter-widgets/base",
          "model_module_version": "1.2.0",
          "model_name": "LayoutModel",
          "state": {
            "_model_module": "@jupyter-widgets/base",
            "_model_module_version": "1.2.0",
            "_model_name": "LayoutModel",
            "_view_count": null,
            "_view_module": "@jupyter-widgets/base",
            "_view_module_version": "1.2.0",
            "_view_name": "LayoutView",
            "align_content": null,
            "align_items": null,
            "align_self": null,
            "border": null,
            "bottom": null,
            "display": null,
            "flex": null,
            "flex_flow": null,
            "grid_area": null,
            "grid_auto_columns": null,
            "grid_auto_flow": null,
            "grid_auto_rows": null,
            "grid_column": null,
            "grid_gap": null,
            "grid_row": null,
            "grid_template_areas": null,
            "grid_template_columns": null,
            "grid_template_rows": null,
            "height": null,
            "justify_content": null,
            "justify_items": null,
            "left": null,
            "margin": null,
            "max_height": null,
            "max_width": null,
            "min_height": null,
            "min_width": null,
            "object_fit": null,
            "object_position": null,
            "order": null,
            "overflow": null,
            "overflow_x": null,
            "overflow_y": null,
            "padding": null,
            "right": null,
            "top": null,
            "visibility": null,
            "width": null
          }
        },
        "a5b48868639f494fb1dc7a52ad9a2ab5": {
          "model_module": "@jupyter-widgets/controls",
          "model_module_version": "1.5.0",
          "model_name": "DescriptionStyleModel",
          "state": {
            "_model_module": "@jupyter-widgets/controls",
            "_model_module_version": "1.5.0",
            "_model_name": "DescriptionStyleModel",
            "_view_count": null,
            "_view_module": "@jupyter-widgets/base",
            "_view_module_version": "1.2.0",
            "_view_name": "StyleView",
            "description_width": ""
          }
        },
        "a77916c64d1d46b3afe624ad02ca4137": {
          "model_module": "@jupyter-widgets/controls",
          "model_module_version": "1.5.0",
          "model_name": "DescriptionStyleModel",
          "state": {
            "_model_module": "@jupyter-widgets/controls",
            "_model_module_version": "1.5.0",
            "_model_name": "DescriptionStyleModel",
            "_view_count": null,
            "_view_module": "@jupyter-widgets/base",
            "_view_module_version": "1.2.0",
            "_view_name": "StyleView",
            "description_width": ""
          }
        },
        "aecd0585304f43e5aa8086877e41e679": {
          "model_module": "@jupyter-widgets/base",
          "model_module_version": "1.2.0",
          "model_name": "LayoutModel",
          "state": {
            "_model_module": "@jupyter-widgets/base",
            "_model_module_version": "1.2.0",
            "_model_name": "LayoutModel",
            "_view_count": null,
            "_view_module": "@jupyter-widgets/base",
            "_view_module_version": "1.2.0",
            "_view_name": "LayoutView",
            "align_content": null,
            "align_items": null,
            "align_self": null,
            "border": null,
            "bottom": null,
            "display": null,
            "flex": null,
            "flex_flow": null,
            "grid_area": null,
            "grid_auto_columns": null,
            "grid_auto_flow": null,
            "grid_auto_rows": null,
            "grid_column": null,
            "grid_gap": null,
            "grid_row": null,
            "grid_template_areas": null,
            "grid_template_columns": null,
            "grid_template_rows": null,
            "height": null,
            "justify_content": null,
            "justify_items": null,
            "left": null,
            "margin": null,
            "max_height": null,
            "max_width": null,
            "min_height": null,
            "min_width": null,
            "object_fit": null,
            "object_position": null,
            "order": null,
            "overflow": null,
            "overflow_x": null,
            "overflow_y": null,
            "padding": null,
            "right": null,
            "top": null,
            "visibility": null,
            "width": null
          }
        },
        "b15aecf8ca824865934329dd8fb6b232": {
          "model_module": "@jupyter-widgets/base",
          "model_module_version": "1.2.0",
          "model_name": "LayoutModel",
          "state": {
            "_model_module": "@jupyter-widgets/base",
            "_model_module_version": "1.2.0",
            "_model_name": "LayoutModel",
            "_view_count": null,
            "_view_module": "@jupyter-widgets/base",
            "_view_module_version": "1.2.0",
            "_view_name": "LayoutView",
            "align_content": null,
            "align_items": null,
            "align_self": null,
            "border": null,
            "bottom": null,
            "display": null,
            "flex": null,
            "flex_flow": null,
            "grid_area": null,
            "grid_auto_columns": null,
            "grid_auto_flow": null,
            "grid_auto_rows": null,
            "grid_column": null,
            "grid_gap": null,
            "grid_row": null,
            "grid_template_areas": null,
            "grid_template_columns": null,
            "grid_template_rows": null,
            "height": null,
            "justify_content": null,
            "justify_items": null,
            "left": null,
            "margin": null,
            "max_height": null,
            "max_width": null,
            "min_height": null,
            "min_width": null,
            "object_fit": null,
            "object_position": null,
            "order": null,
            "overflow": null,
            "overflow_x": null,
            "overflow_y": null,
            "padding": null,
            "right": null,
            "top": null,
            "visibility": null,
            "width": null
          }
        },
        "b264cfc0a5c24aa193d246fbc3de15e5": {
          "model_module": "@jupyter-widgets/base",
          "model_module_version": "1.2.0",
          "model_name": "LayoutModel",
          "state": {
            "_model_module": "@jupyter-widgets/base",
            "_model_module_version": "1.2.0",
            "_model_name": "LayoutModel",
            "_view_count": null,
            "_view_module": "@jupyter-widgets/base",
            "_view_module_version": "1.2.0",
            "_view_name": "LayoutView",
            "align_content": null,
            "align_items": null,
            "align_self": null,
            "border": null,
            "bottom": null,
            "display": null,
            "flex": null,
            "flex_flow": null,
            "grid_area": null,
            "grid_auto_columns": null,
            "grid_auto_flow": null,
            "grid_auto_rows": null,
            "grid_column": null,
            "grid_gap": null,
            "grid_row": null,
            "grid_template_areas": null,
            "grid_template_columns": null,
            "grid_template_rows": null,
            "height": null,
            "justify_content": null,
            "justify_items": null,
            "left": null,
            "margin": null,
            "max_height": null,
            "max_width": null,
            "min_height": null,
            "min_width": null,
            "object_fit": null,
            "object_position": null,
            "order": null,
            "overflow": null,
            "overflow_x": null,
            "overflow_y": null,
            "padding": null,
            "right": null,
            "top": null,
            "visibility": null,
            "width": null
          }
        },
        "b3651292353c458099e7e96a8a002096": {
          "model_module": "@jupyter-widgets/controls",
          "model_module_version": "1.5.0",
          "model_name": "HBoxModel",
          "state": {
            "_dom_classes": [],
            "_model_module": "@jupyter-widgets/controls",
            "_model_module_version": "1.5.0",
            "_model_name": "HBoxModel",
            "_view_count": null,
            "_view_module": "@jupyter-widgets/controls",
            "_view_module_version": "1.5.0",
            "_view_name": "HBoxView",
            "box_style": "",
            "children": [
              "IPY_MODEL_e220c44bbc18421d8d147ca77e6788bd",
              "IPY_MODEL_53cd5af714e6466cacc1dc92d478b775",
              "IPY_MODEL_d3606dc8cdb141ed8fca43bb6ce043c7"
            ],
            "layout": "IPY_MODEL_cdc13486cd4d4b35afa107c79675a19d"
          }
        },
        "b4444854e39f4b3eb9c20553aa509790": {
          "model_module": "@jupyter-widgets/controls",
          "model_module_version": "1.5.0",
          "model_name": "DescriptionStyleModel",
          "state": {
            "_model_module": "@jupyter-widgets/controls",
            "_model_module_version": "1.5.0",
            "_model_name": "DescriptionStyleModel",
            "_view_count": null,
            "_view_module": "@jupyter-widgets/base",
            "_view_module_version": "1.2.0",
            "_view_name": "StyleView",
            "description_width": ""
          }
        },
        "b5526335d665446daf7e5837c8dea650": {
          "model_module": "@jupyter-widgets/controls",
          "model_module_version": "1.5.0",
          "model_name": "DescriptionStyleModel",
          "state": {
            "_model_module": "@jupyter-widgets/controls",
            "_model_module_version": "1.5.0",
            "_model_name": "DescriptionStyleModel",
            "_view_count": null,
            "_view_module": "@jupyter-widgets/base",
            "_view_module_version": "1.2.0",
            "_view_name": "StyleView",
            "description_width": ""
          }
        },
        "b824f2ae1ac04cd78a093d6e196a7f97": {
          "model_module": "@jupyter-widgets/controls",
          "model_module_version": "1.5.0",
          "model_name": "DescriptionStyleModel",
          "state": {
            "_model_module": "@jupyter-widgets/controls",
            "_model_module_version": "1.5.0",
            "_model_name": "DescriptionStyleModel",
            "_view_count": null,
            "_view_module": "@jupyter-widgets/base",
            "_view_module_version": "1.2.0",
            "_view_name": "StyleView",
            "description_width": ""
          }
        },
        "b95bc3eb580248ec8f31ef90419f9ce1": {
          "model_module": "@jupyter-widgets/controls",
          "model_module_version": "1.5.0",
          "model_name": "FloatProgressModel",
          "state": {
            "_dom_classes": [],
            "_model_module": "@jupyter-widgets/controls",
            "_model_module_version": "1.5.0",
            "_model_name": "FloatProgressModel",
            "_view_count": null,
            "_view_module": "@jupyter-widgets/controls",
            "_view_module_version": "1.5.0",
            "_view_name": "ProgressView",
            "bar_style": "success",
            "description": "",
            "description_tooltip": null,
            "layout": "IPY_MODEL_53e3b30a041d4a31938adb1cf6d55c46",
            "max": 112,
            "min": 0,
            "orientation": "horizontal",
            "style": "IPY_MODEL_7c8dbffeb2294ad590974f644847a2c3",
            "value": 112
          }
        },
        "ba06a80754314d20836a87ded5becb99": {
          "model_module": "@jupyter-widgets/controls",
          "model_module_version": "1.5.0",
          "model_name": "DescriptionStyleModel",
          "state": {
            "_model_module": "@jupyter-widgets/controls",
            "_model_module_version": "1.5.0",
            "_model_name": "DescriptionStyleModel",
            "_view_count": null,
            "_view_module": "@jupyter-widgets/base",
            "_view_module_version": "1.2.0",
            "_view_name": "StyleView",
            "description_width": ""
          }
        },
        "bdde8937a9a0463388d84a721b95d31f": {
          "model_module": "@jupyter-widgets/controls",
          "model_module_version": "1.5.0",
          "model_name": "HTMLModel",
          "state": {
            "_dom_classes": [],
            "_model_module": "@jupyter-widgets/controls",
            "_model_module_version": "1.5.0",
            "_model_name": "HTMLModel",
            "_view_count": null,
            "_view_module": "@jupyter-widgets/controls",
            "_view_module_version": "1.5.0",
            "_view_name": "HTMLView",
            "description": "",
            "description_tooltip": null,
            "layout": "IPY_MODEL_f9da47d45cbd423e9c74e48e82452b83",
            "placeholder": "​",
            "style": "IPY_MODEL_074a6471fdbe40ed9acfbe2f5e949c2f",
            "value": " 612/612 [00:00&lt;00:00, 33.0kB/s]"
          }
        },
        "c02b648dd77d4ef0af423890c32f2f30": {
          "model_module": "@jupyter-widgets/controls",
          "model_module_version": "1.5.0",
          "model_name": "ProgressStyleModel",
          "state": {
            "_model_module": "@jupyter-widgets/controls",
            "_model_module_version": "1.5.0",
            "_model_name": "ProgressStyleModel",
            "_view_count": null,
            "_view_module": "@jupyter-widgets/base",
            "_view_module_version": "1.2.0",
            "_view_name": "StyleView",
            "bar_color": null,
            "description_width": ""
          }
        },
        "c625fadf89a945a098c8cab8c79edaed": {
          "model_module": "@jupyter-widgets/base",
          "model_module_version": "1.2.0",
          "model_name": "LayoutModel",
          "state": {
            "_model_module": "@jupyter-widgets/base",
            "_model_module_version": "1.2.0",
            "_model_name": "LayoutModel",
            "_view_count": null,
            "_view_module": "@jupyter-widgets/base",
            "_view_module_version": "1.2.0",
            "_view_name": "LayoutView",
            "align_content": null,
            "align_items": null,
            "align_self": null,
            "border": null,
            "bottom": null,
            "display": null,
            "flex": null,
            "flex_flow": null,
            "grid_area": null,
            "grid_auto_columns": null,
            "grid_auto_flow": null,
            "grid_auto_rows": null,
            "grid_column": null,
            "grid_gap": null,
            "grid_row": null,
            "grid_template_areas": null,
            "grid_template_columns": null,
            "grid_template_rows": null,
            "height": null,
            "justify_content": null,
            "justify_items": null,
            "left": null,
            "margin": null,
            "max_height": null,
            "max_width": null,
            "min_height": null,
            "min_width": null,
            "object_fit": null,
            "object_position": null,
            "order": null,
            "overflow": null,
            "overflow_x": null,
            "overflow_y": null,
            "padding": null,
            "right": null,
            "top": null,
            "visibility": null,
            "width": null
          }
        },
        "c666a1a873e74e1f87570d25e5839c3b": {
          "model_module": "@jupyter-widgets/base",
          "model_module_version": "1.2.0",
          "model_name": "LayoutModel",
          "state": {
            "_model_module": "@jupyter-widgets/base",
            "_model_module_version": "1.2.0",
            "_model_name": "LayoutModel",
            "_view_count": null,
            "_view_module": "@jupyter-widgets/base",
            "_view_module_version": "1.2.0",
            "_view_name": "LayoutView",
            "align_content": null,
            "align_items": null,
            "align_self": null,
            "border": null,
            "bottom": null,
            "display": null,
            "flex": null,
            "flex_flow": null,
            "grid_area": null,
            "grid_auto_columns": null,
            "grid_auto_flow": null,
            "grid_auto_rows": null,
            "grid_column": null,
            "grid_gap": null,
            "grid_row": null,
            "grid_template_areas": null,
            "grid_template_columns": null,
            "grid_template_rows": null,
            "height": null,
            "justify_content": null,
            "justify_items": null,
            "left": null,
            "margin": null,
            "max_height": null,
            "max_width": null,
            "min_height": null,
            "min_width": null,
            "object_fit": null,
            "object_position": null,
            "order": null,
            "overflow": null,
            "overflow_x": null,
            "overflow_y": null,
            "padding": null,
            "right": null,
            "top": null,
            "visibility": null,
            "width": null
          }
        },
        "cad4498ad3f64a9c93065415c36adb29": {
          "model_module": "@jupyter-widgets/controls",
          "model_module_version": "1.5.0",
          "model_name": "FloatProgressModel",
          "state": {
            "_dom_classes": [],
            "_model_module": "@jupyter-widgets/controls",
            "_model_module_version": "1.5.0",
            "_model_name": "FloatProgressModel",
            "_view_count": null,
            "_view_module": "@jupyter-widgets/controls",
            "_view_module_version": "1.5.0",
            "_view_name": "ProgressView",
            "bar_style": "success",
            "description": "",
            "description_tooltip": null,
            "layout": "IPY_MODEL_cb1c6c4e740b4a91b4a0f12a5adbe9d7",
            "max": 231508,
            "min": 0,
            "orientation": "horizontal",
            "style": "IPY_MODEL_12061393e24442a1ac19f59df7c8ed02",
            "value": 231508
          }
        },
        "cb1c6c4e740b4a91b4a0f12a5adbe9d7": {
          "model_module": "@jupyter-widgets/base",
          "model_module_version": "1.2.0",
          "model_name": "LayoutModel",
          "state": {
            "_model_module": "@jupyter-widgets/base",
            "_model_module_version": "1.2.0",
            "_model_name": "LayoutModel",
            "_view_count": null,
            "_view_module": "@jupyter-widgets/base",
            "_view_module_version": "1.2.0",
            "_view_name": "LayoutView",
            "align_content": null,
            "align_items": null,
            "align_self": null,
            "border": null,
            "bottom": null,
            "display": null,
            "flex": null,
            "flex_flow": null,
            "grid_area": null,
            "grid_auto_columns": null,
            "grid_auto_flow": null,
            "grid_auto_rows": null,
            "grid_column": null,
            "grid_gap": null,
            "grid_row": null,
            "grid_template_areas": null,
            "grid_template_columns": null,
            "grid_template_rows": null,
            "height": null,
            "justify_content": null,
            "justify_items": null,
            "left": null,
            "margin": null,
            "max_height": null,
            "max_width": null,
            "min_height": null,
            "min_width": null,
            "object_fit": null,
            "object_position": null,
            "order": null,
            "overflow": null,
            "overflow_x": null,
            "overflow_y": null,
            "padding": null,
            "right": null,
            "top": null,
            "visibility": null,
            "width": null
          }
        },
        "cdc13486cd4d4b35afa107c79675a19d": {
          "model_module": "@jupyter-widgets/base",
          "model_module_version": "1.2.0",
          "model_name": "LayoutModel",
          "state": {
            "_model_module": "@jupyter-widgets/base",
            "_model_module_version": "1.2.0",
            "_model_name": "LayoutModel",
            "_view_count": null,
            "_view_module": "@jupyter-widgets/base",
            "_view_module_version": "1.2.0",
            "_view_name": "LayoutView",
            "align_content": null,
            "align_items": null,
            "align_self": null,
            "border": null,
            "bottom": null,
            "display": null,
            "flex": null,
            "flex_flow": null,
            "grid_area": null,
            "grid_auto_columns": null,
            "grid_auto_flow": null,
            "grid_auto_rows": null,
            "grid_column": null,
            "grid_gap": null,
            "grid_row": null,
            "grid_template_areas": null,
            "grid_template_columns": null,
            "grid_template_rows": null,
            "height": null,
            "justify_content": null,
            "justify_items": null,
            "left": null,
            "margin": null,
            "max_height": null,
            "max_width": null,
            "min_height": null,
            "min_width": null,
            "object_fit": null,
            "object_position": null,
            "order": null,
            "overflow": null,
            "overflow_x": null,
            "overflow_y": null,
            "padding": null,
            "right": null,
            "top": null,
            "visibility": null,
            "width": null
          }
        },
        "d12085da77d84d0ab0884a36c3b63a8c": {
          "model_module": "@jupyter-widgets/controls",
          "model_module_version": "1.5.0",
          "model_name": "HBoxModel",
          "state": {
            "_dom_classes": [],
            "_model_module": "@jupyter-widgets/controls",
            "_model_module_version": "1.5.0",
            "_model_name": "HBoxModel",
            "_view_count": null,
            "_view_module": "@jupyter-widgets/controls",
            "_view_module_version": "1.5.0",
            "_view_name": "HBoxView",
            "box_style": "",
            "children": [
              "IPY_MODEL_972a61bd9c4d499b938c16a982410ca7",
              "IPY_MODEL_cad4498ad3f64a9c93065415c36adb29",
              "IPY_MODEL_4c7a2b0542674b7aaeccce12591528ed"
            ],
            "layout": "IPY_MODEL_830add38427f45568eb0700b8136a737"
          }
        },
        "d132cbcf72a346c9974b776cd7d55d47": {
          "model_module": "@jupyter-widgets/base",
          "model_module_version": "1.2.0",
          "model_name": "LayoutModel",
          "state": {
            "_model_module": "@jupyter-widgets/base",
            "_model_module_version": "1.2.0",
            "_model_name": "LayoutModel",
            "_view_count": null,
            "_view_module": "@jupyter-widgets/base",
            "_view_module_version": "1.2.0",
            "_view_name": "LayoutView",
            "align_content": null,
            "align_items": null,
            "align_self": null,
            "border": null,
            "bottom": null,
            "display": null,
            "flex": null,
            "flex_flow": null,
            "grid_area": null,
            "grid_auto_columns": null,
            "grid_auto_flow": null,
            "grid_auto_rows": null,
            "grid_column": null,
            "grid_gap": null,
            "grid_row": null,
            "grid_template_areas": null,
            "grid_template_columns": null,
            "grid_template_rows": null,
            "height": null,
            "justify_content": null,
            "justify_items": null,
            "left": null,
            "margin": null,
            "max_height": null,
            "max_width": null,
            "min_height": null,
            "min_width": null,
            "object_fit": null,
            "object_position": null,
            "order": null,
            "overflow": null,
            "overflow_x": null,
            "overflow_y": null,
            "padding": null,
            "right": null,
            "top": null,
            "visibility": null,
            "width": null
          }
        },
        "d1ae802dba1149ca9e4def59a72ec3ba": {
          "model_module": "@jupyter-widgets/controls",
          "model_module_version": "1.5.0",
          "model_name": "HBoxModel",
          "state": {
            "_dom_classes": [],
            "_model_module": "@jupyter-widgets/controls",
            "_model_module_version": "1.5.0",
            "_model_name": "HBoxModel",
            "_view_count": null,
            "_view_module": "@jupyter-widgets/controls",
            "_view_module_version": "1.5.0",
            "_view_name": "HBoxView",
            "box_style": "",
            "children": [
              "IPY_MODEL_3b252b6cee3c4543bb8919f80eebe288",
              "IPY_MODEL_56efd36f6e5c4ab29702cf374d442039",
              "IPY_MODEL_290d595d8e58474faee18e36c503249f"
            ],
            "layout": "IPY_MODEL_aecd0585304f43e5aa8086877e41e679"
          }
        },
        "d3606dc8cdb141ed8fca43bb6ce043c7": {
          "model_module": "@jupyter-widgets/controls",
          "model_module_version": "1.5.0",
          "model_name": "HTMLModel",
          "state": {
            "_dom_classes": [],
            "_model_module": "@jupyter-widgets/controls",
            "_model_module_version": "1.5.0",
            "_model_name": "HTMLModel",
            "_view_count": null,
            "_view_module": "@jupyter-widgets/controls",
            "_view_module_version": "1.5.0",
            "_view_name": "HTMLView",
            "description": "",
            "description_tooltip": null,
            "layout": "IPY_MODEL_85e14014592f492782b195a283ba74ad",
            "placeholder": "​",
            "style": "IPY_MODEL_131c46f2ecf6494b97829e9ba56d49ee",
            "value": " 350/350 [00:00&lt;00:00, 12.8kB/s]"
          }
        },
        "d7c44beb266141d3875b800de14214aa": {
          "model_module": "@jupyter-widgets/base",
          "model_module_version": "1.2.0",
          "model_name": "LayoutModel",
          "state": {
            "_model_module": "@jupyter-widgets/base",
            "_model_module_version": "1.2.0",
            "_model_name": "LayoutModel",
            "_view_count": null,
            "_view_module": "@jupyter-widgets/base",
            "_view_module_version": "1.2.0",
            "_view_name": "LayoutView",
            "align_content": null,
            "align_items": null,
            "align_self": null,
            "border": null,
            "bottom": null,
            "display": null,
            "flex": null,
            "flex_flow": null,
            "grid_area": null,
            "grid_auto_columns": null,
            "grid_auto_flow": null,
            "grid_auto_rows": null,
            "grid_column": null,
            "grid_gap": null,
            "grid_row": null,
            "grid_template_areas": null,
            "grid_template_columns": null,
            "grid_template_rows": null,
            "height": null,
            "justify_content": null,
            "justify_items": null,
            "left": null,
            "margin": null,
            "max_height": null,
            "max_width": null,
            "min_height": null,
            "min_width": null,
            "object_fit": null,
            "object_position": null,
            "order": null,
            "overflow": null,
            "overflow_x": null,
            "overflow_y": null,
            "padding": null,
            "right": null,
            "top": null,
            "visibility": null,
            "width": null
          }
        },
        "d8f943cdce2a4e30a4a47dad04f05d28": {
          "model_module": "@jupyter-widgets/controls",
          "model_module_version": "1.5.0",
          "model_name": "FloatProgressModel",
          "state": {
            "_dom_classes": [],
            "_model_module": "@jupyter-widgets/controls",
            "_model_module_version": "1.5.0",
            "_model_name": "FloatProgressModel",
            "_view_count": null,
            "_view_module": "@jupyter-widgets/controls",
            "_view_module_version": "1.5.0",
            "_view_name": "ProgressView",
            "bar_style": "success",
            "description": "",
            "description_tooltip": null,
            "layout": "IPY_MODEL_ec1075c521644d3f953a16cbe1f2e030",
            "max": 53,
            "min": 0,
            "orientation": "horizontal",
            "style": "IPY_MODEL_2ce57d428da04626be6995389469ab28",
            "value": 53
          }
        },
        "dc464f3338c2435b84b75db1f8e6e416": {
          "model_module": "@jupyter-widgets/controls",
          "model_module_version": "1.5.0",
          "model_name": "DescriptionStyleModel",
          "state": {
            "_model_module": "@jupyter-widgets/controls",
            "_model_module_version": "1.5.0",
            "_model_name": "DescriptionStyleModel",
            "_view_count": null,
            "_view_module": "@jupyter-widgets/base",
            "_view_module_version": "1.2.0",
            "_view_name": "StyleView",
            "description_width": ""
          }
        },
        "dd26fb9910ba4bffaa5d4db648e951ef": {
          "model_module": "@jupyter-widgets/controls",
          "model_module_version": "1.5.0",
          "model_name": "FloatProgressModel",
          "state": {
            "_dom_classes": [],
            "_model_module": "@jupyter-widgets/controls",
            "_model_module_version": "1.5.0",
            "_model_name": "FloatProgressModel",
            "_view_count": null,
            "_view_module": "@jupyter-widgets/controls",
            "_view_module_version": "1.5.0",
            "_view_name": "ProgressView",
            "bar_style": "success",
            "description": "",
            "description_tooltip": null,
            "layout": "IPY_MODEL_1f29ae9f38694368adc61335125598e0",
            "max": 190,
            "min": 0,
            "orientation": "horizontal",
            "style": "IPY_MODEL_367c6767a186473d83432d8f38aba8cb",
            "value": 190
          }
        },
        "e08b06fb92d8449db0b357558c25d620": {
          "model_module": "@jupyter-widgets/base",
          "model_module_version": "1.2.0",
          "model_name": "LayoutModel",
          "state": {
            "_model_module": "@jupyter-widgets/base",
            "_model_module_version": "1.2.0",
            "_model_name": "LayoutModel",
            "_view_count": null,
            "_view_module": "@jupyter-widgets/base",
            "_view_module_version": "1.2.0",
            "_view_name": "LayoutView",
            "align_content": null,
            "align_items": null,
            "align_self": null,
            "border": null,
            "bottom": null,
            "display": null,
            "flex": null,
            "flex_flow": null,
            "grid_area": null,
            "grid_auto_columns": null,
            "grid_auto_flow": null,
            "grid_auto_rows": null,
            "grid_column": null,
            "grid_gap": null,
            "grid_row": null,
            "grid_template_areas": null,
            "grid_template_columns": null,
            "grid_template_rows": null,
            "height": null,
            "justify_content": null,
            "justify_items": null,
            "left": null,
            "margin": null,
            "max_height": null,
            "max_width": null,
            "min_height": null,
            "min_width": null,
            "object_fit": null,
            "object_position": null,
            "order": null,
            "overflow": null,
            "overflow_x": null,
            "overflow_y": null,
            "padding": null,
            "right": null,
            "top": null,
            "visibility": null,
            "width": null
          }
        },
        "e14b79c1eb09499f925c5abc87f9e358": {
          "model_module": "@jupyter-widgets/controls",
          "model_module_version": "1.5.0",
          "model_name": "HBoxModel",
          "state": {
            "_dom_classes": [],
            "_model_module": "@jupyter-widgets/controls",
            "_model_module_version": "1.5.0",
            "_model_name": "HBoxModel",
            "_view_count": null,
            "_view_module": "@jupyter-widgets/controls",
            "_view_module_version": "1.5.0",
            "_view_name": "HBoxView",
            "box_style": "",
            "children": [
              "IPY_MODEL_07c4f947bfe245f4adb3cf375f089939",
              "IPY_MODEL_d8f943cdce2a4e30a4a47dad04f05d28",
              "IPY_MODEL_a2114d55fda4451d902c0ef1aa12a428"
            ],
            "layout": "IPY_MODEL_2965df6c49044b35b3ba6d2cdc24d74d"
          }
        },
        "e14d291267454ec7a181ddf6929c33bb": {
          "model_module": "@jupyter-widgets/controls",
          "model_module_version": "1.5.0",
          "model_name": "HTMLModel",
          "state": {
            "_dom_classes": [],
            "_model_module": "@jupyter-widgets/controls",
            "_model_module_version": "1.5.0",
            "_model_name": "HTMLModel",
            "_view_count": null,
            "_view_module": "@jupyter-widgets/controls",
            "_view_module_version": "1.5.0",
            "_view_name": "HTMLView",
            "description": "",
            "description_tooltip": null,
            "layout": "IPY_MODEL_248c31eb970f4f08aaab64374420adb4",
            "placeholder": "​",
            "style": "IPY_MODEL_7460ad56137c4789bd01ee3770ebb4d4",
            "value": " 10.7k/10.7k [00:00&lt;00:00, 462kB/s]"
          }
        },
        "e220c44bbc18421d8d147ca77e6788bd": {
          "model_module": "@jupyter-widgets/controls",
          "model_module_version": "1.5.0",
          "model_name": "HTMLModel",
          "state": {
            "_dom_classes": [],
            "_model_module": "@jupyter-widgets/controls",
            "_model_module_version": "1.5.0",
            "_model_name": "HTMLModel",
            "_view_count": null,
            "_view_module": "@jupyter-widgets/controls",
            "_view_module_version": "1.5.0",
            "_view_name": "HTMLView",
            "description": "",
            "description_tooltip": null,
            "layout": "IPY_MODEL_58d206a51602494abfbffab3f862015b",
            "placeholder": "​",
            "style": "IPY_MODEL_8fc3256efadb4fb3827e8a88e6acb998",
            "value": "tokenizer_config.json: 100%"
          }
        },
        "e7f09a2c0ff84825867ee6ec25bc10f7": {
          "model_module": "@jupyter-widgets/controls",
          "model_module_version": "1.5.0",
          "model_name": "DescriptionStyleModel",
          "state": {
            "_model_module": "@jupyter-widgets/controls",
            "_model_module_version": "1.5.0",
            "_model_name": "DescriptionStyleModel",
            "_view_count": null,
            "_view_module": "@jupyter-widgets/base",
            "_view_module_version": "1.2.0",
            "_view_name": "StyleView",
            "description_width": ""
          }
        },
        "e8d779e8ed5a4d659c74aa586c169c57": {
          "model_module": "@jupyter-widgets/controls",
          "model_module_version": "1.5.0",
          "model_name": "HBoxModel",
          "state": {
            "_dom_classes": [],
            "_model_module": "@jupyter-widgets/controls",
            "_model_module_version": "1.5.0",
            "_model_name": "HBoxModel",
            "_view_count": null,
            "_view_module": "@jupyter-widgets/controls",
            "_view_module_version": "1.5.0",
            "_view_name": "HBoxView",
            "box_style": "",
            "children": [
              "IPY_MODEL_ff51e0815d29426d9304a0d781dafb12",
              "IPY_MODEL_72b6c4c385af44e1bba560296276db76",
              "IPY_MODEL_211627521efb4a829aebb5e64cdd2115"
            ],
            "layout": "IPY_MODEL_2bcfc3e35bd54e0f8eb411e2accaffd4"
          }
        },
        "e8e8700a0b45490992fae82f6e04ccf0": {
          "model_module": "@jupyter-widgets/controls",
          "model_module_version": "1.5.0",
          "model_name": "HBoxModel",
          "state": {
            "_dom_classes": [],
            "_model_module": "@jupyter-widgets/controls",
            "_model_module_version": "1.5.0",
            "_model_name": "HBoxModel",
            "_view_count": null,
            "_view_module": "@jupyter-widgets/controls",
            "_view_module_version": "1.5.0",
            "_view_name": "HBoxView",
            "box_style": "",
            "children": [
              "IPY_MODEL_ef43923528a84424bde4490feb99cf6e",
              "IPY_MODEL_dd26fb9910ba4bffaa5d4db648e951ef",
              "IPY_MODEL_715c8f7ed318476faf6dd2309530162f"
            ],
            "layout": "IPY_MODEL_b15aecf8ca824865934329dd8fb6b232"
          }
        },
        "ec1075c521644d3f953a16cbe1f2e030": {
          "model_module": "@jupyter-widgets/base",
          "model_module_version": "1.2.0",
          "model_name": "LayoutModel",
          "state": {
            "_model_module": "@jupyter-widgets/base",
            "_model_module_version": "1.2.0",
            "_model_name": "LayoutModel",
            "_view_count": null,
            "_view_module": "@jupyter-widgets/base",
            "_view_module_version": "1.2.0",
            "_view_name": "LayoutView",
            "align_content": null,
            "align_items": null,
            "align_self": null,
            "border": null,
            "bottom": null,
            "display": null,
            "flex": null,
            "flex_flow": null,
            "grid_area": null,
            "grid_auto_columns": null,
            "grid_auto_flow": null,
            "grid_auto_rows": null,
            "grid_column": null,
            "grid_gap": null,
            "grid_row": null,
            "grid_template_areas": null,
            "grid_template_columns": null,
            "grid_template_rows": null,
            "height": null,
            "justify_content": null,
            "justify_items": null,
            "left": null,
            "margin": null,
            "max_height": null,
            "max_width": null,
            "min_height": null,
            "min_width": null,
            "object_fit": null,
            "object_position": null,
            "order": null,
            "overflow": null,
            "overflow_x": null,
            "overflow_y": null,
            "padding": null,
            "right": null,
            "top": null,
            "visibility": null,
            "width": null
          }
        },
        "ef43923528a84424bde4490feb99cf6e": {
          "model_module": "@jupyter-widgets/controls",
          "model_module_version": "1.5.0",
          "model_name": "HTMLModel",
          "state": {
            "_dom_classes": [],
            "_model_module": "@jupyter-widgets/controls",
            "_model_module_version": "1.5.0",
            "_model_name": "HTMLModel",
            "_view_count": null,
            "_view_module": "@jupyter-widgets/controls",
            "_view_module_version": "1.5.0",
            "_view_name": "HTMLView",
            "description": "",
            "description_tooltip": null,
            "layout": "IPY_MODEL_d132cbcf72a346c9974b776cd7d55d47",
            "placeholder": "​",
            "style": "IPY_MODEL_dc464f3338c2435b84b75db1f8e6e416",
            "value": "1_Pooling/config.json: 100%"
          }
        },
        "f227a0992bde4673af0fb062aa5b35e8": {
          "model_module": "@jupyter-widgets/controls",
          "model_module_version": "1.5.0",
          "model_name": "HBoxModel",
          "state": {
            "_dom_classes": [],
            "_model_module": "@jupyter-widgets/controls",
            "_model_module_version": "1.5.0",
            "_model_name": "HBoxModel",
            "_view_count": null,
            "_view_module": "@jupyter-widgets/controls",
            "_view_module_version": "1.5.0",
            "_view_name": "HBoxView",
            "box_style": "",
            "children": [
              "IPY_MODEL_0f82ee1dd69942bb9c3b7768619237ca",
              "IPY_MODEL_6f535b58873248698e94c5bf9cff6a58",
              "IPY_MODEL_3fbcde1c16644a8083f5ad7141d584a9"
            ],
            "layout": "IPY_MODEL_5b3ea04a18f341cab660bb8750548975"
          }
        },
        "f408d390719b4587bf89a2e6d4245f39": {
          "model_module": "@jupyter-widgets/base",
          "model_module_version": "1.2.0",
          "model_name": "LayoutModel",
          "state": {
            "_model_module": "@jupyter-widgets/base",
            "_model_module_version": "1.2.0",
            "_model_name": "LayoutModel",
            "_view_count": null,
            "_view_module": "@jupyter-widgets/base",
            "_view_module_version": "1.2.0",
            "_view_name": "LayoutView",
            "align_content": null,
            "align_items": null,
            "align_self": null,
            "border": null,
            "bottom": null,
            "display": null,
            "flex": null,
            "flex_flow": null,
            "grid_area": null,
            "grid_auto_columns": null,
            "grid_auto_flow": null,
            "grid_auto_rows": null,
            "grid_column": null,
            "grid_gap": null,
            "grid_row": null,
            "grid_template_areas": null,
            "grid_template_columns": null,
            "grid_template_rows": null,
            "height": null,
            "justify_content": null,
            "justify_items": null,
            "left": null,
            "margin": null,
            "max_height": null,
            "max_width": null,
            "min_height": null,
            "min_width": null,
            "object_fit": null,
            "object_position": null,
            "order": null,
            "overflow": null,
            "overflow_x": null,
            "overflow_y": null,
            "padding": null,
            "right": null,
            "top": null,
            "visibility": null,
            "width": null
          }
        },
        "f71bb3b2677c43bd8b918346db36be48": {
          "model_module": "@jupyter-widgets/base",
          "model_module_version": "1.2.0",
          "model_name": "LayoutModel",
          "state": {
            "_model_module": "@jupyter-widgets/base",
            "_model_module_version": "1.2.0",
            "_model_name": "LayoutModel",
            "_view_count": null,
            "_view_module": "@jupyter-widgets/base",
            "_view_module_version": "1.2.0",
            "_view_name": "LayoutView",
            "align_content": null,
            "align_items": null,
            "align_self": null,
            "border": null,
            "bottom": null,
            "display": null,
            "flex": null,
            "flex_flow": null,
            "grid_area": null,
            "grid_auto_columns": null,
            "grid_auto_flow": null,
            "grid_auto_rows": null,
            "grid_column": null,
            "grid_gap": null,
            "grid_row": null,
            "grid_template_areas": null,
            "grid_template_columns": null,
            "grid_template_rows": null,
            "height": null,
            "justify_content": null,
            "justify_items": null,
            "left": null,
            "margin": null,
            "max_height": null,
            "max_width": null,
            "min_height": null,
            "min_width": null,
            "object_fit": null,
            "object_position": null,
            "order": null,
            "overflow": null,
            "overflow_x": null,
            "overflow_y": null,
            "padding": null,
            "right": null,
            "top": null,
            "visibility": null,
            "width": null
          }
        },
        "f88d5e5fb2734091b1916b578cf4a8b9": {
          "model_module": "@jupyter-widgets/base",
          "model_module_version": "1.2.0",
          "model_name": "LayoutModel",
          "state": {
            "_model_module": "@jupyter-widgets/base",
            "_model_module_version": "1.2.0",
            "_model_name": "LayoutModel",
            "_view_count": null,
            "_view_module": "@jupyter-widgets/base",
            "_view_module_version": "1.2.0",
            "_view_name": "LayoutView",
            "align_content": null,
            "align_items": null,
            "align_self": null,
            "border": null,
            "bottom": null,
            "display": null,
            "flex": null,
            "flex_flow": null,
            "grid_area": null,
            "grid_auto_columns": null,
            "grid_auto_flow": null,
            "grid_auto_rows": null,
            "grid_column": null,
            "grid_gap": null,
            "grid_row": null,
            "grid_template_areas": null,
            "grid_template_columns": null,
            "grid_template_rows": null,
            "height": null,
            "justify_content": null,
            "justify_items": null,
            "left": null,
            "margin": null,
            "max_height": null,
            "max_width": null,
            "min_height": null,
            "min_width": null,
            "object_fit": null,
            "object_position": null,
            "order": null,
            "overflow": null,
            "overflow_x": null,
            "overflow_y": null,
            "padding": null,
            "right": null,
            "top": null,
            "visibility": null,
            "width": null
          }
        },
        "f9da47d45cbd423e9c74e48e82452b83": {
          "model_module": "@jupyter-widgets/base",
          "model_module_version": "1.2.0",
          "model_name": "LayoutModel",
          "state": {
            "_model_module": "@jupyter-widgets/base",
            "_model_module_version": "1.2.0",
            "_model_name": "LayoutModel",
            "_view_count": null,
            "_view_module": "@jupyter-widgets/base",
            "_view_module_version": "1.2.0",
            "_view_name": "LayoutView",
            "align_content": null,
            "align_items": null,
            "align_self": null,
            "border": null,
            "bottom": null,
            "display": null,
            "flex": null,
            "flex_flow": null,
            "grid_area": null,
            "grid_auto_columns": null,
            "grid_auto_flow": null,
            "grid_auto_rows": null,
            "grid_column": null,
            "grid_gap": null,
            "grid_row": null,
            "grid_template_areas": null,
            "grid_template_columns": null,
            "grid_template_rows": null,
            "height": null,
            "justify_content": null,
            "justify_items": null,
            "left": null,
            "margin": null,
            "max_height": null,
            "max_width": null,
            "min_height": null,
            "min_width": null,
            "object_fit": null,
            "object_position": null,
            "order": null,
            "overflow": null,
            "overflow_x": null,
            "overflow_y": null,
            "padding": null,
            "right": null,
            "top": null,
            "visibility": null,
            "width": null
          }
        },
        "fb08084b416f40818b123916cac094de": {
          "model_module": "@jupyter-widgets/controls",
          "model_module_version": "1.5.0",
          "model_name": "DescriptionStyleModel",
          "state": {
            "_model_module": "@jupyter-widgets/controls",
            "_model_module_version": "1.5.0",
            "_model_name": "DescriptionStyleModel",
            "_view_count": null,
            "_view_module": "@jupyter-widgets/base",
            "_view_module_version": "1.2.0",
            "_view_name": "StyleView",
            "description_width": ""
          }
        },
        "fce994a8f0a742a39d7a009cbcd91db7": {
          "model_module": "@jupyter-widgets/controls",
          "model_module_version": "1.5.0",
          "model_name": "ProgressStyleModel",
          "state": {
            "_model_module": "@jupyter-widgets/controls",
            "_model_module_version": "1.5.0",
            "_model_name": "ProgressStyleModel",
            "_view_count": null,
            "_view_module": "@jupyter-widgets/base",
            "_view_module_version": "1.2.0",
            "_view_name": "StyleView",
            "bar_color": null,
            "description_width": ""
          }
        },
        "fe4a5fec3f0f46eda3d9b1b44a20a4e2": {
          "model_module": "@jupyter-widgets/controls",
          "model_module_version": "1.5.0",
          "model_name": "ProgressStyleModel",
          "state": {
            "_model_module": "@jupyter-widgets/controls",
            "_model_module_version": "1.5.0",
            "_model_name": "ProgressStyleModel",
            "_view_count": null,
            "_view_module": "@jupyter-widgets/base",
            "_view_module_version": "1.2.0",
            "_view_name": "StyleView",
            "bar_color": null,
            "description_width": ""
          }
        },
        "ff51e0815d29426d9304a0d781dafb12": {
          "model_module": "@jupyter-widgets/controls",
          "model_module_version": "1.5.0",
          "model_name": "HTMLModel",
          "state": {
            "_dom_classes": [],
            "_model_module": "@jupyter-widgets/controls",
            "_model_module_version": "1.5.0",
            "_model_name": "HTMLModel",
            "_view_count": null,
            "_view_module": "@jupyter-widgets/controls",
            "_view_module_version": "1.5.0",
            "_view_name": "HTMLView",
            "description": "",
            "description_tooltip": null,
            "layout": "IPY_MODEL_f71bb3b2677c43bd8b918346db36be48",
            "placeholder": "​",
            "style": "IPY_MODEL_b5526335d665446daf7e5837c8dea650",
            "value": "model.safetensors: 100%"
          }
        }
      }
    }
  },
  "nbformat": 4,
  "nbformat_minor": 0
}
