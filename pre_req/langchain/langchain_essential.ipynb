{
 "cells": [
  {
   "cell_type": "code",
   "execution_count": 461,
   "id": "672358d2",
   "metadata": {},
   "outputs": [],
   "source": [
    "import os"
   ]
  },
  {
   "cell_type": "code",
   "execution_count": 462,
   "id": "a76b9e96",
   "metadata": {},
   "outputs": [],
   "source": [
    "import warnings\n",
    "warnings.filterwarnings(\"ignore\") "
   ]
  },
  {
   "cell_type": "code",
   "execution_count": 463,
   "id": "c690541d",
   "metadata": {},
   "outputs": [
    {
     "data": {
      "text/plain": [
       "True"
      ]
     },
     "execution_count": 463,
     "metadata": {},
     "output_type": "execute_result"
    }
   ],
   "source": [
    "from dotenv import load_dotenv\n",
    "load_dotenv()"
   ]
  },
  {
   "cell_type": "code",
   "execution_count": 464,
   "id": "77eacbd8",
   "metadata": {},
   "outputs": [],
   "source": [
    "GROQ_API_KEY = os.getenv(\"GROQ_API_KEY\")\n",
    "GOOGLE_API_KEY = os.getenv(\"GOOGLE_API_KEY\")\n",
    "LANGSMITH_TRACING=os.getenv(\"LANGSMITH_TRACING_V2\", \"true\")  # Default to \"true\" if not set\n",
    "LANGSMITH_ENDPOINT=os.getenv(\"LANGSMITH_ENDPOINT\")\n",
    "LANGSMITH_API_KEY=os.getenv(\"LANGSMITH_API_KEY\")\n",
    "LANGSMITH_PROJECT=os.getenv(\"LANGSMITH_PROJECT\")\n",
    "TAVILY_API_KEY = os.getenv(\"TAVILY_API_KEY\")\n",
    "\n",
    "\n",
    "os.environ[\"GROQ_API_KEY\"] = GROQ_API_KEY\n",
    "os.environ[\"GOOGLE_API_KEY\"] = GOOGLE_API_KEY\n",
    "os.environ[\"LANGSMITH_TRACING_V2\"] = os.getenv(\"LANGSMITH_TRACING\")\n",
    "os.environ[\"LANGSMITH_ENDPOINT\"] = LANGSMITH_ENDPOINT\n",
    "os.environ[\"LANGSMITH_API_KEY\"] = LANGSMITH_API_KEY\n",
    "os.environ[\"LANGSMITH_PROJECT\"] = LANGSMITH_PROJECT\n",
    "os.environ[\"TAVILY_API_KEY\"] = TAVILY_API_KEY"
   ]
  },
  {
   "cell_type": "markdown",
   "id": "b19e2d86",
   "metadata": {},
   "source": [
    "### Load the model and test it with a simple message"
   ]
  },
  {
   "cell_type": "code",
   "execution_count": 465,
   "id": "1e602cb6",
   "metadata": {},
   "outputs": [],
   "source": [
    "from langchain_core.messages import HumanMessage, SystemMessage\n",
    "from langchain_google_genai import ChatGoogleGenerativeAI\n",
    "from langchain_groq import ChatGroq"
   ]
  },
  {
   "cell_type": "code",
   "execution_count": 466,
   "id": "8b45de3f",
   "metadata": {},
   "outputs": [],
   "source": [
    "# llm = ChatGoogleGenerativeAI(\n",
    "#     model=\"gemini-2.0-flash\",\n",
    "#     temperature=0,\n",
    "#     max_tokens=None,\n",
    "#     timeout=None,\n",
    "#     max_retries=2,\n",
    "#     convert_system_message_to_human=True,\n",
    "# )\n",
    "\n",
    "llm = ChatGroq(model=\"llama3-8b-8192\")"
   ]
  },
  {
   "cell_type": "code",
   "execution_count": 467,
   "id": "01650614",
   "metadata": {},
   "outputs": [],
   "source": [
    "message1 = [SystemMessage(content=\"You are a helpful assistant.\"),\n",
    "           HumanMessage(content=\"I need your help\")]"
   ]
  },
  {
   "cell_type": "code",
   "execution_count": 468,
   "id": "f7cd96b5",
   "metadata": {},
   "outputs": [
    {
     "data": {
      "text/plain": [
       "AIMessage(content=\"I'd be happy to help you. Please share what's on your mind and what you need help with. Whether it's a question, a problem, or just someone to talk to, I'm here to listen and assist you in any way I can.\", additional_kwargs={}, response_metadata={'token_usage': {'completion_tokens': 53, 'prompt_tokens': 25, 'total_tokens': 78, 'completion_time': 0.06455597, 'prompt_time': 0.004612482, 'queue_time': 0.27770822100000003, 'total_time': 0.069168452}, 'model_name': 'llama3-8b-8192', 'system_fingerprint': 'fp_5b339000ab', 'service_tier': 'on_demand', 'finish_reason': 'stop', 'logprobs': None}, id='run--6da36115-c1ee-42f0-b1fa-639dc06718c2-0', usage_metadata={'input_tokens': 25, 'output_tokens': 53, 'total_tokens': 78})"
      ]
     },
     "execution_count": 468,
     "metadata": {},
     "output_type": "execute_result"
    }
   ],
   "source": [
    "response1 = llm.invoke(message1)\n",
    "response1"
   ]
  },
  {
   "cell_type": "code",
   "execution_count": 469,
   "id": "49b1b152",
   "metadata": {},
   "outputs": [],
   "source": [
    "message2 = [SystemMessage(content=\"You are a helpful assistant. and you give concise answers.\"),\n",
    "           HumanMessage(content=\"I need your help\")]"
   ]
  },
  {
   "cell_type": "code",
   "execution_count": 470,
   "id": "e4dec074",
   "metadata": {},
   "outputs": [
    {
     "data": {
      "text/plain": [
       "AIMessage(content=\"I'd be happy to help you. What's on your mind?\", additional_kwargs={}, response_metadata={'token_usage': {'completion_tokens': 15, 'prompt_tokens': 31, 'total_tokens': 46, 'completion_time': 0.023247517, 'prompt_time': 0.011684492, 'queue_time': 0.439985485, 'total_time': 0.034932009}, 'model_name': 'llama3-8b-8192', 'system_fingerprint': 'fp_0fb809dba3', 'service_tier': 'on_demand', 'finish_reason': 'stop', 'logprobs': None}, id='run--7e188399-a4bb-4e05-affe-add35ea3d96d-0', usage_metadata={'input_tokens': 31, 'output_tokens': 15, 'total_tokens': 46})"
      ]
     },
     "execution_count": 470,
     "metadata": {},
     "output_type": "execute_result"
    }
   ],
   "source": [
    "response2 = llm.invoke(message2)\n",
    "response2"
   ]
  },
  {
   "cell_type": "markdown",
   "id": "05e13583",
   "metadata": {},
   "source": [
    "### Using Output Perser"
   ]
  },
  {
   "cell_type": "code",
   "execution_count": 471,
   "id": "12bf2b6d",
   "metadata": {},
   "outputs": [],
   "source": [
    "from langchain_core.output_parsers import StrOutputParser"
   ]
  },
  {
   "cell_type": "code",
   "execution_count": 472,
   "id": "9b5604b9",
   "metadata": {},
   "outputs": [
    {
     "data": {
      "text/plain": [
       "\"I'd be happy to help you. Please share what's on your mind and what you need help with. Whether it's a question, a problem, or just someone to talk to, I'm here to listen and assist you in any way I can.\""
      ]
     },
     "execution_count": 472,
     "metadata": {},
     "output_type": "execute_result"
    }
   ],
   "source": [
    "parser = StrOutputParser()\n",
    "parser.invoke(response1)"
   ]
  },
  {
   "cell_type": "code",
   "execution_count": 473,
   "id": "7031fd80",
   "metadata": {},
   "outputs": [
    {
     "data": {
      "text/plain": [
       "\"I'd be happy to help you. What's on your mind?\""
      ]
     },
     "execution_count": 473,
     "metadata": {},
     "output_type": "execute_result"
    }
   ],
   "source": [
    "parser.invoke(response2)"
   ]
  },
  {
   "cell_type": "markdown",
   "id": "6bbba33c",
   "metadata": {},
   "source": [
    "### Chaining with LCEL\n",
    "- LangChain Expression Language (LCEL) &mdash; a concise syntax for composing and chaining together components (like models and output parsers) in LangChain workflows.LCEL"
   ]
  },
  {
   "cell_type": "code",
   "execution_count": 474,
   "id": "bd1930dd",
   "metadata": {},
   "outputs": [],
   "source": [
    "chain = llm | parser"
   ]
  },
  {
   "cell_type": "markdown",
   "id": "0fc29801",
   "metadata": {},
   "source": [
    "- The line `chain = llm | parser` creates a simple pipeline (chain) where the output of the language model (`llm`) is passed directly to the output parser (`parser`). This allows you to process a prompt through the model and automatically parse its response in a single step, making it easier to work with structured outputs in LangChain."
   ]
  },
  {
   "cell_type": "code",
   "execution_count": 475,
   "id": "872df89d",
   "metadata": {},
   "outputs": [
    {
     "data": {
      "text/plain": [
       "\"I'd be happy to help you. Please tell me what's on your mind and how I can assist you. Are you facing a problem, looking for information, or just need someone to talk to? I'm all ears!\""
      ]
     },
     "execution_count": 475,
     "metadata": {},
     "output_type": "execute_result"
    }
   ],
   "source": [
    "chain.invoke(message1)"
   ]
  },
  {
   "cell_type": "code",
   "execution_count": 476,
   "id": "96e2c09e",
   "metadata": {},
   "outputs": [
    {
     "data": {
      "text/plain": [
       "\"I'd be happy to help! What do you need help with?\""
      ]
     },
     "execution_count": 476,
     "metadata": {},
     "output_type": "execute_result"
    }
   ],
   "source": [
    "chain.invoke(message2)"
   ]
  },
  {
   "cell_type": "markdown",
   "id": "86599876",
   "metadata": {},
   "source": [
    "### Prompting with PromptTemplate"
   ]
  },
  {
   "cell_type": "code",
   "execution_count": 477,
   "id": "f333a5c8",
   "metadata": {},
   "outputs": [],
   "source": [
    "from langchain_core.prompts import ChatPromptTemplate"
   ]
  },
  {
   "cell_type": "code",
   "execution_count": 478,
   "id": "2e1b1f80",
   "metadata": {},
   "outputs": [],
   "source": [
    "promt_template = ChatPromptTemplate.from_messages(\n",
    "    [(\"system\", \"You give concise answer and Translate the following text to : {language}\"),\n",
    "     (\"human\", \"{text}\")]\n",
    ")\n",
    "    "
   ]
  },
  {
   "cell_type": "code",
   "execution_count": 479,
   "id": "410986b6",
   "metadata": {},
   "outputs": [],
   "source": [
    "prompt = promt_template.invoke({\"language\": \"Bengali\", \"text\": \"My name is Durjay.\"})"
   ]
  },
  {
   "cell_type": "code",
   "execution_count": 480,
   "id": "cb7b19e5",
   "metadata": {},
   "outputs": [
    {
     "data": {
      "text/plain": [
       "[SystemMessage(content='You give concise answer and Translate the following text to : Bengali', additional_kwargs={}, response_metadata={}),\n",
       " HumanMessage(content='My name is Durjay.', additional_kwargs={}, response_metadata={})]"
      ]
     },
     "execution_count": 480,
     "metadata": {},
     "output_type": "execute_result"
    }
   ],
   "source": [
    "prompt.to_messages()"
   ]
  },
  {
   "cell_type": "code",
   "execution_count": 481,
   "id": "5a37e423",
   "metadata": {},
   "outputs": [],
   "source": [
    "response = llm.invoke(prompt)"
   ]
  },
  {
   "cell_type": "code",
   "execution_count": 482,
   "id": "55e4d0f6",
   "metadata": {},
   "outputs": [
    {
     "data": {
      "text/plain": [
       "'My name is দুর্জ্জয় (Durjay).'"
      ]
     },
     "execution_count": 482,
     "metadata": {},
     "output_type": "execute_result"
    }
   ],
   "source": [
    "response.content"
   ]
  },
  {
   "cell_type": "markdown",
   "id": "8514955f",
   "metadata": {},
   "source": [
    "### Chaining"
   ]
  },
  {
   "cell_type": "code",
   "execution_count": 483,
   "id": "f3548f33",
   "metadata": {},
   "outputs": [],
   "source": [
    "chain = promt_template | llm | parser"
   ]
  },
  {
   "cell_type": "code",
   "execution_count": 484,
   "id": "3998c43f",
   "metadata": {},
   "outputs": [
    {
     "data": {
      "text/plain": [
       "'আমার নাম দুর্জয়।\\n\\nTranslation: Amāra nāma durjay.'"
      ]
     },
     "execution_count": 484,
     "metadata": {},
     "output_type": "execute_result"
    }
   ],
   "source": [
    "chain.invoke({\"language\": \"Bengali\", \"text\": \"My name is Durjay.\"})"
   ]
  },
  {
   "cell_type": "markdown",
   "id": "fcf54774",
   "metadata": {},
   "source": [
    "### Agent"
   ]
  },
  {
   "cell_type": "code",
   "execution_count": 559,
   "id": "d6eb85ba",
   "metadata": {},
   "outputs": [],
   "source": [
    "from langgraph.checkpoint.memory import MemorySaver\n",
    "from langgraph.prebuilt import create_react_agent\n",
    "\n",
    "from langchain_community.tools.tavily_search import TavilySearchResults\n",
    "from langchain_core.messages import AIMessage, HumanMessage"
   ]
  },
  {
   "cell_type": "code",
   "execution_count": 560,
   "id": "ddcb155c",
   "metadata": {},
   "outputs": [],
   "source": [
    "memory = MemorySaver()"
   ]
  },
  {
   "cell_type": "code",
   "execution_count": 561,
   "id": "a2a30ca9",
   "metadata": {},
   "outputs": [],
   "source": [
    "search = TavilySearchResults(max_results=2)"
   ]
  },
  {
   "cell_type": "code",
   "execution_count": 562,
   "id": "ed41aec4",
   "metadata": {},
   "outputs": [],
   "source": [
    "tools = [search]"
   ]
  },
  {
   "cell_type": "code",
   "execution_count": 563,
   "id": "e166d0f6",
   "metadata": {},
   "outputs": [],
   "source": [
    "agent_executor = create_react_agent(llm,tools, checkpointer=memory)"
   ]
  },
  {
   "cell_type": "code",
   "execution_count": 564,
   "id": "ab89937a",
   "metadata": {},
   "outputs": [],
   "source": [
    "config = {\"configurable\": {\"thread_id\": \"abc123\"}}"
   ]
  },
  {
   "cell_type": "code",
   "execution_count": 565,
   "id": "95a811bb",
   "metadata": {},
   "outputs": [
    {
     "name": "stdout",
     "output_type": "stream",
     "text": [
      "{'agent': {'messages': [AIMessage(content='', additional_kwargs={'tool_calls': [{'id': 'd1zwdf6cv', 'function': {'arguments': '{\"query\":\"Khulna\"}', 'name': 'tavily_search_results_json'}, 'type': 'function'}]}, response_metadata={'token_usage': {'completion_tokens': 72, 'prompt_tokens': 928, 'total_tokens': 1000, 'completion_time': 0.107112413, 'prompt_time': 0.330904778, 'queue_time': 0.27689512199999994, 'total_time': 0.438017191}, 'model_name': 'llama3-8b-8192', 'system_fingerprint': 'fp_0fb809dba3', 'service_tier': 'on_demand', 'finish_reason': 'tool_calls', 'logprobs': None}, id='run--c1b0d236-f11f-4da1-a995-bdfa1e441d63-0', tool_calls=[{'name': 'tavily_search_results_json', 'args': {'query': 'Khulna'}, 'id': 'd1zwdf6cv', 'type': 'tool_call'}], usage_metadata={'input_tokens': 928, 'output_tokens': 72, 'total_tokens': 1000})]}}\n",
      "----\n",
      "{'tools': {'messages': [ToolMessage(content='[{\"title\": \"Khulna - Wikipedia\", \"url\": \"https://en.wikipedia.org/wiki/Khulna\", \"content\": \"Khulna (Bengali: খুলনা, (/wiki/Help:IPA/Bengali \\\\\"Help:IPA/Bengali\\\\\")) is the third-largest city in Bangladesh, after Dhaka and Chittagong. It is the administrative centre of the Khulna District and the Khulna Division. It is the divisional centre of 10 districts of the division. Khulna is also the second largest port city of Bangladesh after Chittagong because of Port of Mongla. There is also a river port within the city named Port of Khulna. Khulna\\'s economy is mainly marine, sea port and local [...] Khulna is Bangladesh\\'s third-largest city, after Dhaka and Chittagong. It is in the southwestern part of the country, on the Rupsha and Bhairab Rivers. Even though the city corporation area is 45.65 square Kilometres, The total city area covers 150.57 square kilometres (58.14 sq mi), and Khulna District covers 4,394.46 square kilometres (1,696.71 sq mi). Khulna is south of Jessore and Narail District, east of Satkhira District, west of Bagerhat and north of the Bay of Bengal. It is part of the [...] Khulna is Bangladesh\\'s third-largest economic center. North of the Port of Mongla, it has a variety of industries. Major sectors are jute, chemicals, fish and seafood packaging, food processing, sugar milling, power generation and shipbuilding. The Khulna Chamber of Commerce and Industry (KCCI) regulates commerce through its Licensed Measurers\\' Department (LMD) and certification, attestation, and publicity departments. The region has an Export Processing Zone, attracting foreign investment. The\", \"score\": 0.9512194}, {\"title\": \"Khulna – Travel guide at Wikivoyage\", \"url\": \"https://en.wikivoyage.org/wiki/Khulna\", \"content\": \"Khulna is the third largest city of Bangladesh. It is the administrative capital city of Khulna Division in Southern Bangladesh. On the bank of Rupsha and Bhoirob river. It is renowned as an industrial city and a river port city. It is also the third most populous city in the country. It is known in Bangladesh for it’s economical importance and for The Sunderbans\\\\\"). Khulna is the gateway city of the Sundarbans \\\\\"Sundarbans (Bangladesh)\\\\\") which is the largest mangrove forest in the world.\", \"score\": 0.90771407}]', name='tavily_search_results_json', id='0787c658-7dd5-4776-8e3c-e154a7dffc01', tool_call_id='d1zwdf6cv', artifact={'query': 'Khulna', 'follow_up_questions': None, 'answer': None, 'images': [], 'results': [{'url': 'https://en.wikipedia.org/wiki/Khulna', 'title': 'Khulna - Wikipedia', 'content': 'Khulna (Bengali: খুলনা, (/wiki/Help:IPA/Bengali \"Help:IPA/Bengali\")) is the third-largest city in Bangladesh, after Dhaka and Chittagong. It is the administrative centre of the Khulna District and the Khulna Division. It is the divisional centre of 10 districts of the division. Khulna is also the second largest port city of Bangladesh after Chittagong because of Port of Mongla. There is also a river port within the city named Port of Khulna. Khulna\\'s economy is mainly marine, sea port and local [...] Khulna is Bangladesh\\'s third-largest city, after Dhaka and Chittagong. It is in the southwestern part of the country, on the Rupsha and Bhairab Rivers. Even though the city corporation area is 45.65 square Kilometres, The total city area covers 150.57 square kilometres (58.14 sq mi), and Khulna District covers 4,394.46 square kilometres (1,696.71 sq mi). Khulna is south of Jessore and Narail District, east of Satkhira District, west of Bagerhat and north of the Bay of Bengal. It is part of the [...] Khulna is Bangladesh\\'s third-largest economic center. North of the Port of Mongla, it has a variety of industries. Major sectors are jute, chemicals, fish and seafood packaging, food processing, sugar milling, power generation and shipbuilding. The Khulna Chamber of Commerce and Industry (KCCI) regulates commerce through its Licensed Measurers\\' Department (LMD) and certification, attestation, and publicity departments. The region has an Export Processing Zone, attracting foreign investment. The', 'score': 0.9512194, 'raw_content': None}, {'url': 'https://en.wikivoyage.org/wiki/Khulna', 'title': 'Khulna – Travel guide at Wikivoyage', 'content': 'Khulna is the third largest city of Bangladesh. It is the administrative capital city of Khulna Division in Southern Bangladesh. On the bank of Rupsha and Bhoirob river. It is renowned as an industrial city and a river port city. It is also the third most populous city in the country. It is known in Bangladesh for it’s economical importance and for The Sunderbans\"). Khulna is the gateway city of the Sundarbans \"Sundarbans (Bangladesh)\") which is the largest mangrove forest in the world.', 'score': 0.90771407, 'raw_content': None}], 'response_time': 1.4})]}}\n",
      "----\n",
      "{'agent': {'messages': [AIMessage(content='', additional_kwargs={'tool_calls': [{'id': 'h7hdp37va', 'function': {'arguments': '{\"query\":\"What is the economy of Khulna like?\"}', 'name': 'tavily_search_results_json'}, 'type': 'function'}]}, response_metadata={'token_usage': {'completion_tokens': 46, 'prompt_tokens': 1579, 'total_tokens': 1625, 'completion_time': 0.067872426, 'prompt_time': 0.175257723, 'queue_time': 0.277894847, 'total_time': 0.243130149}, 'model_name': 'llama3-8b-8192', 'system_fingerprint': 'fp_0fb809dba3', 'service_tier': 'on_demand', 'finish_reason': 'tool_calls', 'logprobs': None}, id='run--4030718a-3a05-4588-80f2-558c5099cc15-0', tool_calls=[{'name': 'tavily_search_results_json', 'args': {'query': 'What is the economy of Khulna like?'}, 'id': 'h7hdp37va', 'type': 'tool_call'}], usage_metadata={'input_tokens': 1579, 'output_tokens': 46, 'total_tokens': 1625})]}}\n",
      "----\n",
      "{'tools': {'messages': [ToolMessage(content='[{\"title\": \"Khulna - Wikipedia\", \"url\": \"https://en.wikipedia.org/wiki/Khulna\", \"content\": \"Khulna (Bengali: খুলনা, ( \\\\\"Help:IPA/Bengali\\\\\")) is the third-largest city in Bangladesh, after Dhaka and Chittagong.( It is the administrative centre of the Khulna District and the Khulna Division. It is the divisional centre of 10 districts of the division. Khulna is also the second largest port city of Bangladesh after Chittagong because of Port of Mongla. There is also a river port within the city named Port of Khulna. Khulna\\'s economy is mainly marine, sea port and local industry based and [...] Khulna is Bangladesh\\'s third-largest economic center. North of the Port of Mongla, it has a variety of industries. Major sectors are jute, chemicals, fish and seafood packaging, food processing, sugar milling, power generation and shipbuilding. The Khulna Chamber of Commerce and Industry (KCCI) regulates commerce through its Licensed Measurers\\' Department (LMD) and certification, attestation, and publicity departments. The region has an Export Processing Zone, attracting foreign investment. The [...] Khulna is on the Rupsha and Bhairab River, a strategic industrial point in southwestern Bangladesh. It is also an important industrial hub in Bangladeshi industry, hosting many of the nation\\'s largest companies. Khulna\\'s economy is affected by the Port of Mongla, Bangladesh\\'s second-largest seaport.\", \"score\": 0.88799405}, {\"title\": \"Manufacturing Companies in Khulna, Bangladesh - Dun & Bradstreet\", \"url\": \"https://www.dnb.com/business-directory/company-information.manufacturing.bd.na.khulna.html\", \"content\": \"KHULNA SHIPYARD LIMITED · FRESH FOODS LIMITED · MODERN SEA FOOD INDUSTRIES LTD. · SOBI FISH PROCESSING INDUSTRIES LIMITED · ATLAS SEA FOOD LIMITED · CRIMSON ROSELLA\", \"score\": 0.124457784}]', name='tavily_search_results_json', id='69462a22-e09f-4863-a0e4-06a8b2a0bb0d', tool_call_id='h7hdp37va', artifact={'query': 'What is the economy of Khulna like?', 'follow_up_questions': None, 'answer': None, 'images': [], 'results': [{'url': 'https://en.wikipedia.org/wiki/Khulna', 'title': 'Khulna - Wikipedia', 'content': 'Khulna (Bengali: খুলনা, ( \"Help:IPA/Bengali\")) is the third-largest city in Bangladesh, after Dhaka and Chittagong.( It is the administrative centre of the Khulna District and the Khulna Division. It is the divisional centre of 10 districts of the division. Khulna is also the second largest port city of Bangladesh after Chittagong because of Port of Mongla. There is also a river port within the city named Port of Khulna. Khulna\\'s economy is mainly marine, sea port and local industry based and [...] Khulna is Bangladesh\\'s third-largest economic center. North of the Port of Mongla, it has a variety of industries. Major sectors are jute, chemicals, fish and seafood packaging, food processing, sugar milling, power generation and shipbuilding. The Khulna Chamber of Commerce and Industry (KCCI) regulates commerce through its Licensed Measurers\\' Department (LMD) and certification, attestation, and publicity departments. The region has an Export Processing Zone, attracting foreign investment. The [...] Khulna is on the Rupsha and Bhairab River, a strategic industrial point in southwestern Bangladesh. It is also an important industrial hub in Bangladeshi industry, hosting many of the nation\\'s largest companies. Khulna\\'s economy is affected by the Port of Mongla, Bangladesh\\'s second-largest seaport.', 'score': 0.88799405, 'raw_content': None}, {'url': 'https://www.dnb.com/business-directory/company-information.manufacturing.bd.na.khulna.html', 'title': 'Manufacturing Companies in Khulna, Bangladesh - Dun & Bradstreet', 'content': 'KHULNA SHIPYARD LIMITED · FRESH FOODS LIMITED · MODERN SEA FOOD INDUSTRIES LTD. · SOBI FISH PROCESSING INDUSTRIES LIMITED · ATLAS SEA FOOD LIMITED · CRIMSON ROSELLA', 'score': 0.124457784, 'raw_content': None}], 'response_time': 3.56})]}}\n",
      "----\n",
      "{'agent': {'messages': [AIMessage(content='', additional_kwargs={'tool_calls': [{'id': '5v2t9k0cc', 'function': {'arguments': '{\"query\":\"What are the industries present in Khulna?\"}', 'name': 'tavily_search_results_json'}, 'type': 'function'}]}, response_metadata={'token_usage': {'completion_tokens': 52, 'prompt_tokens': 2108, 'total_tokens': 2160, 'completion_time': 0.062744652, 'prompt_time': 0.560314276, 'queue_time': 0.3025933719999999, 'total_time': 0.623058928}, 'model_name': 'llama3-8b-8192', 'system_fingerprint': 'fp_5b339000ab', 'service_tier': 'on_demand', 'finish_reason': 'tool_calls', 'logprobs': None}, id='run--e643bbc0-9ed6-4fc4-b662-e2cacf259098-0', tool_calls=[{'name': 'tavily_search_results_json', 'args': {'query': 'What are the industries present in Khulna?'}, 'id': '5v2t9k0cc', 'type': 'tool_call'}], usage_metadata={'input_tokens': 2108, 'output_tokens': 52, 'total_tokens': 2160})]}}\n",
      "----\n",
      "{'tools': {'messages': [ToolMessage(content='[{\"title\": \"Khulna - Wikipedia\", \"url\": \"https://en.wikipedia.org/wiki/Khulna\", \"content\": \"Khulna is Bangladesh\\'s third-largest economic center. North of the Port of Mongla, it has a variety of industries. Major sectors are jute, chemicals, fish and seafood packaging, food processing, sugar milling, power generation and shipbuilding. The Khulna Chamber of Commerce and Industry (KCCI) regulates commerce through its Licensed Measurers\\' Department (LMD) and certification, attestation, and publicity departments. The region has an Export Processing Zone, attracting foreign investment. The [...] Khulna (Bengali: খুলনা, ( \\\\\"Help:IPA/Bengali\\\\\")) is the third-largest city in Bangladesh, after Dhaka and Chittagong.( It is the administrative centre of the Khulna District and the Khulna Division. It is the divisional centre of 10 districts of the division. Khulna is also the second largest port city of Bangladesh after Chittagong because of Port of Mongla. There is also a river port within the city named Port of Khulna. Khulna\\'s economy is mainly marine, sea port and local industry based and [...] Khulna is on the Rupsha and Bhairab River, a strategic industrial point in southwestern Bangladesh. It is also an important industrial hub in Bangladeshi industry, hosting many of the nation\\'s largest companies. Khulna\\'s economy is affected by the Port of Mongla, Bangladesh\\'s second-largest seaport.\", \"score\": 0.93295}, {\"title\": \"Manufacturing Companies in Khulna, Bangladesh - Dun & Bradstreet\", \"url\": \"https://www.dnb.com/business-directory/company-information.manufacturing.bd.na.khulna.html\", \"content\": \"KHULNA SHIPYARD LIMITED · FRESH FOODS LIMITED · MODERN SEA FOOD INDUSTRIES LTD. · SOBI FISH PROCESSING INDUSTRIES LIMITED · ATLAS SEA FOOD LIMITED · CRIMSON ROSELLA\", \"score\": 0.74785584}]', name='tavily_search_results_json', id='5b3bb8f2-644f-44c6-9c78-b04d94f1e090', tool_call_id='5v2t9k0cc', artifact={'query': 'What are the industries present in Khulna?', 'follow_up_questions': None, 'answer': None, 'images': [], 'results': [{'url': 'https://en.wikipedia.org/wiki/Khulna', 'title': 'Khulna - Wikipedia', 'content': 'Khulna is Bangladesh\\'s third-largest economic center. North of the Port of Mongla, it has a variety of industries. Major sectors are jute, chemicals, fish and seafood packaging, food processing, sugar milling, power generation and shipbuilding. The Khulna Chamber of Commerce and Industry (KCCI) regulates commerce through its Licensed Measurers\\' Department (LMD) and certification, attestation, and publicity departments. The region has an Export Processing Zone, attracting foreign investment. The [...] Khulna (Bengali: খুলনা, ( \"Help:IPA/Bengali\")) is the third-largest city in Bangladesh, after Dhaka and Chittagong.( It is the administrative centre of the Khulna District and the Khulna Division. It is the divisional centre of 10 districts of the division. Khulna is also the second largest port city of Bangladesh after Chittagong because of Port of Mongla. There is also a river port within the city named Port of Khulna. Khulna\\'s economy is mainly marine, sea port and local industry based and [...] Khulna is on the Rupsha and Bhairab River, a strategic industrial point in southwestern Bangladesh. It is also an important industrial hub in Bangladeshi industry, hosting many of the nation\\'s largest companies. Khulna\\'s economy is affected by the Port of Mongla, Bangladesh\\'s second-largest seaport.', 'score': 0.93295, 'raw_content': None}, {'url': 'https://www.dnb.com/business-directory/company-information.manufacturing.bd.na.khulna.html', 'title': 'Manufacturing Companies in Khulna, Bangladesh - Dun & Bradstreet', 'content': 'KHULNA SHIPYARD LIMITED · FRESH FOODS LIMITED · MODERN SEA FOOD INDUSTRIES LTD. · SOBI FISH PROCESSING INDUSTRIES LIMITED · ATLAS SEA FOOD LIMITED · CRIMSON ROSELLA', 'score': 0.74785584, 'raw_content': None}], 'response_time': 4.1})]}}\n",
      "----\n",
      "{'agent': {'messages': [AIMessage(content=\"Hi Durjay! So, from the Wikipedia article, we know that Khulna has a variety of industries, including jute, chemicals, fish and seafood packaging, food processing, sugar milling, power generation, and shipbuilding. We also know that the city is an important industrial hub in Bangladesh, hosting many of the nation's largest companies. Additionally, the article mentions that the city's economy is affected by the Port of Mongla, Bangladesh's second-largest seaport. \\n\\nFrom the Dun & Bradstreet page, we can see some of the manufacturing companies present in Khulna, including Khulna Shipyards Limited, Fresh Foods Limited, and Modern Sea Food Industries Ltd. \\n\\nSo, to summarize, Khulna has a diverse range of industries, and it is an important industrial hub in Bangladesh.\", additional_kwargs={}, response_metadata={'token_usage': {'completion_tokens': 167, 'prompt_tokens': 2640, 'total_tokens': 2807, 'completion_time': 0.247306083, 'prompt_time': 0.372408418, 'queue_time': 0.273746163, 'total_time': 0.619714501}, 'model_name': 'llama3-8b-8192', 'system_fingerprint': 'fp_0fb809dba3', 'service_tier': 'on_demand', 'finish_reason': 'stop', 'logprobs': None}, id='run--344f0b31-5204-4da2-9f0b-7783a9494e42-0', usage_metadata={'input_tokens': 2640, 'output_tokens': 167, 'total_tokens': 2807})]}}\n",
      "----\n"
     ]
    }
   ],
   "source": [
    "for chunk in agent_executor.stream({\"messages\":[HumanMessage(content=\"hi im Durjay! and i live in Khulna\")]}, config):\n",
    "    print(chunk)\n",
    "    print(\"----\")"
   ]
  },
  {
   "cell_type": "code",
   "execution_count": 566,
   "id": "bd9e758f",
   "metadata": {},
   "outputs": [
    {
     "name": "stdout",
     "output_type": "stream",
     "text": [
      "{'agent': {'messages': [AIMessage(content='Your local language is Bengali.', additional_kwargs={}, response_metadata={'token_usage': {'completion_tokens': 8, 'prompt_tokens': 2821, 'total_tokens': 2829, 'completion_time': 0.01055421, 'prompt_time': 0.821808697, 'queue_time': 0.27642795499999995, 'total_time': 0.832362907}, 'model_name': 'llama3-8b-8192', 'system_fingerprint': 'fp_5b339000ab', 'service_tier': 'on_demand', 'finish_reason': 'stop', 'logprobs': None}, id='run--10e23cbc-b66c-4eae-ad68-bd19e36311d7-0', usage_metadata={'input_tokens': 2821, 'output_tokens': 8, 'total_tokens': 2829})]}}\n",
      "----\n"
     ]
    }
   ],
   "source": [
    "for chunk in agent_executor.stream({\"messages\": [HumanMessage(content=\"Whats my local language?\")]}, config):\n",
    "    print(chunk)\n",
    "    print(\"----\")"
   ]
  }
 ],
 "metadata": {
  "kernelspec": {
   "display_name": "Python 3",
   "language": "python",
   "name": "python3"
  },
  "language_info": {
   "codemirror_mode": {
    "name": "ipython",
    "version": 3
   },
   "file_extension": ".py",
   "mimetype": "text/x-python",
   "name": "python",
   "nbconvert_exporter": "python",
   "pygments_lexer": "ipython3",
   "version": "3.12.11"
  }
 },
 "nbformat": 4,
 "nbformat_minor": 5
}
